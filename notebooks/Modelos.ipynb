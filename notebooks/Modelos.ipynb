{
  "cells": [
    {
      "cell_type": "markdown",
      "metadata": {
        "id": "HbfDCmJSXQrV"
      },
      "source": [
        "# Modelos de Machine learn"
      ]
    },
    {
      "cell_type": "markdown",
      "metadata": {},
      "source": [
        "## Importações, classes e funções"
      ]
    },
    {
      "cell_type": "code",
      "execution_count": 1,
      "metadata": {
        "id": "H-fvLys66xqy"
      },
      "outputs": [],
      "source": [
        "# Importaçãoes \n",
        "import pandas as pd\n",
        "import warnings\n",
        "import six\n",
        "import sys\n",
        "import numpy as np\n",
        "import matplotlib.pyplot as plt\n",
        "from sklearn.model_selection import train_test_split\n",
        "from sklearn.metrics import roc_auc_score, classification_report, plot_confusion_matrix\n",
        "from sklearn.preprocessing import OneHotEncoder\n",
        "from sklearn.preprocessing import MinMaxScaler\n",
        "from sklearn.base import BaseEstimator, TransformerMixin\n",
        "from sklearn.linear_model import LogisticRegression\n",
        "from sklearn.dummy import DummyClassifier\n",
        "from sklearn.ensemble import RandomForestClassifier\n",
        "from sklearn.pipeline import Pipeline\n",
        "from imblearn.pipeline import Pipeline\n",
        "from imblearn.over_sampling import SMOTE\n",
        "from sklearn.neighbors import KNeighborsClassifier\n",
        "from sklearn.tree import DecisionTreeClassifier\n",
        "from sklearn.model_selection import RandomizedSearchCV\n",
        "from sklearn.model_selection import GridSearchCV\n",
        "from scipy import stats\n",
        "from joblib import dump\n",
        "sys.modules['sklearn.externals.six'] = six\n",
        "warnings.filterwarnings('ignore')"
      ]
    },
    {
      "cell_type": "code",
      "execution_count": 2,
      "metadata": {
        "id": "uHwiCVwg95P3"
      },
      "outputs": [],
      "source": [
        "url='https://raw.githubusercontent.com/HammadN98/Melhor_ML/main/Dados/output.csv?token=GHSAT0AAAAAABP24NKNP3HZU6LDYKTOYKS6YS3FMHQ'"
      ]
    },
    {
      "cell_type": "code",
      "execution_count": 3,
      "metadata": {
        "colab": {
          "base_uri": "https://localhost:8080/",
          "height": 678
        },
        "id": "ycoHamgKI6mh",
        "outputId": "436c4074-a128-42aa-d5cc-7f641954a50b"
      },
      "outputs": [
        {
          "data": {
            "text/html": [
              "<div>\n",
              "<style scoped>\n",
              "    .dataframe tbody tr th:only-of-type {\n",
              "        vertical-align: middle;\n",
              "    }\n",
              "\n",
              "    .dataframe tbody tr th {\n",
              "        vertical-align: top;\n",
              "    }\n",
              "\n",
              "    .dataframe thead th {\n",
              "        text-align: right;\n",
              "    }\n",
              "</style>\n",
              "<table border=\"1\" class=\"dataframe\">\n",
              "  <thead>\n",
              "    <tr style=\"text-align: right;\">\n",
              "      <th></th>\n",
              "      <th>Unnamed: 0</th>\n",
              "      <th>ID_Cliente</th>\n",
              "      <th>Idade</th>\n",
              "      <th>Qtd_Filhos</th>\n",
              "      <th>Rendimento_Anual</th>\n",
              "      <th>Anos_empregado</th>\n",
              "      <th>Tamanho_Familia</th>\n",
              "      <th>Tem_Carro</th>\n",
              "      <th>Tem_Casa_Propria</th>\n",
              "      <th>Tem_telefone_trabalho</th>\n",
              "      <th>Tem_telefone_fixo</th>\n",
              "      <th>Tem_email</th>\n",
              "      <th>Categoria_de_renda</th>\n",
              "      <th>Grau_Escolaridade</th>\n",
              "      <th>Estado_Civil</th>\n",
              "      <th>Moradia</th>\n",
              "      <th>Ocupacao</th>\n",
              "      <th>Mau</th>\n",
              "    </tr>\n",
              "  </thead>\n",
              "  <tbody>\n",
              "    <tr>\n",
              "      <th>0</th>\n",
              "      <td>0</td>\n",
              "      <td>5008806</td>\n",
              "      <td>59.0</td>\n",
              "      <td>0</td>\n",
              "      <td>112500.0</td>\n",
              "      <td>3.1</td>\n",
              "      <td>2.0</td>\n",
              "      <td>1</td>\n",
              "      <td>1</td>\n",
              "      <td>0</td>\n",
              "      <td>0</td>\n",
              "      <td>0</td>\n",
              "      <td>Empregado</td>\n",
              "      <td>Ensino medio</td>\n",
              "      <td>Casado</td>\n",
              "      <td>Casa propria</td>\n",
              "      <td>Seguranca</td>\n",
              "      <td>0</td>\n",
              "    </tr>\n",
              "    <tr>\n",
              "      <th>1</th>\n",
              "      <td>1</td>\n",
              "      <td>5008810</td>\n",
              "      <td>52.0</td>\n",
              "      <td>0</td>\n",
              "      <td>270000.0</td>\n",
              "      <td>8.4</td>\n",
              "      <td>1.0</td>\n",
              "      <td>0</td>\n",
              "      <td>1</td>\n",
              "      <td>0</td>\n",
              "      <td>1</td>\n",
              "      <td>1</td>\n",
              "      <td>Associado comercial</td>\n",
              "      <td>Ensino medio</td>\n",
              "      <td>Solteiro</td>\n",
              "      <td>Casa propria</td>\n",
              "      <td>Venda</td>\n",
              "      <td>0</td>\n",
              "    </tr>\n",
              "    <tr>\n",
              "      <th>2</th>\n",
              "      <td>2</td>\n",
              "      <td>5008811</td>\n",
              "      <td>52.0</td>\n",
              "      <td>0</td>\n",
              "      <td>270000.0</td>\n",
              "      <td>8.4</td>\n",
              "      <td>1.0</td>\n",
              "      <td>0</td>\n",
              "      <td>1</td>\n",
              "      <td>0</td>\n",
              "      <td>1</td>\n",
              "      <td>1</td>\n",
              "      <td>Associado comercial</td>\n",
              "      <td>Ensino medio</td>\n",
              "      <td>Solteiro</td>\n",
              "      <td>Casa propria</td>\n",
              "      <td>Venda</td>\n",
              "      <td>0</td>\n",
              "    </tr>\n",
              "    <tr>\n",
              "      <th>3</th>\n",
              "      <td>3</td>\n",
              "      <td>5008812</td>\n",
              "      <td>62.0</td>\n",
              "      <td>0</td>\n",
              "      <td>283500.0</td>\n",
              "      <td>-1.0</td>\n",
              "      <td>1.0</td>\n",
              "      <td>0</td>\n",
              "      <td>1</td>\n",
              "      <td>0</td>\n",
              "      <td>0</td>\n",
              "      <td>0</td>\n",
              "      <td>Pensionista</td>\n",
              "      <td>Ensino superior</td>\n",
              "      <td>Separado</td>\n",
              "      <td>Casa propria</td>\n",
              "      <td>Outros</td>\n",
              "      <td>0</td>\n",
              "    </tr>\n",
              "    <tr>\n",
              "      <th>4</th>\n",
              "      <td>4</td>\n",
              "      <td>5008813</td>\n",
              "      <td>62.0</td>\n",
              "      <td>0</td>\n",
              "      <td>283500.0</td>\n",
              "      <td>-1.0</td>\n",
              "      <td>1.0</td>\n",
              "      <td>0</td>\n",
              "      <td>1</td>\n",
              "      <td>0</td>\n",
              "      <td>0</td>\n",
              "      <td>0</td>\n",
              "      <td>Pensionista</td>\n",
              "      <td>Ensino superior</td>\n",
              "      <td>Separado</td>\n",
              "      <td>Casa propria</td>\n",
              "      <td>Outros</td>\n",
              "      <td>0</td>\n",
              "    </tr>\n",
              "  </tbody>\n",
              "</table>\n",
              "</div>"
            ],
            "text/plain": [
              "   Unnamed: 0  ID_Cliente  Idade  Qtd_Filhos  Rendimento_Anual  \\\n",
              "0           0     5008806   59.0           0          112500.0   \n",
              "1           1     5008810   52.0           0          270000.0   \n",
              "2           2     5008811   52.0           0          270000.0   \n",
              "3           3     5008812   62.0           0          283500.0   \n",
              "4           4     5008813   62.0           0          283500.0   \n",
              "\n",
              "   Anos_empregado  Tamanho_Familia  Tem_Carro  Tem_Casa_Propria  \\\n",
              "0             3.1              2.0          1                 1   \n",
              "1             8.4              1.0          0                 1   \n",
              "2             8.4              1.0          0                 1   \n",
              "3            -1.0              1.0          0                 1   \n",
              "4            -1.0              1.0          0                 1   \n",
              "\n",
              "   Tem_telefone_trabalho  Tem_telefone_fixo  Tem_email   Categoria_de_renda  \\\n",
              "0                      0                  0          0            Empregado   \n",
              "1                      0                  1          1  Associado comercial   \n",
              "2                      0                  1          1  Associado comercial   \n",
              "3                      0                  0          0          Pensionista   \n",
              "4                      0                  0          0          Pensionista   \n",
              "\n",
              "  Grau_Escolaridade Estado_Civil       Moradia   Ocupacao  Mau  \n",
              "0      Ensino medio       Casado  Casa propria  Seguranca    0  \n",
              "1      Ensino medio     Solteiro  Casa propria      Venda    0  \n",
              "2      Ensino medio     Solteiro  Casa propria      Venda    0  \n",
              "3   Ensino superior     Separado  Casa propria     Outros    0  \n",
              "4   Ensino superior     Separado  Casa propria     Outros    0  "
            ]
          },
          "execution_count": 3,
          "metadata": {},
          "output_type": "execute_result"
        }
      ],
      "source": [
        "df_registro_clientes_targets = pd.read_csv(url)\n",
        "df_registro_clientes_targets.head()"
      ]
    },
    {
      "cell_type": "code",
      "execution_count": 5,
      "metadata": {
        "id": "SCUNsGxZImp5"
      },
      "outputs": [],
      "source": [
        "# Definição das categorias\n",
        "colunas_categoricas = ['Tem_Carro',\n",
        " 'Tem_Casa_Propria',\n",
        " 'Categoria_de_renda',\n",
        " 'Grau_Escolaridade',\n",
        " 'Estado_Civil',\n",
        " 'Moradia',\n",
        " 'Tem_telefone_trabalho',\n",
        " 'Tem_telefone_fixo',\n",
        " 'Tem_email',\n",
        " 'Ocupacao']\n",
        "\n",
        "colunas_quantitativas = ['Idade','Qtd_Filhos','Rendimento_Anual','Anos_empregado','Tamanho_Familia']\n",
        "\n",
        "colunas_categoricas_nao_binarias = ['Categoria_de_renda','Grau_Escolaridade','Estado_Civil','Moradia','Ocupacao']\n",
        "\n"
      ]
    },
    {
      "cell_type": "markdown",
      "metadata": {},
      "source": [
        "A função roda modelo que será usada para rodar o modelo escolido após os pipelines."
      ]
    },
    {
      "cell_type": "code",
      "execution_count": 6,
      "metadata": {
        "id": "YC8WGsQJ6xqy"
      },
      "outputs": [],
      "source": [
        "SEED = 1561651\n",
        "def roda_modelo(modelo, dados):\n",
        "\n",
        "    # separando dados em x e y, e tambem removendo a coluna de ID_cliente\n",
        "    x = dados.drop(['ID_Cliente', 'Mau'], axis=1)\n",
        "    y = dados.drop('ID_Cliente', axis=1)['Mau']\n",
        "    \n",
        "    # Separando dados em treino e teste\n",
        "    x_train, x_test, y_train, y_test = train_test_split(x, y, stratify=y, random_state=SEED)\n",
        "\n",
        "    # Treinando modelo com os dados de treino\n",
        "    modelo.fit(x_train, y_train)\n",
        "\n",
        "    # Calculando a probabilidade e calculando o AUC\n",
        "    prob_predic = modelo.predict_proba(x_test)\n",
        "    auc = roc_auc_score(y_test, prob_predic[:,1])\n",
        "    print(f\"AUC {auc}\")\n",
        "    \n",
        "    # Separando a probabilidade de ser bom e mau, e calculando o KS\n",
        "    data_bom = np.sort(modelo.predict_proba(x_test)[:, 1])\n",
        "    data_mau = np.sort(modelo.predict_proba(x_test)[:, 0])\n",
        "    kstest = stats.ks_2samp(data_bom, data_mau)\n",
        "    print(f\"KS {kstest}\")\n",
        "\n",
        "    # Criando matriz de confusão\n",
        "    matriz_confusao = plot_confusion_matrix(modelo, x_test, y_test, values_format='.0f', display_labels=['Bons', 'Maus'])\n",
        "    plt.grid(False)    \n",
        "    plt.show(matriz_confusao)\n",
        "\n",
        "    # Fazendo a predicao dos dados de teste e calculando o classification report\n",
        "    predicao = modelo.predict(x_test)\n",
        "    print(\"\\nClassification Report\")\n",
        "    print(classification_report(y_test, predicao, zero_division=0))"
      ]
    },
    {
      "cell_type": "markdown",
      "metadata": {},
      "source": [
        "A Classe Trasnformador que ira fazer as tranformações necessarios para os dados se encaixarem nos modelos."
      ]
    },
    {
      "cell_type": "code",
      "execution_count": 7,
      "metadata": {
        "id": "826T6vG_6xqz"
      },
      "outputs": [
        {
          "data": {
            "text/plain": [
              "Transformador(colunas_categoricas=['Tem_Carro', 'Tem_Casa_Propria',\n",
              "                                   'Categoria_de_renda', 'Grau_Escolaridade',\n",
              "                                   'Estado_Civil', 'Moradia',\n",
              "                                   'Tem_telefone_trabalho', 'Tem_telefone_fixo',\n",
              "                                   'Tem_email', 'Ocupacao'],\n",
              "              colunas_quantitativas=['Idade', 'Qtd_Filhos', 'Rendimento_Anual',\n",
              "                                     'Anos_empregado', 'Tamanho_Familia'])"
            ]
          },
          "execution_count": 7,
          "metadata": {},
          "output_type": "execute_result"
        }
      ],
      "source": [
        "# PEP8 padrão CamelCase\n",
        "class Transformador(BaseEstimator, TransformerMixin):\n",
        "    def __init__( self, colunas_quantitativas, colunas_categoricas):\n",
        "        self.colunas_quantitativas = colunas_quantitativas\n",
        "        self.colunas_categoricas = colunas_categoricas\n",
        "        self.enc = OneHotEncoder()\n",
        "        self.scaler = MinMaxScaler()\n",
        "\n",
        "    def fit(self, X, y = None ):\n",
        "        self.enc.fit(X[self.colunas_categoricas])\n",
        "        self.scaler.fit(X[self.colunas_quantitativas])\n",
        "        return self \n",
        "\n",
        "    def transform(self, X, y = None):\n",
        "      \n",
        "      X_categoricas = pd.DataFrame(data=self.enc.transform(X[self.colunas_categoricas]).toarray(),\n",
        "                                  columns= self.enc.get_feature_names(self.colunas_categoricas))\n",
        "      \n",
        "      X_quantitativas = pd.DataFrame(data=self.scaler.transform(X[self.colunas_quantitativas]),\n",
        "                                  columns= self.colunas_quantitativas)\n",
        "      \n",
        "      X = pd.concat([X_quantitativas, X_categoricas], axis=1)\n",
        "\n",
        "      return X\n",
        "Transformador(colunas_quantitativas, colunas_categoricas) \n"
      ]
    },
    {
      "cell_type": "markdown",
      "metadata": {
        "id": "UQEgD7xNCT2z"
      },
      "source": [
        "## Inicio das modelagens\n",
        "\n",
        "Comecei com modelos basicos e sem parametros"
      ]
    },
    {
      "cell_type": "code",
      "execution_count": 8,
      "metadata": {
        "id": "164AUZ-y6xqz"
      },
      "outputs": [
        {
          "name": "stdout",
          "output_type": "stream",
          "text": [
            "AUC 0.5\n",
            "KS KstestResult(statistic=1.0, pvalue=0.0)\n"
          ]
        },
        {
          "data": {
            "image/png": "[encoded data removed]",
            "text/plain": [
              "<Figure size 432x288 with 2 Axes>"
            ]
          },
          "metadata": {
            "needs_background": "light"
          },
          "output_type": "display_data"
        },
        {
          "name": "stdout",
          "output_type": "stream",
          "text": [
            "\n",
            "Classification Report\n",
            "              precision    recall  f1-score   support\n",
            "\n",
            "           0       0.98      1.00      0.99      5557\n",
            "           1       0.00      0.00      0.00       129\n",
            "\n",
            "    accuracy                           0.98      5686\n",
            "   macro avg       0.49      0.50      0.49      5686\n",
            "weighted avg       0.96      0.98      0.97      5686\n",
            "\n"
          ]
        }
      ],
      "source": [
        "# Modelo base \n",
        "pipeline = Pipeline([('Transformador', Transformador(colunas_quantitativas, colunas_categoricas)),\n",
        "                     ('Modelo', DummyClassifier(strategy='prior'))])   \n",
        "roda_modelo(pipeline, df_registro_clientes_targets)"
      ]
    },
    {
      "cell_type": "markdown",
      "metadata": {},
      "source": [
        "A seguir irei rodar uma lista de modelos para serem executados e comparados.\n",
        "<br>Sendo eles os algoritimos: KNeighborsClassifier, LogisticRegression, DecisionTreeClassifier e RandomForestClassifier."
      ]
    },
    {
      "cell_type": "code",
      "execution_count": 9,
      "metadata": {
        "id": "ciZRk_gQdUqy"
      },
      "outputs": [
        {
          "name": "stdout",
          "output_type": "stream",
          "text": [
            "KNeighborsClassifier()\n",
            "AUC 0.7181172430051908\n",
            "KS KstestResult(statistic=0.8100597959901512, pvalue=0.0)\n"
          ]
        },
        {
          "data": {
            "image/png": "[encoded data removed]",
            "text/plain": [
              "<Figure size 432x288 with 2 Axes>"
            ]
          },
          "metadata": {
            "needs_background": "light"
          },
          "output_type": "display_data"
        },
        {
          "name": "stdout",
          "output_type": "stream",
          "text": [
            "\n",
            "Classification Report\n",
            "              precision    recall  f1-score   support\n",
            "\n",
            "           0       0.99      0.91      0.95      5557\n",
            "           1       0.11      0.45      0.17       129\n",
            "\n",
            "    accuracy                           0.90      5686\n",
            "   macro avg       0.55      0.68      0.56      5686\n",
            "weighted avg       0.97      0.90      0.93      5686\n",
            "\n",
            "LogisticRegression(random_state=1561651)\n",
            "AUC 0.5817301455110043\n",
            "KS KstestResult(statistic=0.1290889905029898, pvalue=1.09559025330554e-41)\n"
          ]
        },
        {
          "data": {
            "image/png": "[encoded data removed]",
            "text/plain": [
              "<Figure size 432x288 with 2 Axes>"
            ]
          },
          "metadata": {
            "needs_background": "light"
          },
          "output_type": "display_data"
        },
        {
          "name": "stdout",
          "output_type": "stream",
          "text": [
            "\n",
            "Classification Report\n",
            "              precision    recall  f1-score   support\n",
            "\n",
            "           0       0.98      0.55      0.70      5557\n",
            "           1       0.03      0.58      0.06       129\n",
            "\n",
            "    accuracy                           0.55      5686\n",
            "   macro avg       0.51      0.56      0.38      5686\n",
            "weighted avg       0.96      0.55      0.69      5686\n",
            "\n",
            "DecisionTreeClassifier(random_state=1561651)\n",
            "AUC 0.7538519054813191\n",
            "KS KstestResult(statistic=0.9456559971860711, pvalue=0.0)\n"
          ]
        },
        {
          "data": {
            "image/png": "[encoded data removed]",
            "text/plain": [
              "<Figure size 432x288 with 2 Axes>"
            ]
          },
          "metadata": {
            "needs_background": "light"
          },
          "output_type": "display_data"
        },
        {
          "name": "stdout",
          "output_type": "stream",
          "text": [
            "\n",
            "Classification Report\n",
            "              precision    recall  f1-score   support\n",
            "\n",
            "           0       0.99      0.98      0.98      5557\n",
            "           1       0.36      0.39      0.37       129\n",
            "\n",
            "    accuracy                           0.97      5686\n",
            "   macro avg       0.67      0.69      0.68      5686\n",
            "weighted avg       0.97      0.97      0.97      5686\n",
            "\n",
            "RandomForestClassifier(random_state=1561651)\n",
            "AUC 0.8275336784529046\n",
            "KS KstestResult(statistic=0.9657052409426662, pvalue=0.0)\n"
          ]
        },
        {
          "data": {
            "image/png": "[encoded data removed]",
            "text/plain": [
              "<Figure size 432x288 with 2 Axes>"
            ]
          },
          "metadata": {
            "needs_background": "light"
          },
          "output_type": "display_data"
        },
        {
          "name": "stdout",
          "output_type": "stream",
          "text": [
            "\n",
            "Classification Report\n",
            "              precision    recall  f1-score   support\n",
            "\n",
            "           0       0.99      0.99      0.99      5557\n",
            "           1       0.48      0.36      0.41       129\n",
            "\n",
            "    accuracy                           0.98      5686\n",
            "   macro avg       0.73      0.68      0.70      5686\n",
            "weighted avg       0.97      0.98      0.98      5686\n",
            "\n"
          ]
        }
      ],
      "source": [
        "classifiers_list = [\n",
        "    KNeighborsClassifier(5),\n",
        "    LogisticRegression(random_state=SEED),\n",
        "    DecisionTreeClassifier(random_state=SEED),\n",
        "    RandomForestClassifier(random_state=SEED),\n",
        "]\n",
        "\n",
        "for classifier in classifiers_list:\n",
        "   pipe = Pipeline(steps=[('Transformador', Transformador(colunas_quantitativas, colunas_categoricas)), \n",
        "   ('sampling', SMOTE(random_state=SEED)), (\"classifier\", classifier)])\n",
        "   print(classifier)\n",
        "   roda_modelo(pipe, df_registro_clientes_targets)"
      ]
    },
    {
      "cell_type": "code",
      "execution_count": 10,
      "metadata": {},
      "outputs": [
        {
          "data": {
            "text/html": [
              "<div>\n",
              "<style scoped>\n",
              "    .dataframe tbody tr th:only-of-type {\n",
              "        vertical-align: middle;\n",
              "    }\n",
              "\n",
              "    .dataframe tbody tr th {\n",
              "        vertical-align: top;\n",
              "    }\n",
              "\n",
              "    .dataframe thead th {\n",
              "        text-align: right;\n",
              "    }\n",
              "</style>\n",
              "<table border=\"1\" class=\"dataframe\">\n",
              "  <thead>\n",
              "    <tr style=\"text-align: right;\">\n",
              "      <th></th>\n",
              "      <th>Modelos</th>\n",
              "      <th>AUC</th>\n",
              "      <th>KS</th>\n",
              "      <th>BonsXBons</th>\n",
              "      <th>BonsXMaus</th>\n",
              "      <th>MausXBons</th>\n",
              "      <th>MausXMaus</th>\n",
              "      <th>acc</th>\n",
              "      <th>precision 0</th>\n",
              "      <th>precision 1</th>\n",
              "    </tr>\n",
              "  </thead>\n",
              "  <tbody>\n",
              "    <tr>\n",
              "      <th>0</th>\n",
              "      <td>KNeighborsClassifier(5)</td>\n",
              "      <td>NaN</td>\n",
              "      <td>NaN</td>\n",
              "      <td>5074</td>\n",
              "      <td>483</td>\n",
              "      <td>71</td>\n",
              "      <td>58</td>\n",
              "      <td>0,9</td>\n",
              "      <td>0,99</td>\n",
              "      <td>0,11</td>\n",
              "    </tr>\n",
              "    <tr>\n",
              "      <th>1</th>\n",
              "      <td>LogisticRegression()</td>\n",
              "      <td>0,58</td>\n",
              "      <td>0,129</td>\n",
              "      <td>3044</td>\n",
              "      <td>2513</td>\n",
              "      <td>54</td>\n",
              "      <td>75</td>\n",
              "      <td>0,55</td>\n",
              "      <td>0,98</td>\n",
              "      <td>0,03</td>\n",
              "    </tr>\n",
              "    <tr>\n",
              "      <th>2</th>\n",
              "      <td>DecisionTreeClassifier()</td>\n",
              "      <td>0,75</td>\n",
              "      <td>0,94</td>\n",
              "      <td>5468</td>\n",
              "      <td>89</td>\n",
              "      <td>79</td>\n",
              "      <td>50</td>\n",
              "      <td>0,97</td>\n",
              "      <td>0,99</td>\n",
              "      <td>0,36</td>\n",
              "    </tr>\n",
              "    <tr>\n",
              "      <th>3</th>\n",
              "      <td>RandomForestClassifier()</td>\n",
              "      <td>0,82</td>\n",
              "      <td>0,96</td>\n",
              "      <td>5506</td>\n",
              "      <td>51</td>\n",
              "      <td>82</td>\n",
              "      <td>47</td>\n",
              "      <td>0,98</td>\n",
              "      <td>0,98</td>\n",
              "      <td>0,48</td>\n",
              "    </tr>\n",
              "  </tbody>\n",
              "</table>\n",
              "</div>"
            ],
            "text/plain": [
              "                    Modelos  AUC     KS   BonsXBons  BonsXMaus  MausXBons  \\\n",
              "0   KNeighborsClassifier(5)   NaN    NaN       5074        483         71   \n",
              "1      LogisticRegression()  0,58  0,129       3044       2513         54   \n",
              "2  DecisionTreeClassifier()  0,75   0,94       5468         89         79   \n",
              "3  RandomForestClassifier()  0,82   0,96       5506         51         82   \n",
              "\n",
              "   MausXMaus  acc  precision 0  precision 1   \n",
              "0         58   0,9         0,99         0,11  \n",
              "1         75  0,55         0,98         0,03  \n",
              "2         50  0,97         0,99         0,36  \n",
              "3         47  0,98         0,98         0,48  "
            ]
          },
          "execution_count": 10,
          "metadata": {},
          "output_type": "execute_result"
        }
      ],
      "source": [
        "url2 ='https://raw.githubusercontent.com/HammadN98/Melhor_ML/main/Dados/comparacao_modelos_basico.csv'\n",
        "comparacao_modelos_basico = pd.read_csv(url2)\n",
        "comparacao_modelos_basico"
      ]
    },
    {
      "cell_type": "markdown",
      "metadata": {},
      "source": [
        "Visalmente fica facil comparar os resultados obtidos pelos modelos.\n",
        "<br />E tambem a escolha de por quais prosseguir, sendo estes os DecisionTreeClassifier e o RandomForestClassifier. \n",
        "<br />A seguir  os modelos passarão por testes e experimentos em busca dos melhores hyperparametro. "
      ]
    },
    {
      "cell_type": "markdown",
      "metadata": {
        "id": "aNewgNy6R5Of"
      },
      "source": [
        "## HyperParametragem"
      ]
    },
    {
      "cell_type": "markdown",
      "metadata": {},
      "source": [
        "Aqui irei buscar os parametros que são usados nos modelos escolhidos, DecisionTreeClassifier e o RandomForestClassifier, e após ireis rodar o RandomizedSearchCV nos modelos para buscar seus melhor melhores paramentros para serem usados e então usarei o GridSearchCV com a mesma finalidade. Para posteriormente comparalos e escolher a melhor combinação possivel."
      ]
    },
    {
      "cell_type": "markdown",
      "metadata": {},
      "source": [
        "### RandomizedSearchCV"
      ]
    },
    {
      "cell_type": "code",
      "execution_count": 10,
      "metadata": {
        "colab": {
          "base_uri": "https://localhost:8080/"
        },
        "id": "C9DknQAeR8qC",
        "outputId": "08dc3496-dcb5-4afa-9c34-d2376f998550"
      },
      "outputs": [
        {
          "name": "stdout",
          "output_type": "stream",
          "text": [
            "{'bootstrap': True,\n",
            " 'ccp_alpha': 0.0,\n",
            " 'class_weight': None,\n",
            " 'criterion': 'gini',\n",
            " 'max_depth': None,\n",
            " 'max_features': 'auto',\n",
            " 'max_leaf_nodes': None,\n",
            " 'max_samples': None,\n",
            " 'min_impurity_decrease': 0.0,\n",
            " 'min_samples_leaf': 1,\n",
            " 'min_samples_split': 2,\n",
            " 'min_weight_fraction_leaf': 0.0,\n",
            " 'n_estimators': 100,\n",
            " 'n_jobs': None,\n",
            " 'oob_score': False,\n",
            " 'random_state': 42,\n",
            " 'verbose': 0,\n",
            " 'warm_start': False}\n"
          ]
        }
      ],
      "source": [
        "# Parametros em uso do RandomForestClassifier\n",
        "rfc = RandomForestClassifier(random_state = 42)\n",
        "from pprint import pprint\n",
        "pprint(rfc.get_params())"
      ]
    },
    {
      "cell_type": "markdown",
      "metadata": {},
      "source": [
        "#### RandomFlorestClassifier"
      ]
    },
    {
      "cell_type": "code",
      "execution_count": 11,
      "metadata": {
        "id": "ASHUsmMMaFMB"
      },
      "outputs": [],
      "source": [
        "# Dicionário para buscar a melhor escolha de parâmetros do RandomForestClassifier com RandomSearchCV\n",
        "params_RFC_RSCV = {\"classifier__max_depth\": [3, None],\n",
        "              \"classifier__max_features\": [1, 3, 10],\n",
        "              \"classifier__min_samples_split\": [1, 3, 10],\n",
        "              \"classifier__min_samples_leaf\": [1, 3, 10],\n",
        "              \"classifier__bootstrap\": [True, False],\n",
        "              \"classifier__criterion\": [\"gini\", \"entropy\"],\n",
        "              \"classifier__n_estimators\": [200, 400, 600, 800, 1000, 1200, 1400, 1600, 1800, 2000],\n",
        "              \"classifier__max_features\":['auto', 'sqrt', 'log2']}"
      ]
    },
    {
      "cell_type": "code",
      "execution_count": 53,
      "metadata": {
        "id": "tiKIqOcBaRw8"
      },
      "outputs": [
        {
          "name": "stdout",
          "output_type": "stream",
          "text": [
            "Fitting 3 folds for each of 100 candidates, totalling 300 fits\n"
          ]
        },
        {
          "data": {
            "text/plain": [
              "{'classifier__n_estimators': 1400,\n",
              " 'classifier__min_samples_split': 10,\n",
              " 'classifier__min_samples_leaf': 1,\n",
              " 'classifier__max_features': 'sqrt',\n",
              " 'classifier__max_depth': None,\n",
              " 'classifier__criterion': 'entropy',\n",
              " 'classifier__bootstrap': True}"
            ]
          },
          "execution_count": 53,
          "metadata": {},
          "output_type": "execute_result"
        }
      ],
      "source": [
        "# # 20 min p executar\n",
        "# Usarei o mesmo Pipeline  de dados que anteriormente. \n",
        "pipeline_busca_RFC_RSCV = Pipeline([('Transformador', Transformador(colunas_quantitativas, colunas_categoricas)),('sampling', SMOTE(random_state=SEED)), \n",
        "                     ('classifier', RandomForestClassifier())])\n",
        "\n",
        "# Separação basica de dados.\n",
        "x = df_registro_clientes_targets.drop(['ID_Cliente', 'Mau'], axis=1)\n",
        "y = df_registro_clientes_targets.drop('ID_Cliente', axis=1)['Mau']\n",
        "x_train, x_test, y_train, y_test = train_test_split(x, y, stratify=y, random_state=SEED)\n",
        "\n",
        "# Então usarei a função busca_RandomizedSearchCV para buscar a melhor coompinação possivel com o RandomizedSearchCV.\n",
        "rf_random = RandomizedSearchCV(pipeline_busca_RFC_RSCV, params_RFC_RSCV, n_iter = 100, cv = 3, verbose=2, random_state=42, n_jobs = -1)\n",
        "rf_random.fit(x_train, y_train)\n",
        "rf_random.best_params_\n"
      ]
    },
    {
      "cell_type": "code",
      "execution_count": 8,
      "metadata": {},
      "outputs": [],
      "source": [
        "#Melhores parâmetros do RandomForestClassifier com RandomSearchCV \n",
        "RFC_melhores_parametros_RSCV ={\n",
        "    'n_estimators': 1400,\n",
        "    'min_samples_split': 10,\n",
        "    'min_samples_leaf': 1,\n",
        "    'max_features': 'sqrt',\n",
        "    'max_depth': None,\n",
        "    'criterion': 'entropy',\n",
        "    'bootstrap': True,\n",
        "    'random_state': 1561651,\n",
        "}"
      ]
    },
    {
      "cell_type": "code",
      "execution_count": 9,
      "metadata": {},
      "outputs": [
        {
          "name": "stdout",
          "output_type": "stream",
          "text": [
            "RandomForestClassifier com RandomSearchCV\n",
            "AUC 0.8390646338928622\n",
            "KS KstestResult(statistic=0.9708054871614492, pvalue=0.0)\n"
          ]
        },
        {
          "data": {
            "image/png": "[encoded data removed]",
            "text/plain": [
              "<Figure size 432x288 with 2 Axes>"
            ]
          },
          "metadata": {
            "needs_background": "light"
          },
          "output_type": "display_data"
        },
        {
          "name": "stdout",
          "output_type": "stream",
          "text": [
            "\n",
            "Classification Report\n",
            "              precision    recall  f1-score   support\n",
            "\n",
            "           0       0.98      0.99      0.99      5557\n",
            "           1       0.45      0.29      0.36       129\n",
            "\n",
            "    accuracy                           0.98      5686\n",
            "   macro avg       0.72      0.64      0.67      5686\n",
            "weighted avg       0.97      0.98      0.97      5686\n",
            "\n"
          ]
        }
      ],
      "source": [
        "# Usando o pipeline para transformar os dados como necessario, balanceando os dados de forma sintetica com o 'SMOTE', \n",
        "#e escolhendo o modelo com seu dicionario de melhor combinação de parametros.\n",
        "pipe_RFC_melhores_parametros_RSCV = Pipeline(steps=[('Transformador', Transformador(colunas_quantitativas, colunas_categoricas)), \n",
        "                            ('sampling', SMOTE(random_state=SEED)), \n",
        "                            (\"modelo\", RandomForestClassifier(**RFC_melhores_parametros_RSCV))])\n",
        "print(\"RandomForestClassifier com RandomSearchCV\")\n",
        "roda_modelo(pipe_RFC_melhores_parametros_RSCV, df_registro_clientes_targets)"
      ]
    },
    {
      "cell_type": "code",
      "execution_count": 19,
      "metadata": {
        "colab": {
          "base_uri": "https://localhost:8080/",
          "height": 525
        },
        "id": "65p7DNFupiBR",
        "outputId": "a3f00f60-ec37-4ad1-9b5d-6b4ad9328e2c"
      },
      "outputs": [],
      "source": [
        "# # for classifier in randoms:\n",
        "# # Esse fcou ruim.\n",
        "# pipe_RFC_melhores_parametros_RSCV = Pipeline(steps=[('Transformador', Transformador(colunas_quantitativas, colunas_categoricas)), ('sampling', SMOTE(random_state=SEED)), \n",
        "#                                (\"modelo\", RandomForestClassifier(**RFC_melhores_parametros_RSCV))])\n",
        "# print(\"RFC_melhores_parametros_RSCV\")\n",
        "# roda_modelo(pipe_RFC_melhores_parametros_RSCV, df_registro_clientes_targets)"
      ]
    },
    {
      "cell_type": "markdown",
      "metadata": {},
      "source": [
        "Os resultados sairam aquém do esperado.\n",
        "<br> Porém sem problema ainda temos o DecisionTreeClassifier para buscar e testar paramentros com o RandomizedSearchCV."
      ]
    },
    {
      "cell_type": "markdown",
      "metadata": {},
      "source": [
        "Tive bons resultados com o primeiro modelo, utilizando o RandomForestClassifier, e a combinação de parametros do RandomizedSearchCV\n",
        "A seguir vou realiar o mesmo processso só uqe desta vez com o DecisionTreeClassifier."
      ]
    },
    {
      "cell_type": "markdown",
      "metadata": {},
      "source": [
        "#### DecisionTreeClassifier"
      ]
    },
    {
      "cell_type": "code",
      "execution_count": null,
      "metadata": {},
      "outputs": [
        {
          "name": "stdout",
          "output_type": "stream",
          "text": [
            "{'ccp_alpha': 0.0,\n",
            " 'class_weight': None,\n",
            " 'criterion': 'gini',\n",
            " 'max_depth': None,\n",
            " 'max_features': None,\n",
            " 'max_leaf_nodes': None,\n",
            " 'min_impurity_decrease': 0.0,\n",
            " 'min_samples_leaf': 1,\n",
            " 'min_samples_split': 2,\n",
            " 'min_weight_fraction_leaf': 0.0,\n",
            " 'random_state': 42,\n",
            " 'splitter': 'best'}\n"
          ]
        }
      ],
      "source": [
        "# Parametros em uso do DecisionTreeClassifier\n",
        "dtc = DecisionTreeClassifier(random_state = 42)\n",
        "pprint(dtc.get_params())"
      ]
    },
    {
      "cell_type": "code",
      "execution_count": 28,
      "metadata": {
        "id": "eKWOPqS_UUcn"
      },
      "outputs": [],
      "source": [
        "# Dicionario para buscar a melhor escolha de parametros do DecisionTreeClassifier com RandomSearchCV\n",
        "params_DTC_RSCV = {\"classifier__max_depth\": [3, None],\n",
        "              \"classifier__splitter\": ['best', 'random'],\n",
        "              \"classifier__min_samples_split\": [1, 2, 3, 10],\n",
        "              \"classifier__min_samples_leaf\": [1, 2, 3, 10],\n",
        "              \"classifier__criterion\": [\"gini\", \"entropy\"],\n",
        "              \"classifier__max_features\":['auto', 'sqrt', 'log2'],\n",
        "              \"classifier__random_state\": [1561651]}"
      ]
    },
    {
      "cell_type": "code",
      "execution_count": 24,
      "metadata": {
        "colab": {
          "base_uri": "https://localhost:8080/"
        },
        "id": "F_AGN5f4RmRq",
        "outputId": "a83b3789-125e-48e0-f2a3-c4079a00eed7"
      },
      "outputs": [
        {
          "name": "stdout",
          "output_type": "stream",
          "text": [
            "Fitting 3 folds for each of 100 candidates, totalling 300 fits\n"
          ]
        },
        {
          "data": {
            "text/plain": [
              "{'classifier__splitter': 'best',\n",
              " 'classifier__random_state': 1561651,\n",
              " 'classifier__min_samples_split': 2,\n",
              " 'classifier__min_samples_leaf': 1,\n",
              " 'classifier__max_features': 'sqrt',\n",
              " 'classifier__max_depth': None,\n",
              " 'classifier__criterion': 'entropy'}"
            ]
          },
          "execution_count": 24,
          "metadata": {},
          "output_type": "execute_result"
        }
      ],
      "source": [
        "# #nao demora  p executar\n",
        "# Usarei o mesmo Pipeline  de dados que anteriormente. \n",
        "pipeline_busca_DTC_RSCV = Pipeline([('Transformador', Transformador(colunas_quantitativas, colunas_categoricas)),\n",
        "                            ('sampling', SMOTE(random_state=SEED)),\n",
        "                            ('classifier', DecisionTreeClassifier())])\n",
        "\n",
        "# Separação basica de dados.\n",
        "x = df_registro_clientes_targets.drop(['ID_Cliente', 'Mau'], axis=1)\n",
        "y = df_registro_clientes_targets.drop('ID_Cliente', axis=1)['Mau']\n",
        "x_train, x_test, y_train, y_test = train_test_split(x, y, stratify=y, random_state=SEED)\n",
        "\n",
        "# # Então usarei a função busca_RandomizedSearchCV para buscar a melhor coombinação possivel com o RandomizedSearchCV\n",
        "rf_random = RandomizedSearchCV(pipeline_busca_DTC_RSCV, params_DTC_RSCV, n_iter = 100, cv = 3, verbose=2, random_state=42, n_jobs = -1)\n",
        "rf_random.fit(x_train, y_train)\n",
        "rf_random.best_params_\n"
      ]
    },
    {
      "cell_type": "code",
      "execution_count": 29,
      "metadata": {
        "id": "kipIz5UfWf8M"
      },
      "outputs": [],
      "source": [
        "# Melhores parâmetros do DecisionTreeClassifier com RandomSearchCV\n",
        "DTC_melhores_parametros_RSCV = {\n",
        " 'splitter': 'best',\n",
        " 'random_state': 1561651,\n",
        " 'min_samples_split': 2,\n",
        " 'min_samples_leaf': 1,\n",
        " 'max_features': 'sqrt',\n",
        " 'max_depth': None,\n",
        " 'criterion': 'entropy'\n",
        "}"
      ]
    },
    {
      "cell_type": "code",
      "execution_count": 55,
      "metadata": {
        "colab": {
          "base_uri": "https://localhost:8080/",
          "height": 522
        },
        "id": "7g6nEC7LWfxx",
        "outputId": "78874158-2831-4841-d5de-e2fed68ab30e"
      },
      "outputs": [
        {
          "name": "stdout",
          "output_type": "stream",
          "text": [
            "Decision Tree Classifier\n",
            "AUC 0.7210111417543067\n",
            "KS KstestResult(statistic=0.946535349982413, pvalue=0.0)\n"
          ]
        },
        {
          "data": {
            "image/png": "[encoded data removed]",
            "text/plain": [
              "<Figure size 432x288 with 2 Axes>"
            ]
          },
          "metadata": {
            "needs_background": "light"
          },
          "output_type": "display_data"
        },
        {
          "name": "stdout",
          "output_type": "stream",
          "text": [
            "\n",
            "Classification Report\n",
            "              precision    recall  f1-score   support\n",
            "\n",
            "           0       0.98      0.98      0.98      5557\n",
            "           1       0.31      0.33      0.32       129\n",
            "\n",
            "    accuracy                           0.97      5686\n",
            "   macro avg       0.65      0.66      0.65      5686\n",
            "weighted avg       0.97      0.97      0.97      5686\n",
            "\n"
          ]
        }
      ],
      "source": [
        "# Usando o pipeline para transformar os dados como necessario, balanceando os dados de forma sintetica com o 'SMOTE', \n",
        "#e escolhendo o modelo com seu dicionario de melhor combinação de parametros.\n",
        "pipe_DTC_melhores_parametros_RSCV = Pipeline(steps=[('Transformador', Transformador(colunas_quantitativas, colunas_categoricas)), \n",
        "                            ('sampling', SMOTE(random_state=SEED)), \n",
        "                            (\"modelo\",  DecisionTreeClassifier(**DTC_melhores_parametros_RSCV))])\n",
        "print(\"DecisionTreeClassifier com RandomSearchCV\")\n",
        "roda_modelo(pipe_DTC_melhores_parametros_RSCV, df_registro_clientes_targets)"
      ]
    },
    {
      "cell_type": "markdown",
      "metadata": {},
      "source": [
        "### GridSearchCV"
      ]
    },
    {
      "cell_type": "markdown",
      "metadata": {},
      "source": [
        "#### DecisionTreeClassifier"
      ]
    },
    {
      "cell_type": "code",
      "execution_count": 36,
      "metadata": {},
      "outputs": [],
      "source": [
        "# Criando um diciconarios para a escolha dos parametros para usar o GridCV \n",
        "# Dicionario para buscar a melhor escolha de parâmetros do DecisionTreeClassifier com GridSearchCV\n",
        "\n",
        "params_GSCV_DTC = {\"classifier__max_depth\": [3, None],\n",
        "              \"classifier__splitter\": ['best', 'random'],\n",
        "              \"classifier__min_samples_split\": [1, 2, 3, 10],\n",
        "              \"classifier__min_samples_leaf\": [1, 2, 3, 10],\n",
        "              \"classifier__criterion\": [\"gini\", \"entropy\"],\n",
        "              \"classifier__max_features\":['auto', 'sqrt', 'log2'],\n",
        "              \"classifier__random_state\": [1561651]}"
      ]
    },
    {
      "cell_type": "code",
      "execution_count": 37,
      "metadata": {
        "colab": {
          "base_uri": "https://localhost:8080/"
        },
        "id": "FXSOz2saYidM",
        "outputId": "8c5b8246-857b-454b-8950-2325643a2e0d"
      },
      "outputs": [
        {
          "name": "stdout",
          "output_type": "stream",
          "text": [
            "Fitting 3 folds for each of 384 candidates, totalling 1152 fits\n"
          ]
        },
        {
          "data": {
            "text/plain": [
              "{'classifier__criterion': 'entropy',\n",
              " 'classifier__max_depth': None,\n",
              " 'classifier__max_features': 'auto',\n",
              " 'classifier__min_samples_leaf': 1,\n",
              " 'classifier__min_samples_split': 2,\n",
              " 'classifier__random_state': 1561651,\n",
              " 'classifier__splitter': 'best'}"
            ]
          },
          "execution_count": 37,
          "metadata": {},
          "output_type": "execute_result"
        }
      ],
      "source": [
        "# Usarei o mesmo Pipeline  de dados que anteriormente.\n",
        "pipeline_busca_tree = Pipeline([('Transformador', Transformador(colunas_quantitativas, colunas_categoricas)),\n",
        "                        ('sampling', SMOTE(random_state=SEED)),\n",
        "                        ('classifier', DecisionTreeClassifier())])\n",
        "\n",
        "# Separação basica de dados.\n",
        "x = df_registro_clientes_targets.drop(['ID_Cliente', 'Mau'], axis=1)\n",
        "y = df_registro_clientes_targets.drop('ID_Cliente', axis=1)['Mau']\n",
        "x_train, x_test, y_train, y_test = train_test_split(x, y, stratify=y, random_state=SEED)\n",
        "\n",
        "# Então usarei a função busca_GridSearchCV para buscar a melhor coompinação possivel com o GridSearchCV.\n",
        "rf_decision_Grid = GridSearchCV(pipeline_busca_tree, params_GSCV_DTC, cv = 3, verbose=2,  n_jobs = -1)\n",
        "rf_decision_Grid.fit(x_train, y_train)\n",
        "rf_decision_Grid.best_params_"
      ]
    },
    {
      "cell_type": "code",
      "execution_count": 38,
      "metadata": {
        "id": "JyxMS2zGcW9e"
      },
      "outputs": [],
      "source": [
        "# Dicionario com os melhores parametros do DecisionTreeClassifier com o GridSearchCV\n",
        "DTC_melhores_parametros_GSCV =   {\n",
        "  'criterion': 'entropy',\n",
        "  'max_depth': None,\n",
        "  'max_features': 'auto',\n",
        "  'min_samples_leaf': 1,\n",
        "  'min_samples_split': 2,\n",
        "  'random_state': 1561651,\n",
        "  'splitter': 'best'\n",
        "}"
      ]
    },
    {
      "cell_type": "code",
      "execution_count": 40,
      "metadata": {
        "colab": {
          "base_uri": "https://localhost:8080/",
          "height": 522
        },
        "id": "Mh16Da-AcT5x",
        "outputId": "671eaae1-7f65-4463-9036-553acc31799d"
      },
      "outputs": [
        {
          "name": "stdout",
          "output_type": "stream",
          "text": [
            " BEST GridSearchCV DecisisonTreeClassifier\n",
            "AUC 0.7210111417543067\n",
            "KS KstestResult(statistic=0.946535349982413, pvalue=0.0)\n"
          ]
        },
        {
          "data": {
            "image/png": "[encoded data removed]",
            "text/plain": [
              "<Figure size 432x288 with 2 Axes>"
            ]
          },
          "metadata": {
            "needs_background": "light"
          },
          "output_type": "display_data"
        },
        {
          "name": "stdout",
          "output_type": "stream",
          "text": [
            "\n",
            "Classification Report\n",
            "              precision    recall  f1-score   support\n",
            "\n",
            "           0       0.98      0.98      0.98      5557\n",
            "           1       0.31      0.33      0.32       129\n",
            "\n",
            "    accuracy                           0.97      5686\n",
            "   macro avg       0.65      0.66      0.65      5686\n",
            "weighted avg       0.97      0.97      0.97      5686\n",
            "\n"
          ]
        }
      ],
      "source": [
        "# Usando o pipeline para transformar os dados como necessario, balanceando os dados de forma sintetica com o 'SMOTE', \n",
        "#e escolhendo o modelo com seu dicionario de melhor combinação de parametros.\n",
        "pipe_best_busca_tree_Grid = Pipeline(steps=[('Transformador', Transformador(colunas_quantitativas, colunas_categoricas)), \n",
        "                            ('sampling', SMOTE(random_state=SEED)), \n",
        "                            (\"modelo\",  DecisionTreeClassifier(**DTC_melhores_parametros_GSCV))])\n",
        "print(\"Melhor DecisisonTreeClassifier com GridSearchCV\")\n",
        "# A função para rodar o modelo com os dados fazer a predição e potar a matriz de confusão.\n",
        "roda_modelo(pipe_best_busca_tree_Grid, df_registro_clientes_targets)"
      ]
    },
    {
      "cell_type": "markdown",
      "metadata": {},
      "source": [
        "#### RandomForestClassifier"
      ]
    },
    {
      "cell_type": "code",
      "execution_count": 41,
      "metadata": {
        "id": "Yvr3GQaVedGU"
      },
      "outputs": [],
      "source": [
        "# Criando um dicionário para a escolha dos parâmetros com o GridSearchCV.\n",
        "params_RFC_GSCV = {\"classifier__max_depth\": [3, None],\n",
        "              \"classifier__max_features\": [1, 3, 10],\n",
        "              \"classifier__min_samples_split\": [1, 3, 10],\n",
        "              \"classifier__min_samples_leaf\": [1, 3, 10],\n",
        "              \"classifier__bootstrap\": [True, False],\n",
        "              \"classifier__criterion\": [\"gini\", \"entropy\"],\n",
        "              \"classifier__n_estimators\": [200, 400, 600, 800, 1000],\n",
        "              \"classifier__max_features\":['auto', 'sqrt', 'log2']}"
      ]
    },
    {
      "cell_type": "code",
      "execution_count": 42,
      "metadata": {
        "colab": {
          "base_uri": "https://localhost:8080/"
        },
        "id": "Uu8AcYKKbuw0",
        "outputId": "189147a9-10dc-4a20-ff4c-f43177be718c"
      },
      "outputs": [],
      "source": [
        "# 6h 8m p rodar\n",
        "# Usarei o mesmo Pipeline  de dados que anteriormente.\n",
        "pipeline_busca_random_Grid = Pipeline([('Transformador', Transformador(colunas_quantitativas, colunas_categoricas)),\n",
        "                     ('sampling', SMOTE(random_state=SEED)), ('classifier', RandomForestClassifier())])\n",
        "\n",
        "# Separação básica de dados.\n",
        "x = df_registro_clientes_targets.drop(['ID_Cliente', 'Mau'], axis=1)\n",
        "y = df_registro_clientes_targets.drop('ID_Cliente', axis=1)['Mau']\n",
        "x_train, x_test, y_train, y_test = train_test_split(x, y, stratify=y, random_state=SEED)\n",
        "\n",
        "# Então usarei a função busca_GridSearchCV_RFC para buscar a melhor coompinação possível com o GridSearchCV.\n",
        "rf_random_grid = GridSearchCV(pipeline_busca_random_Grid, params_RFC_GSCV, cv = 3, verbose=2,  n_jobs = -1)\n",
        "rf_random_grid.fit(x_train, y_train)\n",
        "rf_random_grid.best_params_"
      ]
    },
    {
      "cell_type": "code",
      "execution_count": 53,
      "metadata": {
        "id": "j0Ygxk72UFBY"
      },
      "outputs": [],
      "source": [
        "# Dicionario com os melhores parâmetros do RandomForestClassifier com GridSearchCV\n",
        "RFC_melhores_parametros_GSCV = {\n",
        " 'random_state': 1561651,\n",
        " 'bootstrap': True,\n",
        " 'criterion': 'entropy',\n",
        " 'max_depth': None,\n",
        " 'max_features': 'auto',\n",
        " 'min_samples_leaf': 1,\n",
        " 'min_samples_split': 10,\n",
        " 'n_estimators': 200}"
      ]
    },
    {
      "cell_type": "code",
      "execution_count": 60,
      "metadata": {
        "colab": {
          "base_uri": "https://localhost:8080/",
          "height": 522
        },
        "id": "Rr0eIF4zaOuF",
        "outputId": "e38478a3-5c32-457f-e303-6b7d8c1c96d5"
      },
      "outputs": [
        {
          "name": "stdout",
          "output_type": "stream",
          "text": [
            "Melhor RandomTreeClassifier com GridSearchCV\n",
            "AUC 0.838113253344828\n",
            "KS KstestResult(statistic=0.9695743932465706, pvalue=0.0)\n"
          ]
        },
        {
          "data": {
            "image/png": "[encoded data removed]",
            "text/plain": [
              "<Figure size 432x288 with 2 Axes>"
            ]
          },
          "metadata": {
            "needs_background": "light"
          },
          "output_type": "display_data"
        },
        {
          "name": "stdout",
          "output_type": "stream",
          "text": [
            "\n",
            "Classification Report\n",
            "              precision    recall  f1-score   support\n",
            "\n",
            "           0       0.98      0.99      0.99      5557\n",
            "           1       0.44      0.29      0.35       129\n",
            "\n",
            "    accuracy                           0.98      5686\n",
            "   macro avg       0.71      0.64      0.67      5686\n",
            "weighted avg       0.97      0.98      0.97      5686\n",
            "\n"
          ]
        }
      ],
      "source": [
        "#Sipa esse\n",
        "# Usando o pipeline para transformar os dados como necessário, balanceando os dados de forma sintética com o 'SMOTE',\n",
        "# e escolhendo o modelo com seu dicionário de melhor combinação de parâmetros.\n",
        "\n",
        "pipe_best_busca_random_Grid = Pipeline(steps=[('Transformador', Transformador(colunas_quantitativas, colunas_categoricas)), \n",
        "                            ('sampling', SMOTE(random_state=SEED)), \n",
        "                            (\"modelo\",  RandomForestClassifier(**RFC_melhores_parametros_GSCV))])\n",
        "                            \n",
        "print(\"Melhor RandomTreeClassifier com GridSearchCV\")\n",
        "roda_modelo(pipe_best_busca_random_Grid, df_registro_clientes_targets)"
      ]
    },
    {
      "cell_type": "markdown",
      "metadata": {},
      "source": [
        "### Comparando modelos hyperparametrados"
      ]
    },
    {
      "cell_type": "code",
      "execution_count": 64,
      "metadata": {},
      "outputs": [
        {
          "data": {
            "text/html": [
              "<div>\n",
              "<style scoped>\n",
              "    .dataframe tbody tr th:only-of-type {\n",
              "        vertical-align: middle;\n",
              "    }\n",
              "\n",
              "    .dataframe tbody tr th {\n",
              "        vertical-align: top;\n",
              "    }\n",
              "\n",
              "    .dataframe thead th {\n",
              "        text-align: right;\n",
              "    }\n",
              "</style>\n",
              "<table border=\"1\" class=\"dataframe\">\n",
              "  <thead>\n",
              "    <tr style=\"text-align: right;\">\n",
              "      <th></th>\n",
              "      <th>Modelos</th>\n",
              "      <th>Search</th>\n",
              "      <th>AUC</th>\n",
              "      <th>KS</th>\n",
              "      <th>BonsXBons</th>\n",
              "      <th>BonsXMaus</th>\n",
              "      <th>MausXBons</th>\n",
              "      <th>MausXMaus</th>\n",
              "      <th>acc</th>\n",
              "      <th>precision 0</th>\n",
              "      <th>precision 1</th>\n",
              "    </tr>\n",
              "  </thead>\n",
              "  <tbody>\n",
              "    <tr>\n",
              "      <th>0</th>\n",
              "      <td>RandomForestClassifier</td>\n",
              "      <td>RandomSearchCV</td>\n",
              "      <td>0,839</td>\n",
              "      <td>0,97</td>\n",
              "      <td>5511</td>\n",
              "      <td>46</td>\n",
              "      <td>91</td>\n",
              "      <td>38</td>\n",
              "      <td>0,98</td>\n",
              "      <td>0,98</td>\n",
              "      <td>0,45</td>\n",
              "    </tr>\n",
              "    <tr>\n",
              "      <th>1</th>\n",
              "      <td>DecisionTreeClassifier</td>\n",
              "      <td>RandomSearchCV</td>\n",
              "      <td>0,72</td>\n",
              "      <td>0,946</td>\n",
              "      <td>5460</td>\n",
              "      <td>97</td>\n",
              "      <td>87</td>\n",
              "      <td>43</td>\n",
              "      <td>0,97</td>\n",
              "      <td>0,98</td>\n",
              "      <td>0,31</td>\n",
              "    </tr>\n",
              "    <tr>\n",
              "      <th>2</th>\n",
              "      <td>DecisionTreeClassifier</td>\n",
              "      <td>GridSearchCV</td>\n",
              "      <td>0,72</td>\n",
              "      <td>0,946</td>\n",
              "      <td>5460</td>\n",
              "      <td>97</td>\n",
              "      <td>87</td>\n",
              "      <td>43</td>\n",
              "      <td>0,97</td>\n",
              "      <td>0,98</td>\n",
              "      <td>0,31</td>\n",
              "    </tr>\n",
              "    <tr>\n",
              "      <th>3</th>\n",
              "      <td>RandomForestClassifier</td>\n",
              "      <td>GridSearchCV</td>\n",
              "      <td>0,838</td>\n",
              "      <td>0,969</td>\n",
              "      <td>5508</td>\n",
              "      <td>49</td>\n",
              "      <td>92</td>\n",
              "      <td>38</td>\n",
              "      <td>0,98</td>\n",
              "      <td>0,98</td>\n",
              "      <td>0,44</td>\n",
              "    </tr>\n",
              "  </tbody>\n",
              "</table>\n",
              "</div>"
            ],
            "text/plain": [
              "                  Modelos          Search   AUC     KS   BonsXBons  BonsXMaus  \\\n",
              "0  RandomForestClassifier  RandomSearchCV  0,839   0,97       5511         46   \n",
              "1  DecisionTreeClassifier  RandomSearchCV   0,72  0,946       5460         97   \n",
              "2  DecisionTreeClassifier    GridSearchCV   0,72  0,946       5460         97   \n",
              "3  RandomForestClassifier    GridSearchCV  0,838  0,969       5508         49   \n",
              "\n",
              "   MausXBons  MausXMaus  acc  precision 0  precision 1   \n",
              "0         91         38  0,98         0,98         0,45  \n",
              "1         87         43  0,97         0,98         0,31  \n",
              "2         87         43  0,97         0,98         0,31  \n",
              "3         92         38  0,98         0,98         0,44  "
            ]
          },
          "execution_count": 64,
          "metadata": {},
          "output_type": "execute_result"
        }
      ],
      "source": [
        "url3 ='https://raw.githubusercontent.com/HammadN98/Melhor_ML/main/Dados/HyperModelos.csv'\n",
        "Modelos_hyperss = pd.read_csv(url3)\n",
        "Modelos_hyperss"
      ]
    },
    {
      "cell_type": "markdown",
      "metadata": {},
      "source": [
        "### Salvando o modelo escolhido"
      ]
    },
    {
      "cell_type": "code",
      "execution_count": null,
      "metadata": {
        "id": "QJo20G2Y6xq1"
      },
      "outputs": [],
      "source": [
        "pipeline = Pipeline([('Transformador', Transformador(colunas_quantitativas, colunas_categoricas)),\n",
        "                     ('sampling', SMOTE(random_state=SEED)),\n",
        "                     ('Modelo', RandomForestClassifier(random_state=SEED))])"
      ]
    },
    {
      "cell_type": "code",
      "execution_count": 14,
      "metadata": {},
      "outputs": [],
      "source": [
        "pipeline_salvo = Pipeline(steps=[('Transformador', Transformador(colunas_quantitativas, colunas_categoricas)), \n",
        "                            ('sampling', SMOTE(random_state=SEED)), \n",
        "                            (\"Modelo\", RandomForestClassifier(**RFC_melhores_parametros_RSCV))])"
      ]
    },
    {
      "cell_type": "code",
      "execution_count": 10,
      "metadata": {},
      "outputs": [],
      "source": [
        "pipelines = Pipeline(steps=[('Transformador', Transformador(colunas_quantitativas, colunas_categoricas)), \n",
        "                            ('sampling', SMOTE(random_state=SEED)), \n",
        "                            (\"Modelo\", RandomForestClassifier(**RFC_melhores_parametros_RSCV))])"
      ]
    },
    {
      "cell_type": "code",
      "execution_count": 12,
      "metadata": {},
      "outputs": [
        {
          "data": {
            "text/plain": [
              "Pipeline(steps=[('Transformador',\n",
              "                 Transformador(colunas_categoricas=['Tem_Carro',\n",
              "                                                    'Tem_Casa_Propria',\n",
              "                                                    'Categoria_de_renda',\n",
              "                                                    'Grau_Escolaridade',\n",
              "                                                    'Estado_Civil', 'Moradia',\n",
              "                                                    'Tem_telefone_trabalho',\n",
              "                                                    'Tem_telefone_fixo',\n",
              "                                                    'Tem_email', 'Ocupacao'],\n",
              "                               colunas_quantitativas=['Idade', 'Qtd_Filhos',\n",
              "                                                      'Rendimento_Anual',\n",
              "                                                      'Anos_empregado',\n",
              "                                                      'Tamanho_Familia'])),\n",
              "                ('sampling', SMOTE(random_state=1561651)),\n",
              "                ('Modelo',\n",
              "                 RandomForestClassifier(criterion='entropy',\n",
              "                                        max_features='sqrt',\n",
              "                                        min_samples_split=10, n_estimators=1400,\n",
              "                                        random_state=1561651))])"
            ]
          },
          "execution_count": 12,
          "metadata": {},
          "output_type": "execute_result"
        }
      ],
      "source": [
        "x = df_registro_clientes_targets.drop(['ID_Cliente', 'Mau'], axis=1)\n",
        "y = df_registro_clientes_targets['Mau']\n",
        "    \n",
        "pipelines.fit(x, y)"
      ]
    },
    {
      "cell_type": "code",
      "execution_count": 15,
      "metadata": {
        "id": "5gkq0x8R6xq1"
      },
      "outputs": [
        {
          "data": {
            "text/plain": [
              "['modelo_salvo.joblib']"
            ]
          },
          "execution_count": 15,
          "metadata": {},
          "output_type": "execute_result"
        }
      ],
      "source": [
        "dump(pipeline_salvo, 'modelo_salvo.joblib')"
      ]
    },
    {
      "cell_type": "code",
      "execution_count": 13,
      "metadata": {},
      "outputs": [
        {
          "data": {
            "text/plain": [
              "['modelos.joblib']"
            ]
          },
          "execution_count": 13,
          "metadata": {},
          "output_type": "execute_result"
        }
      ],
      "source": [
        "dump(pipelines,'modelos.joblib')\n"
      ]
    },
    {
      "cell_type": "code",
      "execution_count": null,
      "metadata": {
        "colab": {
          "base_uri": "https://localhost:8080/"
        },
        "id": "39dI0Tow6xq1",
        "outputId": "4f70507f-3675-4e42-e5b0-ce43afc6ff95"
      },
      "outputs": [
        {
          "data": {
            "text/plain": [
              "['modelo.joblib']"
            ]
          },
          "metadata": {},
          "output_type": "display_data"
        }
      ],
      "source": [
        "dump(pipeline,'modelo.joblib')"
      ]
    },
    {
      "cell_type": "code",
      "execution_count": null,
      "metadata": {
        "colab": {
          "base_uri": "https://localhost:8080/"
        },
        "id": "P1i1hUvc6xq2",
        "outputId": "afbc7f61-184e-419b-e743-191a7555f7f9"
      },
      "outputs": [
        {
          "data": {
            "text/plain": [
              "Index(['Unnamed: 0', 'Idade', 'Qtd_Filhos', 'Rendimento_Anual',\n",
              "       'Anos_empregado', 'Tamanho_Familia', 'Tem_Carro', 'Tem_Casa_Propria',\n",
              "       'Tem_telefone_trabalho', 'Tem_telefone_fixo', 'Tem_email',\n",
              "       'Categoria_de_renda', 'Grau_Escolaridade', 'Estado_Civil', 'Moradia',\n",
              "       'Ocupacao'],\n",
              "      dtype='object')"
            ]
          },
          "metadata": {},
          "output_type": "display_data"
        }
      ],
      "source": [
        "features = x.columns\n",
        "dump(features, 'features.joblib')\n"
      ]
    },
    {
      "cell_type": "code",
      "execution_count": null,
      "metadata": {
        "colab": {
          "base_uri": "https://localhost:8080/"
        },
        "id": "wOSEuSYl6xq3",
        "outputId": "e9928542-c0fb-4654-a156-8468f48b8750"
      },
      "outputs": [
        {
          "data": {
            "text/plain": [
              "Categoria_de_renda    [Empregado, Associado comercial, Pensionista, ...\n",
              "Grau_Escolaridade     [Ensino medio, Ensino superior, Ensino superio...\n",
              "Estado_Civil          [Casado, Solteiro, Separado, Uniao estavel, Vi...\n",
              "Moradia               [Casa propria, Alugado, Habitacao publica, Mor...\n",
              "Ocupacao              [Seguranca, Venda, Outros, Contabilidade, Cons...\n",
              "dtype: object"
            ]
          },
          "metadata": {},
          "output_type": "display_data"
        }
      ],
      "source": [
        "lista_campos = df_registro_clientes_targets[colunas_categoricas_nao_binarias].apply(lambda  x: x.unique(),axis=0)\n",
        "dump(lista_campos, 'lista_campos.joblib')\n"
      ]
    }
  ],
  "metadata": {
    "colab": {
      "name": "cuntinuacao.ipynb",
      "provenance": []
    },
    "interpreter": {
      "hash": "927276791a88d4724c6f5e1d6a7d7d9d027e3cbf1dc705b88c33b85f83d74329"
    },
    "kernelspec": {
      "display_name": "Python 3.10.1 64-bit",
      "language": "python",
      "name": "python3"
    },
    "language_info": {
      "codemirror_mode": {
        "name": "ipython",
        "version": 3
      },
      "file_extension": ".py",
      "mimetype": "text/x-python",
      "name": "python",
      "nbconvert_exporter": "python",
      "pygments_lexer": "ipython3",
      "version": "3.10.1"
    }
  },
  "nbformat": 4,
  "nbformat_minor": 0
}
