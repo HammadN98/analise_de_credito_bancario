{
  "cells": [
    {
      "cell_type": "markdown",
      "metadata": {},
      "source": [
        "# Análise dos dados do Banco Byte Bank, para a criação de uma aplicação de concessão de crédito."
      ]
    },
    {
      "cell_type": "markdown",
      "metadata": {},
      "source": [
        "### Motivação\n",
        " \n",
        "Avaliar se o cliente tem condições de honrar o compromisso financeiro assumido.\n",
        "### Objetivo\n",
        " \n",
        "Identificar as condições financeiras dos clientes com base nos dados passados por suas informações.\n",
        " \n",
        "### Ganho\n",
        " \n",
        "Evitar inadimplência nas concessões de crédito.\n",
        "\n",
        "\n"
      ]
    },
    {
      "cell_type": "markdown",
      "metadata": {},
      "source": [
        "#### Conceitos importantes\n",
        "\n",
        "**Caso nunca tenha visto**\n",
        "\n",
        "months On Book (MOB): Número de meses que foram concluídos desde a data de originação do empréstimo.\n",
        "\n",
        "\n",
        "Análise Vintage: Mede o desempenho em diferentes períodos de tempo após a concessão do empréstimo.\n",
        "\n",
        "Tabela pivot: É uma tabela estatística que sumariza determinado dado em colunas, quase como um group by.\n"
      ]
    },
    {
      "cell_type": "markdown",
      "metadata": {},
      "source": [
        "### Importações"
      ]
    },
    {
      "cell_type": "code",
      "execution_count": 1,
      "metadata": {
        "id": "gpUFSqeJmCkr"
      },
      "outputs": [],
      "source": [
        "import pandas as pd\n",
        "import numpy as np\n",
        "import matplotlib.pyplot as plt\n",
        "import seaborn as sns\n",
        "sns.set()\n",
        "import warnings\n",
        "warnings.filterwarnings('ignore')"
      ]
    },
    {
      "cell_type": "code",
      "execution_count": 2,
      "metadata": {
        "colab": {
          "base_uri": "https://localhost:8080/",
          "height": 274
        },
        "id": "qGTlRXl0mE8l",
        "outputId": "ff36a8d6-14c7-4cba-85b0-1048661fea2c"
      },
      "outputs": [
        {
          "data": {
            "text/html": [
              "<div>\n",
              "<style scoped>\n",
              "    .dataframe tbody tr th:only-of-type {\n",
              "        vertical-align: middle;\n",
              "    }\n",
              "\n",
              "    .dataframe tbody tr th {\n",
              "        vertical-align: top;\n",
              "    }\n",
              "\n",
              "    .dataframe thead th {\n",
              "        text-align: right;\n",
              "    }\n",
              "</style>\n",
              "<table border=\"1\" class=\"dataframe\">\n",
              "  <thead>\n",
              "    <tr style=\"text-align: right;\">\n",
              "      <th></th>\n",
              "      <th>ID_Cliente</th>\n",
              "      <th>Genero</th>\n",
              "      <th>Tem_Carro</th>\n",
              "      <th>Tem_Casa_Propria</th>\n",
              "      <th>Qtd_Filhos</th>\n",
              "      <th>Rendimento_Anual</th>\n",
              "      <th>Categoria_de_renda</th>\n",
              "      <th>Grau_Escolaridade</th>\n",
              "      <th>Estado_Civil</th>\n",
              "      <th>Moradia</th>\n",
              "      <th>Idade</th>\n",
              "      <th>Tem_Celular</th>\n",
              "      <th>Tem_telefone_trabalho</th>\n",
              "      <th>Tem_telefone_fixo</th>\n",
              "      <th>Tem_email</th>\n",
              "      <th>Ocupacao</th>\n",
              "      <th>Tamanho_Familia</th>\n",
              "      <th>Anos_empregado</th>\n",
              "    </tr>\n",
              "  </thead>\n",
              "  <tbody>\n",
              "    <tr>\n",
              "      <th>0</th>\n",
              "      <td>5008804</td>\n",
              "      <td>H</td>\n",
              "      <td>1</td>\n",
              "      <td>1</td>\n",
              "      <td>0</td>\n",
              "      <td>427500.0</td>\n",
              "      <td>Empregado</td>\n",
              "      <td>Ensino superior</td>\n",
              "      <td>Uniao estavel</td>\n",
              "      <td>Alugado</td>\n",
              "      <td>33.0</td>\n",
              "      <td>1</td>\n",
              "      <td>1</td>\n",
              "      <td>0</td>\n",
              "      <td>0</td>\n",
              "      <td>Outros</td>\n",
              "      <td>2.0</td>\n",
              "      <td>12.4</td>\n",
              "    </tr>\n",
              "    <tr>\n",
              "      <th>1</th>\n",
              "      <td>5008805</td>\n",
              "      <td>H</td>\n",
              "      <td>1</td>\n",
              "      <td>1</td>\n",
              "      <td>0</td>\n",
              "      <td>427500.0</td>\n",
              "      <td>Empregado</td>\n",
              "      <td>Ensino superior</td>\n",
              "      <td>Uniao estavel</td>\n",
              "      <td>Alugado</td>\n",
              "      <td>33.0</td>\n",
              "      <td>1</td>\n",
              "      <td>1</td>\n",
              "      <td>0</td>\n",
              "      <td>0</td>\n",
              "      <td>Outros</td>\n",
              "      <td>2.0</td>\n",
              "      <td>12.4</td>\n",
              "    </tr>\n",
              "    <tr>\n",
              "      <th>2</th>\n",
              "      <td>5008806</td>\n",
              "      <td>H</td>\n",
              "      <td>1</td>\n",
              "      <td>1</td>\n",
              "      <td>0</td>\n",
              "      <td>112500.0</td>\n",
              "      <td>Empregado</td>\n",
              "      <td>Ensino medio</td>\n",
              "      <td>Casado</td>\n",
              "      <td>Casa propria</td>\n",
              "      <td>59.0</td>\n",
              "      <td>1</td>\n",
              "      <td>0</td>\n",
              "      <td>0</td>\n",
              "      <td>0</td>\n",
              "      <td>Seguranca</td>\n",
              "      <td>2.0</td>\n",
              "      <td>3.1</td>\n",
              "    </tr>\n",
              "    <tr>\n",
              "      <th>3</th>\n",
              "      <td>5008808</td>\n",
              "      <td>M</td>\n",
              "      <td>0</td>\n",
              "      <td>1</td>\n",
              "      <td>0</td>\n",
              "      <td>270000.0</td>\n",
              "      <td>Associado comercial</td>\n",
              "      <td>Ensino medio</td>\n",
              "      <td>Solteiro</td>\n",
              "      <td>Casa propria</td>\n",
              "      <td>52.0</td>\n",
              "      <td>1</td>\n",
              "      <td>0</td>\n",
              "      <td>1</td>\n",
              "      <td>1</td>\n",
              "      <td>Venda</td>\n",
              "      <td>1.0</td>\n",
              "      <td>8.4</td>\n",
              "    </tr>\n",
              "    <tr>\n",
              "      <th>4</th>\n",
              "      <td>5008809</td>\n",
              "      <td>M</td>\n",
              "      <td>0</td>\n",
              "      <td>1</td>\n",
              "      <td>0</td>\n",
              "      <td>270000.0</td>\n",
              "      <td>Associado comercial</td>\n",
              "      <td>Ensino medio</td>\n",
              "      <td>Solteiro</td>\n",
              "      <td>Casa propria</td>\n",
              "      <td>52.0</td>\n",
              "      <td>1</td>\n",
              "      <td>0</td>\n",
              "      <td>1</td>\n",
              "      <td>1</td>\n",
              "      <td>Venda</td>\n",
              "      <td>1.0</td>\n",
              "      <td>8.4</td>\n",
              "    </tr>\n",
              "  </tbody>\n",
              "</table>\n",
              "</div>"
            ],
            "text/plain": [
              "   ID_Cliente Genero  Tem_Carro  Tem_Casa_Propria  Qtd_Filhos  \\\n",
              "0     5008804      H          1                 1           0   \n",
              "1     5008805      H          1                 1           0   \n",
              "2     5008806      H          1                 1           0   \n",
              "3     5008808      M          0                 1           0   \n",
              "4     5008809      M          0                 1           0   \n",
              "\n",
              "   Rendimento_Anual   Categoria_de_renda Grau_Escolaridade   Estado_Civil  \\\n",
              "0          427500.0            Empregado   Ensino superior  Uniao estavel   \n",
              "1          427500.0            Empregado   Ensino superior  Uniao estavel   \n",
              "2          112500.0            Empregado      Ensino medio         Casado   \n",
              "3          270000.0  Associado comercial      Ensino medio       Solteiro   \n",
              "4          270000.0  Associado comercial      Ensino medio       Solteiro   \n",
              "\n",
              "        Moradia  Idade  Tem_Celular  Tem_telefone_trabalho  Tem_telefone_fixo  \\\n",
              "0       Alugado   33.0            1                      1                  0   \n",
              "1       Alugado   33.0            1                      1                  0   \n",
              "2  Casa propria   59.0            1                      0                  0   \n",
              "3  Casa propria   52.0            1                      0                  1   \n",
              "4  Casa propria   52.0            1                      0                  1   \n",
              "\n",
              "   Tem_email   Ocupacao  Tamanho_Familia  Anos_empregado  \n",
              "0          0     Outros              2.0            12.4  \n",
              "1          0     Outros              2.0            12.4  \n",
              "2          0  Seguranca              2.0             3.1  \n",
              "3          1      Venda              1.0             8.4  \n",
              "4          1      Venda              1.0             8.4  "
            ]
          },
          "execution_count": 2,
          "metadata": {},
          "output_type": "execute_result"
        }
      ],
      "source": [
        "df_clientes_cadastrados = pd.read_csv('https://raw.githubusercontent.com/alura-cursos/Avaliacao_Credito/main/dados/clientes_cadastrados.csv')\n",
        "df_clientes_cadastrados.head()"
      ]
    },
    {
      "cell_type": "markdown",
      "metadata": {},
      "source": [
        "## Análise dos dados de clientes cadastrados"
      ]
    },
    {
      "cell_type": "code",
      "execution_count": 3,
      "metadata": {
        "colab": {
          "base_uri": "https://localhost:8080/"
        },
        "id": "APzhuCZFmnpZ",
        "outputId": "d726e6ae-34c6-438e-c1ff-e21de654eb16"
      },
      "outputs": [
        {
          "data": {
            "text/plain": [
              "(438557, 18)"
            ]
          },
          "execution_count": 3,
          "metadata": {},
          "output_type": "execute_result"
        }
      ],
      "source": [
        "# Dimensão dos dados\n",
        "df_clientes_cadastrados.shape"
      ]
    },
    {
      "cell_type": "code",
      "execution_count": 4,
      "metadata": {
        "colab": {
          "base_uri": "https://localhost:8080/"
        },
        "id": "WIuVKkX8mvbB",
        "outputId": "c9007712-127c-4e51-da83-ece794b59732"
      },
      "outputs": [
        {
          "data": {
            "text/plain": [
              "7137299    2\n",
              "7702238    2\n",
              "7282535    2\n",
              "7243768    2\n",
              "7050948    2\n",
              "          ..\n",
              "5690727    1\n",
              "6621262    1\n",
              "6621261    1\n",
              "6621260    1\n",
              "6842885    1\n",
              "Name: ID_Cliente, Length: 438510, dtype: int64"
            ]
          },
          "execution_count": 4,
          "metadata": {},
          "output_type": "execute_result"
        }
      ],
      "source": [
        "# Contando valores de 'ID_Cliente' com a finalidade de ver se tem IDs duplicados\n",
        "df_clientes_cadastrados['ID_Cliente'].value_counts()"
      ]
    },
    {
      "cell_type": "code",
      "execution_count": 5,
      "metadata": {
        "colab": {
          "base_uri": "https://localhost:8080/"
        },
        "id": "d4H5udcKoPeN",
        "outputId": "2a867c66-2d4f-4b59-fd90-951a02140a43"
      },
      "outputs": [
        {
          "data": {
            "text/plain": [
              "0"
            ]
          },
          "execution_count": 5,
          "metadata": {},
          "output_type": "execute_result"
        }
      ],
      "source": [
        "# Verificando a existência de algum ciente totalmente duplicado.\n",
        "df_clientes_cadastrados.duplicated().sum()"
      ]
    },
    {
      "cell_type": "code",
      "execution_count": 6,
      "metadata": {
        "colab": {
          "base_uri": "https://localhost:8080/"
        },
        "id": "oUBcULI0ozkV",
        "outputId": "7cbf03fb-6f2f-4dc5-a636-66e7dc9c8acc"
      },
      "outputs": [
        {
          "data": {
            "text/plain": [
              "(94, 18)"
            ]
          },
          "execution_count": 6,
          "metadata": {},
          "output_type": "execute_result"
        }
      ],
      "source": [
        "# Quantidade de IDs duplicados\n",
        "df_clientes_cadastrados[df_clientes_cadastrados['ID_Cliente'].duplicated(keep=False)].shape"
      ]
    },
    {
      "cell_type": "code",
      "execution_count": 7,
      "metadata": {
        "colab": {
          "base_uri": "https://localhost:8080/"
        },
        "id": "e6UpldVcrz4o",
        "outputId": "7f137edb-c152-454f-b5f8-d7a016dc4172"
      },
      "outputs": [
        {
          "data": {
            "text/html": [
              "<div>\n",
              "<style scoped>\n",
              "    .dataframe tbody tr th:only-of-type {\n",
              "        vertical-align: middle;\n",
              "    }\n",
              "\n",
              "    .dataframe tbody tr th {\n",
              "        vertical-align: top;\n",
              "    }\n",
              "\n",
              "    .dataframe thead th {\n",
              "        text-align: right;\n",
              "    }\n",
              "</style>\n",
              "<table border=\"1\" class=\"dataframe\">\n",
              "  <thead>\n",
              "    <tr style=\"text-align: right;\">\n",
              "      <th></th>\n",
              "      <th>ID_Cliente</th>\n",
              "      <th>Genero</th>\n",
              "      <th>Tem_Carro</th>\n",
              "      <th>Tem_Casa_Propria</th>\n",
              "      <th>Qtd_Filhos</th>\n",
              "      <th>Rendimento_Anual</th>\n",
              "      <th>Categoria_de_renda</th>\n",
              "      <th>Grau_Escolaridade</th>\n",
              "      <th>Estado_Civil</th>\n",
              "      <th>Moradia</th>\n",
              "      <th>Idade</th>\n",
              "      <th>Tem_Celular</th>\n",
              "      <th>Tem_telefone_trabalho</th>\n",
              "      <th>Tem_telefone_fixo</th>\n",
              "      <th>Tem_email</th>\n",
              "      <th>Ocupacao</th>\n",
              "      <th>Tamanho_Familia</th>\n",
              "      <th>Anos_empregado</th>\n",
              "    </tr>\n",
              "  </thead>\n",
              "  <tbody>\n",
              "    <tr>\n",
              "      <th>0</th>\n",
              "      <td>5008804</td>\n",
              "      <td>H</td>\n",
              "      <td>1</td>\n",
              "      <td>1</td>\n",
              "      <td>0</td>\n",
              "      <td>427500.0</td>\n",
              "      <td>Empregado</td>\n",
              "      <td>Ensino superior</td>\n",
              "      <td>Uniao estavel</td>\n",
              "      <td>Alugado</td>\n",
              "      <td>33.0</td>\n",
              "      <td>1</td>\n",
              "      <td>1</td>\n",
              "      <td>0</td>\n",
              "      <td>0</td>\n",
              "      <td>Outros</td>\n",
              "      <td>2.0</td>\n",
              "      <td>12.4</td>\n",
              "    </tr>\n",
              "    <tr>\n",
              "      <th>1</th>\n",
              "      <td>5008805</td>\n",
              "      <td>H</td>\n",
              "      <td>1</td>\n",
              "      <td>1</td>\n",
              "      <td>0</td>\n",
              "      <td>427500.0</td>\n",
              "      <td>Empregado</td>\n",
              "      <td>Ensino superior</td>\n",
              "      <td>Uniao estavel</td>\n",
              "      <td>Alugado</td>\n",
              "      <td>33.0</td>\n",
              "      <td>1</td>\n",
              "      <td>1</td>\n",
              "      <td>0</td>\n",
              "      <td>0</td>\n",
              "      <td>Outros</td>\n",
              "      <td>2.0</td>\n",
              "      <td>12.4</td>\n",
              "    </tr>\n",
              "    <tr>\n",
              "      <th>2</th>\n",
              "      <td>5008806</td>\n",
              "      <td>H</td>\n",
              "      <td>1</td>\n",
              "      <td>1</td>\n",
              "      <td>0</td>\n",
              "      <td>112500.0</td>\n",
              "      <td>Empregado</td>\n",
              "      <td>Ensino medio</td>\n",
              "      <td>Casado</td>\n",
              "      <td>Casa propria</td>\n",
              "      <td>59.0</td>\n",
              "      <td>1</td>\n",
              "      <td>0</td>\n",
              "      <td>0</td>\n",
              "      <td>0</td>\n",
              "      <td>Seguranca</td>\n",
              "      <td>2.0</td>\n",
              "      <td>3.1</td>\n",
              "    </tr>\n",
              "    <tr>\n",
              "      <th>3</th>\n",
              "      <td>5008808</td>\n",
              "      <td>M</td>\n",
              "      <td>0</td>\n",
              "      <td>1</td>\n",
              "      <td>0</td>\n",
              "      <td>270000.0</td>\n",
              "      <td>Associado comercial</td>\n",
              "      <td>Ensino medio</td>\n",
              "      <td>Solteiro</td>\n",
              "      <td>Casa propria</td>\n",
              "      <td>52.0</td>\n",
              "      <td>1</td>\n",
              "      <td>0</td>\n",
              "      <td>1</td>\n",
              "      <td>1</td>\n",
              "      <td>Venda</td>\n",
              "      <td>1.0</td>\n",
              "      <td>8.4</td>\n",
              "    </tr>\n",
              "    <tr>\n",
              "      <th>4</th>\n",
              "      <td>5008809</td>\n",
              "      <td>M</td>\n",
              "      <td>0</td>\n",
              "      <td>1</td>\n",
              "      <td>0</td>\n",
              "      <td>270000.0</td>\n",
              "      <td>Associado comercial</td>\n",
              "      <td>Ensino medio</td>\n",
              "      <td>Solteiro</td>\n",
              "      <td>Casa propria</td>\n",
              "      <td>52.0</td>\n",
              "      <td>1</td>\n",
              "      <td>0</td>\n",
              "      <td>1</td>\n",
              "      <td>1</td>\n",
              "      <td>Venda</td>\n",
              "      <td>1.0</td>\n",
              "      <td>8.4</td>\n",
              "    </tr>\n",
              "  </tbody>\n",
              "</table>\n",
              "</div>"
            ],
            "text/plain": [
              "   ID_Cliente Genero  Tem_Carro  Tem_Casa_Propria  Qtd_Filhos  \\\n",
              "0     5008804      H          1                 1           0   \n",
              "1     5008805      H          1                 1           0   \n",
              "2     5008806      H          1                 1           0   \n",
              "3     5008808      M          0                 1           0   \n",
              "4     5008809      M          0                 1           0   \n",
              "\n",
              "   Rendimento_Anual   Categoria_de_renda Grau_Escolaridade   Estado_Civil  \\\n",
              "0          427500.0            Empregado   Ensino superior  Uniao estavel   \n",
              "1          427500.0            Empregado   Ensino superior  Uniao estavel   \n",
              "2          112500.0            Empregado      Ensino medio         Casado   \n",
              "3          270000.0  Associado comercial      Ensino medio       Solteiro   \n",
              "4          270000.0  Associado comercial      Ensino medio       Solteiro   \n",
              "\n",
              "        Moradia  Idade  Tem_Celular  Tem_telefone_trabalho  Tem_telefone_fixo  \\\n",
              "0       Alugado   33.0            1                      1                  0   \n",
              "1       Alugado   33.0            1                      1                  0   \n",
              "2  Casa propria   59.0            1                      0                  0   \n",
              "3  Casa propria   52.0            1                      0                  1   \n",
              "4  Casa propria   52.0            1                      0                  1   \n",
              "\n",
              "   Tem_email   Ocupacao  Tamanho_Familia  Anos_empregado  \n",
              "0          0     Outros              2.0            12.4  \n",
              "1          0     Outros              2.0            12.4  \n",
              "2          0  Seguranca              2.0             3.1  \n",
              "3          1      Venda              1.0             8.4  \n",
              "4          1      Venda              1.0             8.4  "
            ]
          },
          "execution_count": 7,
          "metadata": {},
          "output_type": "execute_result"
        }
      ],
      "source": [
        "# Atribuindo os IDs duplicados a uma variável auxiliar para posteriormente removê-los.\n",
        "id_repetidos = df_clientes_cadastrados[df_clientes_cadastrados['ID_Cliente'].duplicated(keep=False)]['ID_Cliente']\n",
        "\n",
        "# Removendo os IDs duplicados, com o auxílio do variável criada anteriormente.\n",
        "df_clientes_cadastrados_ID_unicos = df_clientes_cadastrados.drop(id_repetidos.index)\n",
        "df_clientes_cadastrados_ID_unicos.head()"
      ]
    },
    {
      "cell_type": "code",
      "execution_count": 8,
      "metadata": {
        "colab": {
          "base_uri": "https://localhost:8080/"
        },
        "id": "PfTQjDu0tOaK",
        "outputId": "d366fffe-fc81-4330-8e89-04c2cff6de77"
      },
      "outputs": [
        {
          "data": {
            "text/plain": [
              "5008804    1\n",
              "6147691    1\n",
              "6147689    1\n",
              "6147688    1\n",
              "6147685    1\n",
              "          ..\n",
              "6093492    1\n",
              "5690720    1\n",
              "6538938    1\n",
              "6538937    1\n",
              "6842885    1\n",
              "Name: ID_Cliente, Length: 438463, dtype: int64"
            ]
          },
          "execution_count": 8,
          "metadata": {},
          "output_type": "execute_result"
        }
      ],
      "source": [
        "# Verificando se todos os dados duplicados foram removidos.\n",
        "df_clientes_cadastrados_ID_unicos['ID_Cliente'].value_counts()"
      ]
    },
    {
      "cell_type": "code",
      "execution_count": 9,
      "metadata": {
        "colab": {
          "base_uri": "https://localhost:8080/"
        },
        "id": "iws3Nmw9tZg7",
        "outputId": "6bb3185d-8035-43f3-f35d-8c028589865a"
      },
      "outputs": [
        {
          "data": {
            "text/plain": [
              "ID_Cliente               0\n",
              "Genero                   0\n",
              "Tem_Carro                0\n",
              "Tem_Casa_Propria         0\n",
              "Qtd_Filhos               0\n",
              "Rendimento_Anual         0\n",
              "Categoria_de_renda       0\n",
              "Grau_Escolaridade        0\n",
              "Estado_Civil             0\n",
              "Moradia                  0\n",
              "Idade                    0\n",
              "Tem_Celular              0\n",
              "Tem_telefone_trabalho    0\n",
              "Tem_telefone_fixo        0\n",
              "Tem_email                0\n",
              "Ocupacao                 0\n",
              "Tamanho_Familia          0\n",
              "Anos_empregado           0\n",
              "dtype: int64"
            ]
          },
          "execution_count": 9,
          "metadata": {},
          "output_type": "execute_result"
        }
      ],
      "source": [
        "# Verificando se existe algum valor faltante nos dados.\n",
        "df_clientes_cadastrados_ID_unicos.isnull().sum()"
      ]
    },
    {
      "cell_type": "code",
      "execution_count": 10,
      "metadata": {
        "colab": {
          "base_uri": "https://localhost:8080/"
        },
        "id": "eLM-ic5Ytwo0",
        "outputId": "6c907c33-c3aa-4e41-e257-58f37e4f171c"
      },
      "outputs": [
        {
          "name": "stdout",
          "output_type": "stream",
          "text": [
            "<class 'pandas.core.frame.DataFrame'>\n",
            "Int64Index: 438463 entries, 0 to 438556\n",
            "Data columns (total 18 columns):\n",
            " #   Column                 Non-Null Count   Dtype  \n",
            "---  ------                 --------------   -----  \n",
            " 0   ID_Cliente             438463 non-null  int64  \n",
            " 1   Genero                 438463 non-null  object \n",
            " 2   Tem_Carro              438463 non-null  int64  \n",
            " 3   Tem_Casa_Propria       438463 non-null  int64  \n",
            " 4   Qtd_Filhos             438463 non-null  int64  \n",
            " 5   Rendimento_Anual       438463 non-null  float64\n",
            " 6   Categoria_de_renda     438463 non-null  object \n",
            " 7   Grau_Escolaridade      438463 non-null  object \n",
            " 8   Estado_Civil           438463 non-null  object \n",
            " 9   Moradia                438463 non-null  object \n",
            " 10  Idade                  438463 non-null  float64\n",
            " 11  Tem_Celular            438463 non-null  int64  \n",
            " 12  Tem_telefone_trabalho  438463 non-null  int64  \n",
            " 13  Tem_telefone_fixo      438463 non-null  int64  \n",
            " 14  Tem_email              438463 non-null  int64  \n",
            " 15  Ocupacao               438463 non-null  object \n",
            " 16  Tamanho_Familia        438463 non-null  float64\n",
            " 17  Anos_empregado         438463 non-null  float64\n",
            "dtypes: float64(4), int64(8), object(6)\n",
            "memory usage: 63.6+ MB\n"
          ]
        }
      ],
      "source": [
        "# Abstraindo informações dos tipos de dados de cada coluna.\n",
        "df_clientes_cadastrados_ID_unicos.info()"
      ]
    },
    {
      "cell_type": "code",
      "execution_count": 11,
      "metadata": {},
      "outputs": [
        {
          "data": {
            "text/html": [
              "<div>\n",
              "<style scoped>\n",
              "    .dataframe tbody tr th:only-of-type {\n",
              "        vertical-align: middle;\n",
              "    }\n",
              "\n",
              "    .dataframe tbody tr th {\n",
              "        vertical-align: top;\n",
              "    }\n",
              "\n",
              "    .dataframe thead th {\n",
              "        text-align: right;\n",
              "    }\n",
              "</style>\n",
              "<table border=\"1\" class=\"dataframe\">\n",
              "  <thead>\n",
              "    <tr style=\"text-align: right;\">\n",
              "      <th></th>\n",
              "      <th>Idade</th>\n",
              "      <th>Qtd_Filhos</th>\n",
              "      <th>Rendimento_Anual</th>\n",
              "      <th>Anos_empregado</th>\n",
              "      <th>Tamanho_Familia</th>\n",
              "    </tr>\n",
              "  </thead>\n",
              "  <tbody>\n",
              "    <tr>\n",
              "      <th>count</th>\n",
              "      <td>438463.000000</td>\n",
              "      <td>438463.000000</td>\n",
              "      <td>4.384630e+05</td>\n",
              "      <td>438463.000000</td>\n",
              "      <td>438463.000000</td>\n",
              "    </tr>\n",
              "    <tr>\n",
              "      <th>mean</th>\n",
              "      <td>43.834032</td>\n",
              "      <td>0.427384</td>\n",
              "      <td>1.875220e+05</td>\n",
              "      <td>-165.936036</td>\n",
              "      <td>2.194461</td>\n",
              "    </tr>\n",
              "    <tr>\n",
              "      <th>std</th>\n",
              "      <td>11.472815</td>\n",
              "      <td>0.724879</td>\n",
              "      <td>1.100832e+05</td>\n",
              "      <td>380.201131</td>\n",
              "      <td>0.897194</td>\n",
              "    </tr>\n",
              "    <tr>\n",
              "      <th>min</th>\n",
              "      <td>21.000000</td>\n",
              "      <td>0.000000</td>\n",
              "      <td>2.610000e+04</td>\n",
              "      <td>-1000.700000</td>\n",
              "      <td>1.000000</td>\n",
              "    </tr>\n",
              "    <tr>\n",
              "      <th>25%</th>\n",
              "      <td>34.000000</td>\n",
              "      <td>0.000000</td>\n",
              "      <td>1.215000e+05</td>\n",
              "      <td>1.000000</td>\n",
              "      <td>2.000000</td>\n",
              "    </tr>\n",
              "    <tr>\n",
              "      <th>50%</th>\n",
              "      <td>43.000000</td>\n",
              "      <td>0.000000</td>\n",
              "      <td>1.611000e+05</td>\n",
              "      <td>4.000000</td>\n",
              "      <td>2.000000</td>\n",
              "    </tr>\n",
              "    <tr>\n",
              "      <th>75%</th>\n",
              "      <td>53.000000</td>\n",
              "      <td>1.000000</td>\n",
              "      <td>2.250000e+05</td>\n",
              "      <td>8.500000</td>\n",
              "      <td>3.000000</td>\n",
              "    </tr>\n",
              "    <tr>\n",
              "      <th>max</th>\n",
              "      <td>69.000000</td>\n",
              "      <td>19.000000</td>\n",
              "      <td>6.750000e+06</td>\n",
              "      <td>48.000000</td>\n",
              "      <td>20.000000</td>\n",
              "    </tr>\n",
              "  </tbody>\n",
              "</table>\n",
              "</div>"
            ],
            "text/plain": [
              "               Idade     Qtd_Filhos  Rendimento_Anual  Anos_empregado  \\\n",
              "count  438463.000000  438463.000000      4.384630e+05   438463.000000   \n",
              "mean       43.834032       0.427384      1.875220e+05     -165.936036   \n",
              "std        11.472815       0.724879      1.100832e+05      380.201131   \n",
              "min        21.000000       0.000000      2.610000e+04    -1000.700000   \n",
              "25%        34.000000       0.000000      1.215000e+05        1.000000   \n",
              "50%        43.000000       0.000000      1.611000e+05        4.000000   \n",
              "75%        53.000000       1.000000      2.250000e+05        8.500000   \n",
              "max        69.000000      19.000000      6.750000e+06       48.000000   \n",
              "\n",
              "       Tamanho_Familia  \n",
              "count    438463.000000  \n",
              "mean          2.194461  \n",
              "std           0.897194  \n",
              "min           1.000000  \n",
              "25%           2.000000  \n",
              "50%           2.000000  \n",
              "75%           3.000000  \n",
              "max          20.000000  "
            ]
          },
          "execution_count": 11,
          "metadata": {},
          "output_type": "execute_result"
        }
      ],
      "source": [
        "# Separando as culunas Quantitativas\n",
        "colunas_quantitativas = ['Idade','Qtd_Filhos','Rendimento_Anual','Anos_empregado','Tamanho_Familia']\n",
        "# Gerando estatísticas básicas\n",
        "df_clientes_cadastrados_ID_unicos[colunas_quantitativas].describe()"
      ]
    },
    {
      "cell_type": "code",
      "execution_count": 12,
      "metadata": {},
      "outputs": [
        {
          "data": {
            "text/plain": [
              "Anos_empregado  Categoria_de_renda \n",
              "-1000.7         Pensionista            75314\n",
              " 0.0            Empregado                 26\n",
              "                Servidor publico          11\n",
              "                Associado comercial        7\n",
              "dtype: int64"
            ]
          },
          "execution_count": 12,
          "metadata": {},
          "output_type": "execute_result"
        }
      ],
      "source": [
        "# Pesquisando nos dados pessoas com 0 ou menos anos de trabalho, e somando a quantidade por categoria. \n",
        "# Obviamente uma pessoa não pode ter um tempo negativo de trabalho, \n",
        "# ou seja isso deve ter sido a maneira de contar quantos anos a pessoa está desempregada. \n",
        "# E além do mais para pensionistas está dando como -1000.7 anos o que tas foi uma forma de notação, a qual será usada a seguir.\n",
        "df_clientes_cadastrados_ID_unicos.query(\"Anos_empregado <= 0\")[['Anos_empregado', 'Categoria_de_renda']].value_counts()"
      ]
    },
    {
      "cell_type": "code",
      "execution_count": 13,
      "metadata": {},
      "outputs": [
        {
          "data": {
            "text/html": [
              "<div>\n",
              "<style scoped>\n",
              "    .dataframe tbody tr th:only-of-type {\n",
              "        vertical-align: middle;\n",
              "    }\n",
              "\n",
              "    .dataframe tbody tr th {\n",
              "        vertical-align: top;\n",
              "    }\n",
              "\n",
              "    .dataframe thead th {\n",
              "        text-align: right;\n",
              "    }\n",
              "</style>\n",
              "<table border=\"1\" class=\"dataframe\">\n",
              "  <thead>\n",
              "    <tr style=\"text-align: right;\">\n",
              "      <th></th>\n",
              "      <th>Categoria_de_renda</th>\n",
              "      <th>Anos_empregado</th>\n",
              "    </tr>\n",
              "  </thead>\n",
              "  <tbody>\n",
              "    <tr>\n",
              "      <th>0</th>\n",
              "      <td>Empregado</td>\n",
              "      <td>12.4</td>\n",
              "    </tr>\n",
              "    <tr>\n",
              "      <th>1</th>\n",
              "      <td>Empregado</td>\n",
              "      <td>12.4</td>\n",
              "    </tr>\n",
              "    <tr>\n",
              "      <th>2</th>\n",
              "      <td>Empregado</td>\n",
              "      <td>3.1</td>\n",
              "    </tr>\n",
              "    <tr>\n",
              "      <th>3</th>\n",
              "      <td>Associado comercial</td>\n",
              "      <td>8.4</td>\n",
              "    </tr>\n",
              "    <tr>\n",
              "      <th>4</th>\n",
              "      <td>Associado comercial</td>\n",
              "      <td>8.4</td>\n",
              "    </tr>\n",
              "  </tbody>\n",
              "</table>\n",
              "</div>"
            ],
            "text/plain": [
              "    Categoria_de_renda  Anos_empregado\n",
              "0            Empregado            12.4\n",
              "1            Empregado            12.4\n",
              "2            Empregado             3.1\n",
              "3  Associado comercial             8.4\n",
              "4  Associado comercial             8.4"
            ]
          },
          "execution_count": 13,
          "metadata": {},
          "output_type": "execute_result"
        }
      ],
      "source": [
        "# Trocando o -1000.7 por menos -1 para a identificação de pensionistas.\n",
        "df_clientes_cadastrados_ID_unicos['Anos_empregado'] = df_clientes_cadastrados_ID_unicos['Anos_empregado'].replace(-1000.7, -1)\n",
        "df_clientes_cadastrados_ID_unicos[['Categoria_de_renda','Anos_empregado']].head(5)"
      ]
    },
    {
      "cell_type": "markdown",
      "metadata": {},
      "source": [
        "## Análise grafica"
      ]
    },
    {
      "cell_type": "code",
      "execution_count": 14,
      "metadata": {},
      "outputs": [],
      "source": [
        "#Aqui uma função para fazer os graficos de maneira padronizanao, e não ficar fazendo toda hora o meso trabalho.\n",
        "# É só passar o tipo de grafico, os dados, a coluna, e a legenda para esta coluna.\n",
        "def monta_grafico(tipo:int, dataframe, coluna, legenda):\n",
        "    if tipo == 1: \n",
        "        sns.countplot(data=dataframe, x=coluna, order = coluna.value_counts().index)\n",
        "        plt.xticks(rotation=45, ha='right')\n",
        "        plt.xlabel(legenda)\n",
        "        plt.ylabel('Contagem')\n",
        "        plt.show()\n",
        "    if tipo == 2: \n",
        "        sns.histplot(data=dataframe, x=coluna, bins=10)\n",
        "        plt.xticks(rotation=45, ha='right')\n",
        "        plt.xlabel(legenda)\n",
        "        plt.ylabel('Contagem')\n",
        "        plt.show()\n",
        "    if tipo == 3: \n",
        "        sns.boxplot(data=dataframe, y=coluna)\n",
        "        # plt.xticks(rotation=45, ha='right')\n",
        "        plt.xlabel('Distribuição')\n",
        "        plt.ylabel(legenda)\n",
        "\n",
        "        plt.show()"
      ]
    },
    {
      "cell_type": "code",
      "execution_count": 15,
      "metadata": {},
      "outputs": [],
      "source": [
        "#Aqui uma função para fazer os graficos de maneira padronizanao, e não ficar fazendo toda hora o meso trabalho.\n",
        "# É só passar o tipo de grafico, os dados, a coluna, e a legenda para esta coluna.\n",
        "def monta_graficos(tipo:str, dataframe, coluna, legenda):\n",
        "    if tipo == 'count': \n",
        "        sns.countplot(data=dataframe, x=coluna)\n",
        "        plt.xticks(rotation=45, ha='right')\n",
        "        plt.xlabel(legenda)\n",
        "        plt.ylabel('Contagem')\n",
        "        plt.show()\n",
        "    if tipo == 'hist': \n",
        "        sns.histplot(data=dataframe, x=coluna, bins=10)\n",
        "        plt.xticks(rotation=45, ha='right')\n",
        "        plt.xlabel(legenda)\n",
        "        plt.ylabel('Contagem')\n",
        "        plt.show()\n",
        "    if tipo == 'box': \n",
        "        sns.boxplot(data=dataframe, y=coluna)\n",
        "        # plt.xticks(rotation=45, ha='right')\n",
        "        plt.xlabel('Distribuição')\n",
        "        plt.ylabel(legenda)\n",
        "        plt.show()\n",
        "    if tipo == 'count_ordenado': \n",
        "        sns.countplot(data=dataframe, x=coluna, order = dataframe[coluna].value_counts().index)\n",
        "        plt.xticks(rotation=45, ha='right')\n",
        "        plt.xlabel(legenda)\n",
        "        plt.ylabel('Contagem')\n",
        "        plt.show()    "
      ]
    },
    {
      "cell_type": "markdown",
      "metadata": {},
      "source": [
        "Alguns gráficos boxplot e histplot, para a verificação da distribuição dos dados, a verificação de outliers e um maior entendimento dos dados."
      ]
    },
    {
      "cell_type": "markdown",
      "metadata": {},
      "source": [
        "##### Anos Empregado"
      ]
    },
    {
      "cell_type": "code",
      "execution_count": 16,
      "metadata": {},
      "outputs": [
        {
          "data": {
            "image/png": "[encoded data removed]",
            "text/plain": [
              "<Figure size 432x288 with 1 Axes>"
            ]
          },
          "metadata": {},
          "output_type": "display_data"
        }
      ],
      "source": [
        "# Usando a função de montar grafico, um grafico para ver como esta a distriuição de renda dos nossos clientes\n",
        "monta_graficos('box', df_clientes_cadastrados_ID_unicos, 'Anos_empregado', 'Anos Empregado')"
      ]
    },
    {
      "cell_type": "markdown",
      "metadata": {},
      "source": [
        "A distribuição mostra claramente um número de empregados entre 0 a 10 de trabalho muito aior que o resto, o que seria o mais condizente com a realidade. E ainda alguns dados de 20 a 50."
      ]
    },
    {
      "cell_type": "code",
      "execution_count": 17,
      "metadata": {},
      "outputs": [
        {
          "data": {
            "text/plain": [
              "278778"
            ]
          },
          "execution_count": 17,
          "metadata": {},
          "output_type": "execute_result"
        }
      ],
      "source": [
        "# Apenas para confirmar nutriente o que nosso gráfico mostrou, a grande concentração de clientes entre 0 a 10.\n",
        "df_clientes_cadastrados_ID_unicos.query(\"0 < Anos_empregado <= 10\")[['Anos_empregado']].value_counts().sum()\n"
      ]
    },
    {
      "cell_type": "code",
      "execution_count": 18,
      "metadata": {},
      "outputs": [
        {
          "data": {
            "text/plain": [
              "20849"
            ]
          },
          "execution_count": 18,
          "metadata": {},
          "output_type": "execute_result"
        }
      ],
      "source": [
        "# Apenas para confirmar nutriente o que nosso gráfico mostrou, os nossos outiers de clientes entre 20 a 50.\n",
        "df_clientes_cadastrados_ID_unicos.query(\"20 < Anos_empregado <= 50\")[['Anos_empregado']].value_counts().sum()\n"
      ]
    },
    {
      "cell_type": "code",
      "execution_count": 19,
      "metadata": {},
      "outputs": [
        {
          "data": {
            "image/png": "[encoded data removed]",
            "text/plain": [
              "<Figure size 432x288 with 1 Axes>"
            ]
          },
          "metadata": {},
          "output_type": "display_data"
        }
      ],
      "source": [
        "# Outra maneira de ver o declínio, quando se trata de uma maior quantidade de anos empregado.\n",
        "monta_graficos('hist', df_clientes_cadastrados_ID_unicos, 'Anos_empregado', 'Anos Empregado')"
      ]
    },
    {
      "cell_type": "markdown",
      "metadata": {},
      "source": [
        "##### Rendimento Anual"
      ]
    },
    {
      "cell_type": "code",
      "execution_count": 21,
      "metadata": {},
      "outputs": [
        {
          "data": {
            "image/png": "[encoded data removed]",
            "text/plain": [
              "<Figure size 432x288 with 1 Axes>"
            ]
          },
          "metadata": {},
          "output_type": "display_data"
        }
      ],
      "source": [
        "monta_graficos('box', df_clientes_cadastrados_ID_unicos, 'Rendimento_Anual', 'Rendimento Anual')"
      ]
    },
    {
      "cell_type": "markdown",
      "metadata": {},
      "source": [
        "O gráfico ficou praticamente ilegível, vou diminuir o limite de Y, para ter uma melhor visualização. Mesmo sabendo que não é uma boa prática, porém no atual momento o que mais importa é o miolo do gráfico."
      ]
    },
    {
      "cell_type": "code",
      "execution_count": 22,
      "metadata": {},
      "outputs": [
        {
          "data": {
            "image/png": "[encoded data removed]",
            "text/plain": [
              "<Figure size 432x288 with 1 Axes>"
            ]
          },
          "metadata": {},
          "output_type": "display_data"
        }
      ],
      "source": [
        "# O limite foi diminuído, para poder deixar visível a parte que mais importa no gráfico no momento.\n",
        "# Sabendo que foi perdido dados de outliers.\n",
        "plt.ylim(0, 700000)\n",
        "monta_graficos('box', df_clientes_cadastrados_ID_unicos, 'Rendimento_Anual', 'Rendimento Anual')"
      ]
    },
    {
      "cell_type": "markdown",
      "metadata": {},
      "source": [
        " \n",
        "Como os outliers estão atrapalhando serão removidos e logo após irei plotar o gráfico novamente.\n"
      ]
    },
    {
      "cell_type": "code",
      "execution_count": 24,
      "metadata": {},
      "outputs": [],
      "source": [
        "# Uma função para remover outliers de determinada coluna\n",
        "# Só passar a coluna a ser alterada.\n",
        "def remove_out(coluna:str):\n",
        "    coluna = df_clientes_cadastrados_ID_unicos[coluna]\n",
        "\n",
        "    coluna_med = coluna.mean()\n",
        "    coluna_std = coluna.std()\n",
        "\n",
        "    limite_sup = coluna_med + (2 * coluna_std)\n",
        "    limite_inf = coluna_med - (2 * coluna_std)\n",
        "\n",
        "    index_outliers_y = []\n",
        "\n",
        "    for index, valor in  coluna.items():\n",
        "        if valor > limite_sup or valor < limite_inf:\n",
        "            index_outliers_y.append(index)\n",
        "            \n",
        "    return index_outliers_y\n",
        "\n"
      ]
    },
    {
      "cell_type": "code",
      "execution_count": 27,
      "metadata": {},
      "outputs": [
        {
          "data": {
            "text/html": [
              "<div>\n",
              "<style scoped>\n",
              "    .dataframe tbody tr th:only-of-type {\n",
              "        vertical-align: middle;\n",
              "    }\n",
              "\n",
              "    .dataframe tbody tr th {\n",
              "        vertical-align: top;\n",
              "    }\n",
              "\n",
              "    .dataframe thead th {\n",
              "        text-align: right;\n",
              "    }\n",
              "</style>\n",
              "<table border=\"1\" class=\"dataframe\">\n",
              "  <thead>\n",
              "    <tr style=\"text-align: right;\">\n",
              "      <th></th>\n",
              "      <th>Idade</th>\n",
              "      <th>Qtd_Filhos</th>\n",
              "      <th>Rendimento_Anual</th>\n",
              "      <th>Anos_empregado</th>\n",
              "      <th>Tamanho_Familia</th>\n",
              "    </tr>\n",
              "  </thead>\n",
              "  <tbody>\n",
              "    <tr>\n",
              "      <th>count</th>\n",
              "      <td>425822.000000</td>\n",
              "      <td>425822.000000</td>\n",
              "      <td>425822.000000</td>\n",
              "      <td>425822.000000</td>\n",
              "      <td>425822.000000</td>\n",
              "    </tr>\n",
              "    <tr>\n",
              "      <th>mean</th>\n",
              "      <td>43.838707</td>\n",
              "      <td>0.425314</td>\n",
              "      <td>176384.728083</td>\n",
              "      <td>5.744956</td>\n",
              "      <td>2.191683</td>\n",
              "    </tr>\n",
              "    <tr>\n",
              "      <th>std</th>\n",
              "      <td>11.525400</td>\n",
              "      <td>0.723577</td>\n",
              "      <td>75033.530551</td>\n",
              "      <td>6.736649</td>\n",
              "      <td>0.896300</td>\n",
              "    </tr>\n",
              "    <tr>\n",
              "      <th>min</th>\n",
              "      <td>21.000000</td>\n",
              "      <td>0.000000</td>\n",
              "      <td>26100.000000</td>\n",
              "      <td>-1.000000</td>\n",
              "      <td>1.000000</td>\n",
              "    </tr>\n",
              "    <tr>\n",
              "      <th>25%</th>\n",
              "      <td>34.000000</td>\n",
              "      <td>0.000000</td>\n",
              "      <td>117000.000000</td>\n",
              "      <td>1.000000</td>\n",
              "      <td>2.000000</td>\n",
              "    </tr>\n",
              "    <tr>\n",
              "      <th>50%</th>\n",
              "      <td>43.000000</td>\n",
              "      <td>0.000000</td>\n",
              "      <td>157500.000000</td>\n",
              "      <td>4.000000</td>\n",
              "      <td>2.000000</td>\n",
              "    </tr>\n",
              "    <tr>\n",
              "      <th>75%</th>\n",
              "      <td>53.000000</td>\n",
              "      <td>1.000000</td>\n",
              "      <td>225000.000000</td>\n",
              "      <td>8.500000</td>\n",
              "      <td>3.000000</td>\n",
              "    </tr>\n",
              "    <tr>\n",
              "      <th>max</th>\n",
              "      <td>69.000000</td>\n",
              "      <td>19.000000</td>\n",
              "      <td>405000.000000</td>\n",
              "      <td>48.000000</td>\n",
              "      <td>20.000000</td>\n",
              "    </tr>\n",
              "  </tbody>\n",
              "</table>\n",
              "</div>"
            ],
            "text/plain": [
              "               Idade     Qtd_Filhos  Rendimento_Anual  Anos_empregado  \\\n",
              "count  425822.000000  425822.000000     425822.000000   425822.000000   \n",
              "mean       43.838707       0.425314     176384.728083        5.744956   \n",
              "std        11.525400       0.723577      75033.530551        6.736649   \n",
              "min        21.000000       0.000000      26100.000000       -1.000000   \n",
              "25%        34.000000       0.000000     117000.000000        1.000000   \n",
              "50%        43.000000       0.000000     157500.000000        4.000000   \n",
              "75%        53.000000       1.000000     225000.000000        8.500000   \n",
              "max        69.000000      19.000000     405000.000000       48.000000   \n",
              "\n",
              "       Tamanho_Familia  \n",
              "count    425822.000000  \n",
              "mean          2.191683  \n",
              "std           0.896300  \n",
              "min           1.000000  \n",
              "25%           2.000000  \n",
              "50%           2.000000  \n",
              "75%           3.000000  \n",
              "max          20.000000  "
            ]
          },
          "execution_count": 27,
          "metadata": {},
          "output_type": "execute_result"
        }
      ],
      "source": [
        "# Usando a função de remoção de outliers, para removê-los da coluna Rendimento anual.\n",
        "list_remov = remove_out('Rendimento_Anual')\n",
        "\n",
        "remover_outliers_df_clientes_cadastrados = df_clientes_cadastrados_ID_unicos\n",
        "df_clientes_cadastrados_sem_outlier = remover_outliers_df_clientes_cadastrados.drop(list_remov)\n",
        "\n",
        "# Estatisticas basicas das colunas Quantitativas. Agora sem os outliers de rendimento. \n",
        "df_clientes_cadastrados_sem_outlier[colunas_quantitativas].describe()"
      ]
    },
    {
      "cell_type": "code",
      "execution_count": 30,
      "metadata": {},
      "outputs": [
        {
          "data": {
            "image/png": "[encoded data removed]",
            "text/plain": [
              "<Figure size 432x288 with 1 Axes>"
            ]
          },
          "metadata": {},
          "output_type": "display_data"
        }
      ],
      "source": [
        "monta_graficos('box', df_clientes_cadastrados_sem_outlier, 'Rendimento_Anual', 'Rendimento Anual')"
      ]
    },
    {
      "cell_type": "code",
      "execution_count": 31,
      "metadata": {},
      "outputs": [
        {
          "data": {
            "image/png": "[encoded data removed]",
            "text/plain": [
              "<Figure size 432x288 with 1 Axes>"
            ]
          },
          "metadata": {},
          "output_type": "display_data"
        }
      ],
      "source": [
        "monta_graficos('hist', df_clientes_cadastrados_sem_outlier,'Rendimento_Anual', 'Rendimento Anual')"
      ]
    },
    {
      "cell_type": "markdown",
      "metadata": {},
      "source": [
        "Se nota uma grande concentração de 10000 a 250000 de rendimento anual."
      ]
    },
    {
      "cell_type": "markdown",
      "metadata": {},
      "source": [
        "##### Idade"
      ]
    },
    {
      "cell_type": "code",
      "execution_count": 32,
      "metadata": {},
      "outputs": [
        {
          "data": {
            "image/png": "[encoded data removed]",
            "text/plain": [
              "<Figure size 432x288 with 1 Axes>"
            ]
          },
          "metadata": {},
          "output_type": "display_data"
        }
      ],
      "source": [
        "monta_graficos('hist', df_clientes_cadastrados_sem_outlier, 'Idade', 'Idade dos clientes')"
      ]
    },
    {
      "cell_type": "code",
      "execution_count": 34,
      "metadata": {},
      "outputs": [
        {
          "data": {
            "image/png": "[encoded data removed]",
            "text/plain": [
              "<Figure size 432x288 with 1 Axes>"
            ]
          },
          "metadata": {},
          "output_type": "display_data"
        }
      ],
      "source": [
        "monta_graficos('hist', df_clientes_cadastrados_sem_outlier.query(\"Anos_empregado > 0\"), 'Anos_empregado', 'Empregado em anos')"
      ]
    },
    {
      "cell_type": "markdown",
      "metadata": {},
      "source": [
        "##### Estado Civil"
      ]
    },
    {
      "cell_type": "code",
      "execution_count": 35,
      "metadata": {},
      "outputs": [
        {
          "data": {
            "image/png": "[encoded data removed]",
            "text/plain": [
              "<Figure size 432x288 with 1 Axes>"
            ]
          },
          "metadata": {},
          "output_type": "display_data"
        }
      ],
      "source": [
        "monta_graficos('count_ordenado', df_clientes_cadastrados_sem_outlier, 'Estado_Civil', 'Estado Civil')"
      ]
    },
    {
      "cell_type": "markdown",
      "metadata": {},
      "source": [
        "##### Tem Celular"
      ]
    },
    {
      "cell_type": "code",
      "execution_count": 36,
      "metadata": {},
      "outputs": [
        {
          "data": {
            "image/png": "[encoded data removed]",
            "text/plain": [
              "<Figure size 432x288 with 1 Axes>"
            ]
          },
          "metadata": {},
          "output_type": "display_data"
        }
      ],
      "source": [
        "monta_graficos('count', df_clientes_cadastrados_sem_outlier, 'Tem_Celular', 'Celular')"
      ]
    },
    {
      "cell_type": "markdown",
      "metadata": {},
      "source": [
        "Todos têm celular. Essa coluna deverá ser excluída, ela será após o fim da análise, a fim de que se houver mais alguma que deva ser excluída elas estarão juntas.\n"
      ]
    },
    {
      "cell_type": "markdown",
      "metadata": {},
      "source": [
        "##### Telefone Fixo"
      ]
    },
    {
      "cell_type": "code",
      "execution_count": 37,
      "metadata": {},
      "outputs": [
        {
          "data": {
            "image/png": "[encoded data removed]",
            "text/plain": [
              "<Figure size 432x288 with 1 Axes>"
            ]
          },
          "metadata": {},
          "output_type": "display_data"
        }
      ],
      "source": [
        "monta_graficos('count', df_clientes_cadastrados_sem_outlier, 'Tem_telefone_fixo', 'Telefone Fixo')"
      ]
    },
    {
      "cell_type": "markdown",
      "metadata": {},
      "source": [
        "##### Ocupação"
      ]
    },
    {
      "cell_type": "code",
      "execution_count": 38,
      "metadata": {},
      "outputs": [
        {
          "data": {
            "image/png": "[encoded data removed]",
            "text/plain": [
              "<Figure size 432x288 with 1 Axes>"
            ]
          },
          "metadata": {},
          "output_type": "display_data"
        }
      ],
      "source": [
        "monta_graficos('count_ordenado',df_clientes_cadastrados_sem_outlier, 'Ocupacao', 'Trabalha em')"
      ]
    },
    {
      "cell_type": "code",
      "execution_count": 39,
      "metadata": {},
      "outputs": [
        {
          "data": {
            "image/png": "[encoded data removed]",
            "text/plain": [
              "<Figure size 432x288 with 1 Axes>"
            ]
          },
          "metadata": {},
          "output_type": "display_data"
        }
      ],
      "source": [
        "monta_graficos('hist', df_clientes_cadastrados_sem_outlier.query(\"Ocupacao == 'Outros'\"), 'Rendimento_Anual', 'Rendimento da categoria Outros')"
      ]
    },
    {
      "cell_type": "markdown",
      "metadata": {},
      "source": [
        "A maior parte dos clientes, da categoria Outro, encontra-se entre 100000 a 250000. Sendo desta parte a maior fica por perto dos 150000 de rendimento anual."
      ]
    },
    {
      "cell_type": "markdown",
      "metadata": {},
      "source": [
        "##### Exclusão de colunas desnecessarias\n",
        "\n",
        "A coluna, Tem_telefone, será excluída pois apresenta o mesmo valor para todos os colunas.\n",
        "<br> A coluna, Gênero, será excluída por ser contra a lei usar genero para análise de crédito.\n"
      ]
    },
    {
      "cell_type": "code",
      "execution_count": 40,
      "metadata": {},
      "outputs": [
        {
          "data": {
            "text/plain": [
              "(425822, 16)"
            ]
          },
          "execution_count": 40,
          "metadata": {},
          "output_type": "execute_result"
        }
      ],
      "source": [
        "df_clientes_cadastrados_tratamento1= df_clientes_cadastrados_sem_outlier.drop(['Genero', 'Tem_Celular'], axis=1)\n",
        "df_clientes_cadastrados_tratamento1.shape"
      ]
    },
    {
      "cell_type": "code",
      "execution_count": 41,
      "metadata": {},
      "outputs": [],
      "source": [
        "# Para deixar separado os tipos de colunas que tenho nos dados\n",
        "colunas_quantitativas = ['Idade', 'Qtd_Filhos', 'Rendimento_Anual', 'Anos_empregado', 'Tamanho_Familia']\n",
        "\n",
        "colunas_categoricas = ['Genero', 'Tem_Carro', 'Tem_Casa_Propria', \n",
        "                        'Categoria_de_renda', 'Grau_Escolaridade', \n",
        "                        'Estado_Civil', 'Moradia', 'Tem_Celular',\n",
        "                        'Tem_telefone_trabalho', 'Tem_telefone_fixo', 'Tem_email',\n",
        "                        'Ocupacao']"
      ]
    },
    {
      "cell_type": "code",
      "execution_count": 42,
      "metadata": {},
      "outputs": [
        {
          "data": {
            "text/plain": [
              "['Tem_Carro',\n",
              " 'Tem_Casa_Propria',\n",
              " 'Categoria_de_renda',\n",
              " 'Grau_Escolaridade',\n",
              " 'Estado_Civil',\n",
              " 'Moradia',\n",
              " 'Tem_telefone_trabalho',\n",
              " 'Tem_telefone_fixo',\n",
              " 'Tem_email',\n",
              " 'Ocupacao']"
            ]
          },
          "execution_count": 42,
          "metadata": {},
          "output_type": "execute_result"
        }
      ],
      "source": [
        "# Removendo as duas colunas da lista de categorias também.\n",
        "colunas_categoricas.remove('Genero')\n",
        "colunas_categoricas.remove('Tem_Celular')\n",
        "colunas_categoricas"
      ]
    },
    {
      "cell_type": "markdown",
      "metadata": {},
      "source": [
        "## Análise dos clientes aprovados"
      ]
    },
    {
      "cell_type": "code",
      "execution_count": 43,
      "metadata": {},
      "outputs": [
        {
          "data": {
            "text/html": [
              "<div>\n",
              "<style scoped>\n",
              "    .dataframe tbody tr th:only-of-type {\n",
              "        vertical-align: middle;\n",
              "    }\n",
              "\n",
              "    .dataframe tbody tr th {\n",
              "        vertical-align: top;\n",
              "    }\n",
              "\n",
              "    .dataframe thead th {\n",
              "        text-align: right;\n",
              "    }\n",
              "</style>\n",
              "<table border=\"1\" class=\"dataframe\">\n",
              "  <thead>\n",
              "    <tr style=\"text-align: right;\">\n",
              "      <th></th>\n",
              "      <th>ID_Cliente</th>\n",
              "      <th>Mes_referencia</th>\n",
              "      <th>Faixa_atraso</th>\n",
              "    </tr>\n",
              "  </thead>\n",
              "  <tbody>\n",
              "    <tr>\n",
              "      <th>0</th>\n",
              "      <td>5001711</td>\n",
              "      <td>0</td>\n",
              "      <td>nenhum empréstimo</td>\n",
              "    </tr>\n",
              "    <tr>\n",
              "      <th>1</th>\n",
              "      <td>5001711</td>\n",
              "      <td>-1</td>\n",
              "      <td>1-29 dias</td>\n",
              "    </tr>\n",
              "    <tr>\n",
              "      <th>2</th>\n",
              "      <td>5001711</td>\n",
              "      <td>-2</td>\n",
              "      <td>1-29 dias</td>\n",
              "    </tr>\n",
              "    <tr>\n",
              "      <th>3</th>\n",
              "      <td>5001711</td>\n",
              "      <td>-3</td>\n",
              "      <td>1-29 dias</td>\n",
              "    </tr>\n",
              "    <tr>\n",
              "      <th>4</th>\n",
              "      <td>5001712</td>\n",
              "      <td>0</td>\n",
              "      <td>pagamento realizado</td>\n",
              "    </tr>\n",
              "  </tbody>\n",
              "</table>\n",
              "</div>"
            ],
            "text/plain": [
              "   ID_Cliente  Mes_referencia         Faixa_atraso\n",
              "0     5001711               0    nenhum empréstimo\n",
              "1     5001711              -1            1-29 dias\n",
              "2     5001711              -2            1-29 dias\n",
              "3     5001711              -3            1-29 dias\n",
              "4     5001712               0  pagamento realizado"
            ]
          },
          "execution_count": 43,
          "metadata": {},
          "output_type": "execute_result"
        }
      ],
      "source": [
        "# Importação do segundo dataset.\n",
        "df_clientes_aprovados = pd.read_csv('https://raw.githubusercontent.com/alura-cursos/Avaliacao_Credito/main/dados/clientes_aprovados.csv')\n",
        "df_clientes_aprovados.head()"
      ]
    },
    {
      "cell_type": "code",
      "execution_count": 44,
      "metadata": {},
      "outputs": [
        {
          "name": "stdout",
          "output_type": "stream",
          "text": [
            "<class 'pandas.core.frame.DataFrame'>\n",
            "RangeIndex: 1048575 entries, 0 to 1048574\n",
            "Data columns (total 3 columns):\n",
            " #   Column          Non-Null Count    Dtype \n",
            "---  ------          --------------    ----- \n",
            " 0   ID_Cliente      1048575 non-null  int64 \n",
            " 1   Mes_referencia  1048575 non-null  int64 \n",
            " 2   Faixa_atraso    1048575 non-null  object\n",
            "dtypes: int64(2), object(1)\n",
            "memory usage: 24.0+ MB\n"
          ]
        }
      ],
      "source": [
        "# Abstraindo informações dos tipos de dados de cada coluna.\n",
        "df_clientes_aprovados.info()"
      ]
    },
    {
      "cell_type": "code",
      "execution_count": 45,
      "metadata": {},
      "outputs": [
        {
          "data": {
            "text/plain": [
              "(425822, 16)"
            ]
          },
          "execution_count": 45,
          "metadata": {},
          "output_type": "execute_result"
        }
      ],
      "source": [
        "# De um total de 425822 clientes cadastrados, temos quantos aceitos?\n",
        "df_clientes_cadastrados_tratamento1.shape"
      ]
    },
    {
      "cell_type": "code",
      "execution_count": 46,
      "metadata": {},
      "outputs": [
        {
          "data": {
            "text/plain": [
              "(45985,)"
            ]
          },
          "execution_count": 46,
          "metadata": {},
          "output_type": "execute_result"
        }
      ],
      "source": [
        "#  Buscando pela quantidade de IDs clientes aceitos\n",
        "df_clientes_aprovados.ID_Cliente.value_counts().shape"
      ]
    },
    {
      "cell_type": "markdown",
      "metadata": {},
      "source": [
        "Tem se um pouco mais de 10% de aprovações. "
      ]
    },
    {
      "cell_type": "markdown",
      "metadata": {},
      "source": [
        "A fim de estudar a estrutura em que os dados estão, vou listar o primeiro ID"
      ]
    },
    {
      "cell_type": "code",
      "execution_count": 47,
      "metadata": {},
      "outputs": [
        {
          "data": {
            "text/html": [
              "<div>\n",
              "<style scoped>\n",
              "    .dataframe tbody tr th:only-of-type {\n",
              "        vertical-align: middle;\n",
              "    }\n",
              "\n",
              "    .dataframe tbody tr th {\n",
              "        vertical-align: top;\n",
              "    }\n",
              "\n",
              "    .dataframe thead th {\n",
              "        text-align: right;\n",
              "    }\n",
              "</style>\n",
              "<table border=\"1\" class=\"dataframe\">\n",
              "  <thead>\n",
              "    <tr style=\"text-align: right;\">\n",
              "      <th></th>\n",
              "      <th>ID_Cliente</th>\n",
              "      <th>Mes_referencia</th>\n",
              "      <th>Faixa_atraso</th>\n",
              "    </tr>\n",
              "  </thead>\n",
              "  <tbody>\n",
              "    <tr>\n",
              "      <th>0</th>\n",
              "      <td>5001711</td>\n",
              "      <td>0</td>\n",
              "      <td>nenhum empréstimo</td>\n",
              "    </tr>\n",
              "    <tr>\n",
              "      <th>1</th>\n",
              "      <td>5001711</td>\n",
              "      <td>-1</td>\n",
              "      <td>1-29 dias</td>\n",
              "    </tr>\n",
              "    <tr>\n",
              "      <th>2</th>\n",
              "      <td>5001711</td>\n",
              "      <td>-2</td>\n",
              "      <td>1-29 dias</td>\n",
              "    </tr>\n",
              "    <tr>\n",
              "      <th>3</th>\n",
              "      <td>5001711</td>\n",
              "      <td>-3</td>\n",
              "      <td>1-29 dias</td>\n",
              "    </tr>\n",
              "  </tbody>\n",
              "</table>\n",
              "</div>"
            ],
            "text/plain": [
              "   ID_Cliente  Mes_referencia       Faixa_atraso\n",
              "0     5001711               0  nenhum empréstimo\n",
              "1     5001711              -1          1-29 dias\n",
              "2     5001711              -2          1-29 dias\n",
              "3     5001711              -3          1-29 dias"
            ]
          },
          "execution_count": 47,
          "metadata": {},
          "output_type": "execute_result"
        }
      ],
      "source": [
        "#Busca pelo ID 5001711\n",
        "df_clientes_aprovados.query(\"ID_Cliente == 5001711\")"
      ]
    },
    {
      "cell_type": "markdown",
      "metadata": {},
      "source": [
        "Vou para o segundo ID ver se esse possui mais linhas e com isso mais informações."
      ]
    },
    {
      "cell_type": "code",
      "execution_count": 48,
      "metadata": {},
      "outputs": [
        {
          "data": {
            "text/html": [
              "<div>\n",
              "<style scoped>\n",
              "    .dataframe tbody tr th:only-of-type {\n",
              "        vertical-align: middle;\n",
              "    }\n",
              "\n",
              "    .dataframe tbody tr th {\n",
              "        vertical-align: top;\n",
              "    }\n",
              "\n",
              "    .dataframe thead th {\n",
              "        text-align: right;\n",
              "    }\n",
              "</style>\n",
              "<table border=\"1\" class=\"dataframe\">\n",
              "  <thead>\n",
              "    <tr style=\"text-align: right;\">\n",
              "      <th></th>\n",
              "      <th>ID_Cliente</th>\n",
              "      <th>Mes_referencia</th>\n",
              "      <th>Faixa_atraso</th>\n",
              "    </tr>\n",
              "  </thead>\n",
              "  <tbody>\n",
              "    <tr>\n",
              "      <th>4</th>\n",
              "      <td>5001712</td>\n",
              "      <td>0</td>\n",
              "      <td>pagamento realizado</td>\n",
              "    </tr>\n",
              "    <tr>\n",
              "      <th>5</th>\n",
              "      <td>5001712</td>\n",
              "      <td>-1</td>\n",
              "      <td>pagamento realizado</td>\n",
              "    </tr>\n",
              "    <tr>\n",
              "      <th>6</th>\n",
              "      <td>5001712</td>\n",
              "      <td>-2</td>\n",
              "      <td>pagamento realizado</td>\n",
              "    </tr>\n",
              "    <tr>\n",
              "      <th>7</th>\n",
              "      <td>5001712</td>\n",
              "      <td>-3</td>\n",
              "      <td>pagamento realizado</td>\n",
              "    </tr>\n",
              "    <tr>\n",
              "      <th>8</th>\n",
              "      <td>5001712</td>\n",
              "      <td>-4</td>\n",
              "      <td>pagamento realizado</td>\n",
              "    </tr>\n",
              "    <tr>\n",
              "      <th>9</th>\n",
              "      <td>5001712</td>\n",
              "      <td>-5</td>\n",
              "      <td>pagamento realizado</td>\n",
              "    </tr>\n",
              "    <tr>\n",
              "      <th>10</th>\n",
              "      <td>5001712</td>\n",
              "      <td>-6</td>\n",
              "      <td>pagamento realizado</td>\n",
              "    </tr>\n",
              "    <tr>\n",
              "      <th>11</th>\n",
              "      <td>5001712</td>\n",
              "      <td>-7</td>\n",
              "      <td>pagamento realizado</td>\n",
              "    </tr>\n",
              "    <tr>\n",
              "      <th>12</th>\n",
              "      <td>5001712</td>\n",
              "      <td>-8</td>\n",
              "      <td>pagamento realizado</td>\n",
              "    </tr>\n",
              "    <tr>\n",
              "      <th>13</th>\n",
              "      <td>5001712</td>\n",
              "      <td>-9</td>\n",
              "      <td>1-29 dias</td>\n",
              "    </tr>\n",
              "    <tr>\n",
              "      <th>14</th>\n",
              "      <td>5001712</td>\n",
              "      <td>-10</td>\n",
              "      <td>1-29 dias</td>\n",
              "    </tr>\n",
              "    <tr>\n",
              "      <th>15</th>\n",
              "      <td>5001712</td>\n",
              "      <td>-11</td>\n",
              "      <td>1-29 dias</td>\n",
              "    </tr>\n",
              "    <tr>\n",
              "      <th>16</th>\n",
              "      <td>5001712</td>\n",
              "      <td>-12</td>\n",
              "      <td>1-29 dias</td>\n",
              "    </tr>\n",
              "    <tr>\n",
              "      <th>17</th>\n",
              "      <td>5001712</td>\n",
              "      <td>-13</td>\n",
              "      <td>1-29 dias</td>\n",
              "    </tr>\n",
              "    <tr>\n",
              "      <th>18</th>\n",
              "      <td>5001712</td>\n",
              "      <td>-14</td>\n",
              "      <td>1-29 dias</td>\n",
              "    </tr>\n",
              "    <tr>\n",
              "      <th>19</th>\n",
              "      <td>5001712</td>\n",
              "      <td>-15</td>\n",
              "      <td>1-29 dias</td>\n",
              "    </tr>\n",
              "    <tr>\n",
              "      <th>20</th>\n",
              "      <td>5001712</td>\n",
              "      <td>-16</td>\n",
              "      <td>1-29 dias</td>\n",
              "    </tr>\n",
              "    <tr>\n",
              "      <th>21</th>\n",
              "      <td>5001712</td>\n",
              "      <td>-17</td>\n",
              "      <td>1-29 dias</td>\n",
              "    </tr>\n",
              "    <tr>\n",
              "      <th>22</th>\n",
              "      <td>5001712</td>\n",
              "      <td>-18</td>\n",
              "      <td>1-29 dias</td>\n",
              "    </tr>\n",
              "  </tbody>\n",
              "</table>\n",
              "</div>"
            ],
            "text/plain": [
              "    ID_Cliente  Mes_referencia         Faixa_atraso\n",
              "4      5001712               0  pagamento realizado\n",
              "5      5001712              -1  pagamento realizado\n",
              "6      5001712              -2  pagamento realizado\n",
              "7      5001712              -3  pagamento realizado\n",
              "8      5001712              -4  pagamento realizado\n",
              "9      5001712              -5  pagamento realizado\n",
              "10     5001712              -6  pagamento realizado\n",
              "11     5001712              -7  pagamento realizado\n",
              "12     5001712              -8  pagamento realizado\n",
              "13     5001712              -9            1-29 dias\n",
              "14     5001712             -10            1-29 dias\n",
              "15     5001712             -11            1-29 dias\n",
              "16     5001712             -12            1-29 dias\n",
              "17     5001712             -13            1-29 dias\n",
              "18     5001712             -14            1-29 dias\n",
              "19     5001712             -15            1-29 dias\n",
              "20     5001712             -16            1-29 dias\n",
              "21     5001712             -17            1-29 dias\n",
              "22     5001712             -18            1-29 dias"
            ]
          },
          "execution_count": 48,
          "metadata": {},
          "output_type": "execute_result"
        }
      ],
      "source": [
        "df_clientes_aprovados.query(\"ID_Cliente == 5001712\")"
      ]
    },
    {
      "cell_type": "markdown",
      "metadata": {},
      "source": [
        "Aqui foi possivel ver que a faixa de atraso consiste em no minimo: nenhum empréstimo, pagamento realizado, 1-29 dias.\n",
        "<br> Já do mes referencia ainda não é possivel tirar conclusões."
      ]
    },
    {
      "cell_type": "markdown",
      "metadata": {},
      "source": [
        "##### Faixa de Atraso"
      ]
    },
    {
      "cell_type": "code",
      "execution_count": 49,
      "metadata": {},
      "outputs": [
        {
          "data": {
            "text/plain": [
              "['pagamento realizado',\n",
              " '1-29 dias',\n",
              " 'nenhum empréstimo',\n",
              " '30-59 dias',\n",
              " '>150 dias',\n",
              " '60-89 dias',\n",
              " '90-119 dias',\n",
              " '120-149 dias']"
            ]
          },
          "execution_count": 49,
          "metadata": {},
          "output_type": "execute_result"
        }
      ],
      "source": [
        "# Para descobrir quais são todas as faixa_atraso\n",
        "df_clientes_aprovados.Faixa_atraso.value_counts().index.to_list()\n"
      ]
    },
    {
      "cell_type": "markdown",
      "metadata": {},
      "source": [
        "Existem 8 faixas, desde nenhum empréstimo, pagamento realizado até 120-149 dias.\n"
      ]
    },
    {
      "cell_type": "code",
      "execution_count": 50,
      "metadata": {},
      "outputs": [
        {
          "data": {
            "image/png": "[encoded data removed]",
            "text/plain": [
              "<Figure size 432x288 with 1 Axes>"
            ]
          },
          "metadata": {},
          "output_type": "display_data"
        }
      ],
      "source": [
        "# Como está a distribuição gráfica das Faixa de Atraso\n",
        "monta_graficos('count_ordenado', df_clientes_aprovados, 'Faixa_atraso', 'Faixa de atraso dos pagamentos')"
      ]
    },
    {
      "cell_type": "markdown",
      "metadata": {},
      "source": [
        "Tem pagamento realizado e 1-29 dias como a grande maioria, seguida de nenhum empréstimo, ainda no gráfico é possível ver a faixa 30-59 dias e o restante não se tem visualização."
      ]
    },
    {
      "cell_type": "code",
      "execution_count": null,
      "metadata": {},
      "outputs": [
        {
          "data": {
            "text/html": [
              "<div>\n",
              "<style scoped>\n",
              "    .dataframe tbody tr th:only-of-type {\n",
              "        vertical-align: middle;\n",
              "    }\n",
              "\n",
              "    .dataframe tbody tr th {\n",
              "        vertical-align: top;\n",
              "    }\n",
              "\n",
              "    .dataframe thead th {\n",
              "        text-align: right;\n",
              "    }\n",
              "</style>\n",
              "<table border=\"1\" class=\"dataframe\">\n",
              "  <thead>\n",
              "    <tr style=\"text-align: right;\">\n",
              "      <th></th>\n",
              "      <th>Faixa_atraso</th>\n",
              "      <th>Qtd_clientes</th>\n",
              "    </tr>\n",
              "  </thead>\n",
              "  <tbody>\n",
              "    <tr>\n",
              "      <th>0</th>\n",
              "      <td>1-29 dias</td>\n",
              "      <td>383120</td>\n",
              "    </tr>\n",
              "    <tr>\n",
              "      <th>1</th>\n",
              "      <td>120-149 dias</td>\n",
              "      <td>223</td>\n",
              "    </tr>\n",
              "    <tr>\n",
              "      <th>2</th>\n",
              "      <td>30-59 dias</td>\n",
              "      <td>11090</td>\n",
              "    </tr>\n",
              "    <tr>\n",
              "      <th>3</th>\n",
              "      <td>60-89 dias</td>\n",
              "      <td>868</td>\n",
              "    </tr>\n",
              "    <tr>\n",
              "      <th>4</th>\n",
              "      <td>90-119 dias</td>\n",
              "      <td>320</td>\n",
              "    </tr>\n",
              "    <tr>\n",
              "      <th>5</th>\n",
              "      <td>&gt;150 dias</td>\n",
              "      <td>1693</td>\n",
              "    </tr>\n",
              "    <tr>\n",
              "      <th>6</th>\n",
              "      <td>nenhum empréstimo</td>\n",
              "      <td>209230</td>\n",
              "    </tr>\n",
              "    <tr>\n",
              "      <th>7</th>\n",
              "      <td>pagamento realizado</td>\n",
              "      <td>442031</td>\n",
              "    </tr>\n",
              "  </tbody>\n",
              "</table>\n",
              "</div>"
            ],
            "text/plain": [
              "          Faixa_atraso  Qtd_clientes\n",
              "0            1-29 dias        383120\n",
              "1         120-149 dias           223\n",
              "2           30-59 dias         11090\n",
              "3           60-89 dias           868\n",
              "4          90-119 dias           320\n",
              "5            >150 dias          1693\n",
              "6    nenhum empréstimo        209230\n",
              "7  pagamento realizado        442031"
            ]
          },
          "metadata": {},
          "output_type": "display_data"
        }
      ],
      "source": [
        "df_atraso = df_clientes_aprovados.groupby('Faixa_atraso').count()['ID_Cliente'].reset_index()\n",
        "df_atraso['Qtd_clientes'] = df_atraso['ID_Cliente']\n",
        "df_atraso = df_atraso.drop(['ID_Cliente'], axis=1)\n",
        "df_atraso"
      ]
    },
    {
      "cell_type": "markdown",
      "metadata": {},
      "source": [
        "Agora é possivel ter uma melhor noção dos dados que não ficaram claros no grafico."
      ]
    },
    {
      "cell_type": "markdown",
      "metadata": {},
      "source": [
        "##### Mês Referência"
      ]
    },
    {
      "cell_type": "code",
      "execution_count": 51,
      "metadata": {},
      "outputs": [
        {
          "data": {
            "text/plain": [
              "ID_Cliente\n",
              "5001711    -3\n",
              "5001712   -18\n",
              "5001713   -21\n",
              "5001714   -14\n",
              "5001715   -59\n",
              "           ..\n",
              "5150482   -28\n",
              "5150483   -17\n",
              "5150484   -12\n",
              "5150485    -1\n",
              "5150487   -29\n",
              "Name: Abertura, Length: 45985, dtype: int64"
            ]
          },
          "execution_count": 51,
          "metadata": {},
          "output_type": "execute_result"
        }
      ],
      "source": [
        "df_registros_creditos_agrupados_ID = df_clientes_aprovados.groupby('ID_Cliente')\n",
        "ser_abertura = df_registros_creditos_agrupados_ID.apply(lambda x: min(x['Mes_referencia']))\n",
        "ser_abertura.name = 'Abertura'\n",
        "ser_abertura"
      ]
    },
    {
      "cell_type": "markdown",
      "metadata": {},
      "source": [
        "Agora é possível concluir que do mês referência, o menor valor seria a quanto tempo a conta foi cadastrada."
      ]
    },
    {
      "cell_type": "code",
      "execution_count": 52,
      "metadata": {},
      "outputs": [
        {
          "data": {
            "text/html": [
              "<div>\n",
              "<style scoped>\n",
              "    .dataframe tbody tr th:only-of-type {\n",
              "        vertical-align: middle;\n",
              "    }\n",
              "\n",
              "    .dataframe tbody tr th {\n",
              "        vertical-align: top;\n",
              "    }\n",
              "\n",
              "    .dataframe thead th {\n",
              "        text-align: right;\n",
              "    }\n",
              "</style>\n",
              "<table border=\"1\" class=\"dataframe\">\n",
              "  <thead>\n",
              "    <tr style=\"text-align: right;\">\n",
              "      <th></th>\n",
              "      <th>ID_Cliente</th>\n",
              "      <th>Mes_referencia</th>\n",
              "      <th>Faixa_atraso</th>\n",
              "      <th>Abertura</th>\n",
              "    </tr>\n",
              "  </thead>\n",
              "  <tbody>\n",
              "    <tr>\n",
              "      <th>0</th>\n",
              "      <td>5001711</td>\n",
              "      <td>0</td>\n",
              "      <td>nenhum empréstimo</td>\n",
              "      <td>-3</td>\n",
              "    </tr>\n",
              "    <tr>\n",
              "      <th>1</th>\n",
              "      <td>5001711</td>\n",
              "      <td>-1</td>\n",
              "      <td>1-29 dias</td>\n",
              "      <td>-3</td>\n",
              "    </tr>\n",
              "    <tr>\n",
              "      <th>2</th>\n",
              "      <td>5001711</td>\n",
              "      <td>-2</td>\n",
              "      <td>1-29 dias</td>\n",
              "      <td>-3</td>\n",
              "    </tr>\n",
              "    <tr>\n",
              "      <th>3</th>\n",
              "      <td>5001711</td>\n",
              "      <td>-3</td>\n",
              "      <td>1-29 dias</td>\n",
              "      <td>-3</td>\n",
              "    </tr>\n",
              "    <tr>\n",
              "      <th>4</th>\n",
              "      <td>5001712</td>\n",
              "      <td>0</td>\n",
              "      <td>pagamento realizado</td>\n",
              "      <td>-18</td>\n",
              "    </tr>\n",
              "  </tbody>\n",
              "</table>\n",
              "</div>"
            ],
            "text/plain": [
              "   ID_Cliente  Mes_referencia         Faixa_atraso  Abertura\n",
              "0     5001711               0    nenhum empréstimo        -3\n",
              "1     5001711              -1            1-29 dias        -3\n",
              "2     5001711              -2            1-29 dias        -3\n",
              "3     5001711              -3            1-29 dias        -3\n",
              "4     5001712               0  pagamento realizado       -18"
            ]
          },
          "execution_count": 52,
          "metadata": {},
          "output_type": "execute_result"
        }
      ],
      "source": [
        "# Para deixar a abertura de conta de uma maneira mais visual e fácil.\n",
        "df_clientes_aprovados = df_clientes_aprovados.merge(ser_abertura, on='ID_Cliente')\n",
        "df_clientes_aprovados.head()"
      ]
    },
    {
      "cell_type": "code",
      "execution_count": 53,
      "metadata": {},
      "outputs": [
        {
          "data": {
            "text/plain": [
              "ID_Cliente\n",
              "5001711     0\n",
              "5001712     0\n",
              "5001713     0\n",
              "5001714     0\n",
              "5001715     0\n",
              "           ..\n",
              "5150482   -11\n",
              "5150483     0\n",
              "5150484     0\n",
              "5150485     0\n",
              "5150487     0\n",
              "Name: Final, Length: 45985, dtype: int64"
            ]
          },
          "execution_count": 53,
          "metadata": {},
          "output_type": "execute_result"
        }
      ],
      "source": [
        "# Para adicionar o último pagamento.\n",
        "ser_final = df_registros_creditos_agrupados_ID.apply(lambda x: max(x['Mes_referencia']))\n",
        "ser_final.name = 'Final'\n",
        "ser_final"
      ]
    },
    {
      "cell_type": "code",
      "execution_count": 54,
      "metadata": {},
      "outputs": [
        {
          "data": {
            "text/html": [
              "<div>\n",
              "<style scoped>\n",
              "    .dataframe tbody tr th:only-of-type {\n",
              "        vertical-align: middle;\n",
              "    }\n",
              "\n",
              "    .dataframe tbody tr th {\n",
              "        vertical-align: top;\n",
              "    }\n",
              "\n",
              "    .dataframe thead th {\n",
              "        text-align: right;\n",
              "    }\n",
              "</style>\n",
              "<table border=\"1\" class=\"dataframe\">\n",
              "  <thead>\n",
              "    <tr style=\"text-align: right;\">\n",
              "      <th></th>\n",
              "      <th>ID_Cliente</th>\n",
              "      <th>Mes_referencia</th>\n",
              "      <th>Faixa_atraso</th>\n",
              "      <th>Abertura</th>\n",
              "      <th>Final</th>\n",
              "    </tr>\n",
              "  </thead>\n",
              "  <tbody>\n",
              "    <tr>\n",
              "      <th>0</th>\n",
              "      <td>5001711</td>\n",
              "      <td>0</td>\n",
              "      <td>nenhum empréstimo</td>\n",
              "      <td>-3</td>\n",
              "      <td>0</td>\n",
              "    </tr>\n",
              "    <tr>\n",
              "      <th>1</th>\n",
              "      <td>5001711</td>\n",
              "      <td>-1</td>\n",
              "      <td>1-29 dias</td>\n",
              "      <td>-3</td>\n",
              "      <td>0</td>\n",
              "    </tr>\n",
              "    <tr>\n",
              "      <th>2</th>\n",
              "      <td>5001711</td>\n",
              "      <td>-2</td>\n",
              "      <td>1-29 dias</td>\n",
              "      <td>-3</td>\n",
              "      <td>0</td>\n",
              "    </tr>\n",
              "    <tr>\n",
              "      <th>3</th>\n",
              "      <td>5001711</td>\n",
              "      <td>-3</td>\n",
              "      <td>1-29 dias</td>\n",
              "      <td>-3</td>\n",
              "      <td>0</td>\n",
              "    </tr>\n",
              "    <tr>\n",
              "      <th>4</th>\n",
              "      <td>5001712</td>\n",
              "      <td>0</td>\n",
              "      <td>pagamento realizado</td>\n",
              "      <td>-18</td>\n",
              "      <td>0</td>\n",
              "    </tr>\n",
              "  </tbody>\n",
              "</table>\n",
              "</div>"
            ],
            "text/plain": [
              "   ID_Cliente  Mes_referencia         Faixa_atraso  Abertura  Final\n",
              "0     5001711               0    nenhum empréstimo        -3      0\n",
              "1     5001711              -1            1-29 dias        -3      0\n",
              "2     5001711              -2            1-29 dias        -3      0\n",
              "3     5001711              -3            1-29 dias        -3      0\n",
              "4     5001712               0  pagamento realizado       -18      0"
            ]
          },
          "execution_count": 54,
          "metadata": {},
          "output_type": "execute_result"
        }
      ],
      "source": [
        "#Fazendo o merge com o último pagamento.\n",
        "df_clientes_aprovados = df_clientes_aprovados.merge(ser_final, on='ID_Cliente')\n",
        "df_clientes_aprovados.head()"
      ]
    },
    {
      "cell_type": "code",
      "execution_count": 110,
      "metadata": {},
      "outputs": [
        {
          "data": {
            "text/html": [
              "<div>\n",
              "<style scoped>\n",
              "    .dataframe tbody tr th:only-of-type {\n",
              "        vertical-align: middle;\n",
              "    }\n",
              "\n",
              "    .dataframe tbody tr th {\n",
              "        vertical-align: top;\n",
              "    }\n",
              "\n",
              "    .dataframe thead th {\n",
              "        text-align: right;\n",
              "    }\n",
              "</style>\n",
              "<table border=\"1\" class=\"dataframe\">\n",
              "  <thead>\n",
              "    <tr style=\"text-align: right;\">\n",
              "      <th></th>\n",
              "      <th>ID_Cliente</th>\n",
              "      <th>Mes_referencia</th>\n",
              "      <th>Faixa_atraso</th>\n",
              "      <th>Abertura</th>\n",
              "      <th>Final</th>\n",
              "      <th>Janela</th>\n",
              "      <th>MOB</th>\n",
              "      <th>Ind_Faixa_atraso</th>\n",
              "      <th>Mau</th>\n",
              "      <th>Mau_maior_30_dias</th>\n",
              "      <th>Mau_maior_60_dias</th>\n",
              "      <th>Mau_maior_90_dias</th>\n",
              "      <th>Mau_maior_120_dias</th>\n",
              "      <th>Mau_maior_150_dias</th>\n",
              "    </tr>\n",
              "  </thead>\n",
              "  <tbody>\n",
              "    <tr>\n",
              "      <th>93598</th>\n",
              "      <td>5008844</td>\n",
              "      <td>-11</td>\n",
              "      <td>pagamento realizado</td>\n",
              "      <td>-43</td>\n",
              "      <td>-11</td>\n",
              "      <td>32</td>\n",
              "      <td>32</td>\n",
              "      <td>1</td>\n",
              "      <td>0</td>\n",
              "      <td>0</td>\n",
              "      <td>0</td>\n",
              "      <td>0</td>\n",
              "      <td>0</td>\n",
              "      <td>0</td>\n",
              "    </tr>\n",
              "    <tr>\n",
              "      <th>93599</th>\n",
              "      <td>5008844</td>\n",
              "      <td>-12</td>\n",
              "      <td>pagamento realizado</td>\n",
              "      <td>-43</td>\n",
              "      <td>-11</td>\n",
              "      <td>32</td>\n",
              "      <td>31</td>\n",
              "      <td>1</td>\n",
              "      <td>0</td>\n",
              "      <td>0</td>\n",
              "      <td>0</td>\n",
              "      <td>0</td>\n",
              "      <td>0</td>\n",
              "      <td>0</td>\n",
              "    </tr>\n",
              "    <tr>\n",
              "      <th>93600</th>\n",
              "      <td>5008844</td>\n",
              "      <td>-13</td>\n",
              "      <td>pagamento realizado</td>\n",
              "      <td>-43</td>\n",
              "      <td>-11</td>\n",
              "      <td>32</td>\n",
              "      <td>30</td>\n",
              "      <td>1</td>\n",
              "      <td>0</td>\n",
              "      <td>0</td>\n",
              "      <td>0</td>\n",
              "      <td>0</td>\n",
              "      <td>0</td>\n",
              "      <td>0</td>\n",
              "    </tr>\n",
              "    <tr>\n",
              "      <th>93601</th>\n",
              "      <td>5008844</td>\n",
              "      <td>-14</td>\n",
              "      <td>pagamento realizado</td>\n",
              "      <td>-43</td>\n",
              "      <td>-11</td>\n",
              "      <td>32</td>\n",
              "      <td>29</td>\n",
              "      <td>1</td>\n",
              "      <td>0</td>\n",
              "      <td>0</td>\n",
              "      <td>0</td>\n",
              "      <td>0</td>\n",
              "      <td>0</td>\n",
              "      <td>0</td>\n",
              "    </tr>\n",
              "    <tr>\n",
              "      <th>93602</th>\n",
              "      <td>5008844</td>\n",
              "      <td>-15</td>\n",
              "      <td>pagamento realizado</td>\n",
              "      <td>-43</td>\n",
              "      <td>-11</td>\n",
              "      <td>32</td>\n",
              "      <td>28</td>\n",
              "      <td>1</td>\n",
              "      <td>0</td>\n",
              "      <td>0</td>\n",
              "      <td>0</td>\n",
              "      <td>0</td>\n",
              "      <td>0</td>\n",
              "      <td>0</td>\n",
              "    </tr>\n",
              "    <tr>\n",
              "      <th>...</th>\n",
              "      <td>...</td>\n",
              "      <td>...</td>\n",
              "      <td>...</td>\n",
              "      <td>...</td>\n",
              "      <td>...</td>\n",
              "      <td>...</td>\n",
              "      <td>...</td>\n",
              "      <td>...</td>\n",
              "      <td>...</td>\n",
              "      <td>...</td>\n",
              "      <td>...</td>\n",
              "      <td>...</td>\n",
              "      <td>...</td>\n",
              "      <td>...</td>\n",
              "    </tr>\n",
              "    <tr>\n",
              "      <th>1048507</th>\n",
              "      <td>5150482</td>\n",
              "      <td>-24</td>\n",
              "      <td>1-29 dias</td>\n",
              "      <td>-28</td>\n",
              "      <td>-11</td>\n",
              "      <td>17</td>\n",
              "      <td>4</td>\n",
              "      <td>2</td>\n",
              "      <td>0</td>\n",
              "      <td>0</td>\n",
              "      <td>0</td>\n",
              "      <td>0</td>\n",
              "      <td>0</td>\n",
              "      <td>0</td>\n",
              "    </tr>\n",
              "    <tr>\n",
              "      <th>1048508</th>\n",
              "      <td>5150482</td>\n",
              "      <td>-25</td>\n",
              "      <td>1-29 dias</td>\n",
              "      <td>-28</td>\n",
              "      <td>-11</td>\n",
              "      <td>17</td>\n",
              "      <td>3</td>\n",
              "      <td>2</td>\n",
              "      <td>0</td>\n",
              "      <td>0</td>\n",
              "      <td>0</td>\n",
              "      <td>0</td>\n",
              "      <td>0</td>\n",
              "      <td>0</td>\n",
              "    </tr>\n",
              "    <tr>\n",
              "      <th>1048509</th>\n",
              "      <td>5150482</td>\n",
              "      <td>-26</td>\n",
              "      <td>1-29 dias</td>\n",
              "      <td>-28</td>\n",
              "      <td>-11</td>\n",
              "      <td>17</td>\n",
              "      <td>2</td>\n",
              "      <td>2</td>\n",
              "      <td>0</td>\n",
              "      <td>0</td>\n",
              "      <td>0</td>\n",
              "      <td>0</td>\n",
              "      <td>0</td>\n",
              "      <td>0</td>\n",
              "    </tr>\n",
              "    <tr>\n",
              "      <th>1048510</th>\n",
              "      <td>5150482</td>\n",
              "      <td>-27</td>\n",
              "      <td>1-29 dias</td>\n",
              "      <td>-28</td>\n",
              "      <td>-11</td>\n",
              "      <td>17</td>\n",
              "      <td>1</td>\n",
              "      <td>2</td>\n",
              "      <td>0</td>\n",
              "      <td>0</td>\n",
              "      <td>0</td>\n",
              "      <td>0</td>\n",
              "      <td>0</td>\n",
              "      <td>0</td>\n",
              "    </tr>\n",
              "    <tr>\n",
              "      <th>1048511</th>\n",
              "      <td>5150482</td>\n",
              "      <td>-28</td>\n",
              "      <td>1-29 dias</td>\n",
              "      <td>-28</td>\n",
              "      <td>-11</td>\n",
              "      <td>17</td>\n",
              "      <td>0</td>\n",
              "      <td>2</td>\n",
              "      <td>0</td>\n",
              "      <td>0</td>\n",
              "      <td>0</td>\n",
              "      <td>0</td>\n",
              "      <td>0</td>\n",
              "      <td>0</td>\n",
              "    </tr>\n",
              "  </tbody>\n",
              "</table>\n",
              "<p>8595 rows × 14 columns</p>\n",
              "</div>"
            ],
            "text/plain": [
              "         ID_Cliente  Mes_referencia         Faixa_atraso  Abertura  Final  \\\n",
              "93598       5008844             -11  pagamento realizado       -43    -11   \n",
              "93599       5008844             -12  pagamento realizado       -43    -11   \n",
              "93600       5008844             -13  pagamento realizado       -43    -11   \n",
              "93601       5008844             -14  pagamento realizado       -43    -11   \n",
              "93602       5008844             -15  pagamento realizado       -43    -11   \n",
              "...             ...             ...                  ...       ...    ...   \n",
              "1048507     5150482             -24            1-29 dias       -28    -11   \n",
              "1048508     5150482             -25            1-29 dias       -28    -11   \n",
              "1048509     5150482             -26            1-29 dias       -28    -11   \n",
              "1048510     5150482             -27            1-29 dias       -28    -11   \n",
              "1048511     5150482             -28            1-29 dias       -28    -11   \n",
              "\n",
              "         Janela  MOB  Ind_Faixa_atraso  Mau  Mau_maior_30_dias  \\\n",
              "93598        32   32                 1    0                  0   \n",
              "93599        32   31                 1    0                  0   \n",
              "93600        32   30                 1    0                  0   \n",
              "93601        32   29                 1    0                  0   \n",
              "93602        32   28                 1    0                  0   \n",
              "...         ...  ...               ...  ...                ...   \n",
              "1048507      17    4                 2    0                  0   \n",
              "1048508      17    3                 2    0                  0   \n",
              "1048509      17    2                 2    0                  0   \n",
              "1048510      17    1                 2    0                  0   \n",
              "1048511      17    0                 2    0                  0   \n",
              "\n",
              "         Mau_maior_60_dias  Mau_maior_90_dias  Mau_maior_120_dias  \\\n",
              "93598                    0                  0                   0   \n",
              "93599                    0                  0                   0   \n",
              "93600                    0                  0                   0   \n",
              "93601                    0                  0                   0   \n",
              "93602                    0                  0                   0   \n",
              "...                    ...                ...                 ...   \n",
              "1048507                  0                  0                   0   \n",
              "1048508                  0                  0                   0   \n",
              "1048509                  0                  0                   0   \n",
              "1048510                  0                  0                   0   \n",
              "1048511                  0                  0                   0   \n",
              "\n",
              "         Mau_maior_150_dias  \n",
              "93598                     0  \n",
              "93599                     0  \n",
              "93600                     0  \n",
              "93601                     0  \n",
              "93602                     0  \n",
              "...                     ...  \n",
              "1048507                   0  \n",
              "1048508                   0  \n",
              "1048509                   0  \n",
              "1048510                   0  \n",
              "1048511                   0  \n",
              "\n",
              "[8595 rows x 14 columns]"
            ]
          },
          "execution_count": 110,
          "metadata": {},
          "output_type": "execute_result"
        }
      ],
      "source": [
        "# A Janela de todo o Pagamento, sendo o mês de Pagamento final menos o mês de Abertura.\n",
        "df_clientes_aprovados['Janela'] = df_clientes_aprovados['Final'] - df_clientes_aprovados['Abertura']\n",
        "df_clientes_aprovados"
      ]
    },
    {
      "cell_type": "code",
      "execution_count": 56,
      "metadata": {},
      "outputs": [
        {
          "data": {
            "text/html": [
              "<div>\n",
              "<style scoped>\n",
              "    .dataframe tbody tr th:only-of-type {\n",
              "        vertical-align: middle;\n",
              "    }\n",
              "\n",
              "    .dataframe tbody tr th {\n",
              "        vertical-align: top;\n",
              "    }\n",
              "\n",
              "    .dataframe thead th {\n",
              "        text-align: right;\n",
              "    }\n",
              "</style>\n",
              "<table border=\"1\" class=\"dataframe\">\n",
              "  <thead>\n",
              "    <tr style=\"text-align: right;\">\n",
              "      <th></th>\n",
              "      <th>ID_Cliente</th>\n",
              "      <th>Mes_referencia</th>\n",
              "      <th>Faixa_atraso</th>\n",
              "      <th>Abertura</th>\n",
              "      <th>Final</th>\n",
              "      <th>Janela</th>\n",
              "      <th>MOB</th>\n",
              "    </tr>\n",
              "  </thead>\n",
              "  <tbody>\n",
              "    <tr>\n",
              "      <th>0</th>\n",
              "      <td>5001711</td>\n",
              "      <td>0</td>\n",
              "      <td>nenhum empréstimo</td>\n",
              "      <td>-3</td>\n",
              "      <td>0</td>\n",
              "      <td>3</td>\n",
              "      <td>3</td>\n",
              "    </tr>\n",
              "    <tr>\n",
              "      <th>1</th>\n",
              "      <td>5001711</td>\n",
              "      <td>-1</td>\n",
              "      <td>1-29 dias</td>\n",
              "      <td>-3</td>\n",
              "      <td>0</td>\n",
              "      <td>3</td>\n",
              "      <td>2</td>\n",
              "    </tr>\n",
              "    <tr>\n",
              "      <th>2</th>\n",
              "      <td>5001711</td>\n",
              "      <td>-2</td>\n",
              "      <td>1-29 dias</td>\n",
              "      <td>-3</td>\n",
              "      <td>0</td>\n",
              "      <td>3</td>\n",
              "      <td>1</td>\n",
              "    </tr>\n",
              "    <tr>\n",
              "      <th>3</th>\n",
              "      <td>5001711</td>\n",
              "      <td>-3</td>\n",
              "      <td>1-29 dias</td>\n",
              "      <td>-3</td>\n",
              "      <td>0</td>\n",
              "      <td>3</td>\n",
              "      <td>0</td>\n",
              "    </tr>\n",
              "    <tr>\n",
              "      <th>4</th>\n",
              "      <td>5001712</td>\n",
              "      <td>0</td>\n",
              "      <td>pagamento realizado</td>\n",
              "      <td>-18</td>\n",
              "      <td>0</td>\n",
              "      <td>18</td>\n",
              "      <td>18</td>\n",
              "    </tr>\n",
              "  </tbody>\n",
              "</table>\n",
              "</div>"
            ],
            "text/plain": [
              "   ID_Cliente  Mes_referencia         Faixa_atraso  Abertura  Final  Janela  \\\n",
              "0     5001711               0    nenhum empréstimo        -3      0       3   \n",
              "1     5001711              -1            1-29 dias        -3      0       3   \n",
              "2     5001711              -2            1-29 dias        -3      0       3   \n",
              "3     5001711              -3            1-29 dias        -3      0       3   \n",
              "4     5001712               0  pagamento realizado       -18      0      18   \n",
              "\n",
              "   MOB  \n",
              "0    3  \n",
              "1    2  \n",
              "2    1  \n",
              "3    0  \n",
              "4   18  "
            ]
          },
          "execution_count": 56,
          "metadata": {},
          "output_type": "execute_result"
        }
      ],
      "source": [
        "# A adição do MOB\n",
        "df_clientes_aprovados['MOB'] = df_clientes_aprovados['Mes_referencia'] - df_clientes_aprovados['Abertura']\n",
        "df_clientes_aprovados.head()"
      ]
    },
    {
      "cell_type": "code",
      "execution_count": 57,
      "metadata": {},
      "outputs": [],
      "source": [
        "# A criação de um dicionário para setar valor as Faixas de Atraso\n",
        "dict_faixa_atraso_ind = {'nenhum empréstimo': 0, 'pagamento realizado': 1, '1-29 dias': 2,\n",
        "                        '30-59 dias': 3,  '60-89 dias': 4, '90-119 dias': 5, '120-149 dias': 6, '>150 dias':7}"
      ]
    },
    {
      "cell_type": "code",
      "execution_count": 58,
      "metadata": {},
      "outputs": [
        {
          "data": {
            "text/html": [
              "<div>\n",
              "<style scoped>\n",
              "    .dataframe tbody tr th:only-of-type {\n",
              "        vertical-align: middle;\n",
              "    }\n",
              "\n",
              "    .dataframe tbody tr th {\n",
              "        vertical-align: top;\n",
              "    }\n",
              "\n",
              "    .dataframe thead th {\n",
              "        text-align: right;\n",
              "    }\n",
              "</style>\n",
              "<table border=\"1\" class=\"dataframe\">\n",
              "  <thead>\n",
              "    <tr style=\"text-align: right;\">\n",
              "      <th></th>\n",
              "      <th>ID_Cliente</th>\n",
              "      <th>Mes_referencia</th>\n",
              "      <th>Faixa_atraso</th>\n",
              "      <th>Abertura</th>\n",
              "      <th>Final</th>\n",
              "      <th>Janela</th>\n",
              "      <th>MOB</th>\n",
              "      <th>Ind_Faixa_atraso</th>\n",
              "    </tr>\n",
              "  </thead>\n",
              "  <tbody>\n",
              "    <tr>\n",
              "      <th>0</th>\n",
              "      <td>5001711</td>\n",
              "      <td>0</td>\n",
              "      <td>nenhum empréstimo</td>\n",
              "      <td>-3</td>\n",
              "      <td>0</td>\n",
              "      <td>3</td>\n",
              "      <td>3</td>\n",
              "      <td>0</td>\n",
              "    </tr>\n",
              "    <tr>\n",
              "      <th>1</th>\n",
              "      <td>5001711</td>\n",
              "      <td>-1</td>\n",
              "      <td>1-29 dias</td>\n",
              "      <td>-3</td>\n",
              "      <td>0</td>\n",
              "      <td>3</td>\n",
              "      <td>2</td>\n",
              "      <td>2</td>\n",
              "    </tr>\n",
              "    <tr>\n",
              "      <th>2</th>\n",
              "      <td>5001711</td>\n",
              "      <td>-2</td>\n",
              "      <td>1-29 dias</td>\n",
              "      <td>-3</td>\n",
              "      <td>0</td>\n",
              "      <td>3</td>\n",
              "      <td>1</td>\n",
              "      <td>2</td>\n",
              "    </tr>\n",
              "    <tr>\n",
              "      <th>3</th>\n",
              "      <td>5001711</td>\n",
              "      <td>-3</td>\n",
              "      <td>1-29 dias</td>\n",
              "      <td>-3</td>\n",
              "      <td>0</td>\n",
              "      <td>3</td>\n",
              "      <td>0</td>\n",
              "      <td>2</td>\n",
              "    </tr>\n",
              "    <tr>\n",
              "      <th>4</th>\n",
              "      <td>5001712</td>\n",
              "      <td>0</td>\n",
              "      <td>pagamento realizado</td>\n",
              "      <td>-18</td>\n",
              "      <td>0</td>\n",
              "      <td>18</td>\n",
              "      <td>18</td>\n",
              "      <td>1</td>\n",
              "    </tr>\n",
              "    <tr>\n",
              "      <th>...</th>\n",
              "      <td>...</td>\n",
              "      <td>...</td>\n",
              "      <td>...</td>\n",
              "      <td>...</td>\n",
              "      <td>...</td>\n",
              "      <td>...</td>\n",
              "      <td>...</td>\n",
              "      <td>...</td>\n",
              "    </tr>\n",
              "    <tr>\n",
              "      <th>1048570</th>\n",
              "      <td>5150487</td>\n",
              "      <td>-25</td>\n",
              "      <td>pagamento realizado</td>\n",
              "      <td>-29</td>\n",
              "      <td>0</td>\n",
              "      <td>29</td>\n",
              "      <td>4</td>\n",
              "      <td>1</td>\n",
              "    </tr>\n",
              "    <tr>\n",
              "      <th>1048571</th>\n",
              "      <td>5150487</td>\n",
              "      <td>-26</td>\n",
              "      <td>pagamento realizado</td>\n",
              "      <td>-29</td>\n",
              "      <td>0</td>\n",
              "      <td>29</td>\n",
              "      <td>3</td>\n",
              "      <td>1</td>\n",
              "    </tr>\n",
              "    <tr>\n",
              "      <th>1048572</th>\n",
              "      <td>5150487</td>\n",
              "      <td>-27</td>\n",
              "      <td>pagamento realizado</td>\n",
              "      <td>-29</td>\n",
              "      <td>0</td>\n",
              "      <td>29</td>\n",
              "      <td>2</td>\n",
              "      <td>1</td>\n",
              "    </tr>\n",
              "    <tr>\n",
              "      <th>1048573</th>\n",
              "      <td>5150487</td>\n",
              "      <td>-28</td>\n",
              "      <td>pagamento realizado</td>\n",
              "      <td>-29</td>\n",
              "      <td>0</td>\n",
              "      <td>29</td>\n",
              "      <td>1</td>\n",
              "      <td>1</td>\n",
              "    </tr>\n",
              "    <tr>\n",
              "      <th>1048574</th>\n",
              "      <td>5150487</td>\n",
              "      <td>-29</td>\n",
              "      <td>pagamento realizado</td>\n",
              "      <td>-29</td>\n",
              "      <td>0</td>\n",
              "      <td>29</td>\n",
              "      <td>0</td>\n",
              "      <td>1</td>\n",
              "    </tr>\n",
              "  </tbody>\n",
              "</table>\n",
              "<p>1048575 rows × 8 columns</p>\n",
              "</div>"
            ],
            "text/plain": [
              "         ID_Cliente  Mes_referencia         Faixa_atraso  Abertura  Final  \\\n",
              "0           5001711               0    nenhum empréstimo        -3      0   \n",
              "1           5001711              -1            1-29 dias        -3      0   \n",
              "2           5001711              -2            1-29 dias        -3      0   \n",
              "3           5001711              -3            1-29 dias        -3      0   \n",
              "4           5001712               0  pagamento realizado       -18      0   \n",
              "...             ...             ...                  ...       ...    ...   \n",
              "1048570     5150487             -25  pagamento realizado       -29      0   \n",
              "1048571     5150487             -26  pagamento realizado       -29      0   \n",
              "1048572     5150487             -27  pagamento realizado       -29      0   \n",
              "1048573     5150487             -28  pagamento realizado       -29      0   \n",
              "1048574     5150487             -29  pagamento realizado       -29      0   \n",
              "\n",
              "         Janela  MOB  Ind_Faixa_atraso  \n",
              "0             3    3                 0  \n",
              "1             3    2                 2  \n",
              "2             3    1                 2  \n",
              "3             3    0                 2  \n",
              "4            18   18                 1  \n",
              "...         ...  ...               ...  \n",
              "1048570      29    4                 1  \n",
              "1048571      29    3                 1  \n",
              "1048572      29    2                 1  \n",
              "1048573      29    1                 1  \n",
              "1048574      29    0                 1  \n",
              "\n",
              "[1048575 rows x 8 columns]"
            ]
          },
          "execution_count": 58,
          "metadata": {},
          "output_type": "execute_result"
        }
      ],
      "source": [
        "# Usando a função Map para percorrer os dados e setar o número a faixa correspondente.\n",
        "df_clientes_aprovados['Ind_Faixa_atraso'] = df_clientes_aprovados['Faixa_atraso'].map(dict_faixa_atraso_ind)\n",
        "df_clientes_aprovados"
      ]
    },
    {
      "cell_type": "code",
      "execution_count": 59,
      "metadata": {},
      "outputs": [
        {
          "data": {
            "text/html": [
              "<div>\n",
              "<style scoped>\n",
              "    .dataframe tbody tr th:only-of-type {\n",
              "        vertical-align: middle;\n",
              "    }\n",
              "\n",
              "    .dataframe tbody tr th {\n",
              "        vertical-align: top;\n",
              "    }\n",
              "\n",
              "    .dataframe thead th {\n",
              "        text-align: right;\n",
              "    }\n",
              "</style>\n",
              "<table border=\"1\" class=\"dataframe\">\n",
              "  <thead>\n",
              "    <tr style=\"text-align: right;\">\n",
              "      <th></th>\n",
              "      <th>ID_Cliente</th>\n",
              "      <th>Mes_referencia</th>\n",
              "      <th>Faixa_atraso</th>\n",
              "      <th>Abertura</th>\n",
              "      <th>Final</th>\n",
              "      <th>Janela</th>\n",
              "      <th>MOB</th>\n",
              "      <th>Ind_Faixa_atraso</th>\n",
              "      <th>Mau</th>\n",
              "    </tr>\n",
              "  </thead>\n",
              "  <tbody>\n",
              "    <tr>\n",
              "      <th>0</th>\n",
              "      <td>5001711</td>\n",
              "      <td>0</td>\n",
              "      <td>nenhum empréstimo</td>\n",
              "      <td>-3</td>\n",
              "      <td>0</td>\n",
              "      <td>3</td>\n",
              "      <td>3</td>\n",
              "      <td>0</td>\n",
              "      <td>0</td>\n",
              "    </tr>\n",
              "    <tr>\n",
              "      <th>1</th>\n",
              "      <td>5001711</td>\n",
              "      <td>-1</td>\n",
              "      <td>1-29 dias</td>\n",
              "      <td>-3</td>\n",
              "      <td>0</td>\n",
              "      <td>3</td>\n",
              "      <td>2</td>\n",
              "      <td>2</td>\n",
              "      <td>0</td>\n",
              "    </tr>\n",
              "    <tr>\n",
              "      <th>2</th>\n",
              "      <td>5001711</td>\n",
              "      <td>-2</td>\n",
              "      <td>1-29 dias</td>\n",
              "      <td>-3</td>\n",
              "      <td>0</td>\n",
              "      <td>3</td>\n",
              "      <td>1</td>\n",
              "      <td>2</td>\n",
              "      <td>0</td>\n",
              "    </tr>\n",
              "    <tr>\n",
              "      <th>3</th>\n",
              "      <td>5001711</td>\n",
              "      <td>-3</td>\n",
              "      <td>1-29 dias</td>\n",
              "      <td>-3</td>\n",
              "      <td>0</td>\n",
              "      <td>3</td>\n",
              "      <td>0</td>\n",
              "      <td>2</td>\n",
              "      <td>0</td>\n",
              "    </tr>\n",
              "    <tr>\n",
              "      <th>4</th>\n",
              "      <td>5001712</td>\n",
              "      <td>0</td>\n",
              "      <td>pagamento realizado</td>\n",
              "      <td>-18</td>\n",
              "      <td>0</td>\n",
              "      <td>18</td>\n",
              "      <td>18</td>\n",
              "      <td>1</td>\n",
              "      <td>0</td>\n",
              "    </tr>\n",
              "  </tbody>\n",
              "</table>\n",
              "</div>"
            ],
            "text/plain": [
              "   ID_Cliente  Mes_referencia         Faixa_atraso  Abertura  Final  Janela  \\\n",
              "0     5001711               0    nenhum empréstimo        -3      0       3   \n",
              "1     5001711              -1            1-29 dias        -3      0       3   \n",
              "2     5001711              -2            1-29 dias        -3      0       3   \n",
              "3     5001711              -3            1-29 dias        -3      0       3   \n",
              "4     5001712               0  pagamento realizado       -18      0      18   \n",
              "\n",
              "   MOB  Ind_Faixa_atraso  Mau  \n",
              "0    3                 0    0  \n",
              "1    2                 2    0  \n",
              "2    1                 2    0  \n",
              "3    0                 2    0  \n",
              "4   18                 1    0  "
            ]
          },
          "execution_count": 59,
          "metadata": {},
          "output_type": "execute_result"
        }
      ],
      "source": [
        "# Criando uma coluna Mau, para representar quando um cliente é considerado um Mau pagador, por conta do seu atraso com os pagamentos.\n",
        "df_clientes_aprovados['Mau'] = df_clientes_aprovados.apply(lambda x: 1 if x['Ind_Faixa_atraso'] > 3 else 0, axis= 1) \n",
        "df_clientes_aprovados.head()"
      ]
    },
    {
      "cell_type": "markdown",
      "metadata": {},
      "source": [
        "Foi considerado 3(Três) mês de atraso para o cliente se tornar um mau pagador."
      ]
    },
    {
      "cell_type": "code",
      "execution_count": 60,
      "metadata": {},
      "outputs": [
        {
          "data": {
            "image/png": "[encoded data removed]",
            "text/plain": [
              "<Figure size 432x288 with 1 Axes>"
            ]
          },
          "metadata": {},
          "output_type": "display_data"
        }
      ],
      "source": [
        "#Para ilustrar os bons pagadores e os maus.\n",
        "monta_graficos('count', df_clientes_aprovados, 'Mau', 'Maus Pagadores')"
      ]
    },
    {
      "cell_type": "markdown",
      "metadata": {},
      "source": [
        "Notasse uma enorme diferença entre os bons(muito) para os Maus(não é possível visualizar no gráfico). O'Que é bom pois o banco não pode aceitar muito clientes com esse perfil, pois caso aceito corre grande risco de falência.\n"
      ]
    },
    {
      "cell_type": "code",
      "execution_count": 111,
      "metadata": {},
      "outputs": [
        {
          "data": {
            "text/plain": [
              "(3104, 14)"
            ]
          },
          "execution_count": 111,
          "metadata": {},
          "output_type": "execute_result"
        }
      ],
      "source": [
        "df_clientes_aprovados.query(\"Mau == 1\").shape"
      ]
    },
    {
      "cell_type": "code",
      "execution_count": 112,
      "metadata": {},
      "outputs": [
        {
          "data": {
            "text/plain": [
              "(1045471, 14)"
            ]
          },
          "execution_count": 112,
          "metadata": {},
          "output_type": "execute_result"
        }
      ],
      "source": [
        "df_clientes_aprovados.query(\"Mau == 0\").shape"
      ]
    },
    {
      "cell_type": "markdown",
      "metadata": {},
      "source": [
        "Menos de 3% dos clientes são considerados 'Mau', sendo Maus Pagadores."
      ]
    },
    {
      "cell_type": "code",
      "execution_count": 62,
      "metadata": {},
      "outputs": [
        {
          "data": {
            "text/html": [
              "<div>\n",
              "<style scoped>\n",
              "    .dataframe tbody tr th:only-of-type {\n",
              "        vertical-align: middle;\n",
              "    }\n",
              "\n",
              "    .dataframe tbody tr th {\n",
              "        vertical-align: top;\n",
              "    }\n",
              "\n",
              "    .dataframe thead th {\n",
              "        text-align: right;\n",
              "    }\n",
              "</style>\n",
              "<table border=\"1\" class=\"dataframe\">\n",
              "  <thead>\n",
              "    <tr style=\"text-align: right;\">\n",
              "      <th></th>\n",
              "      <th>ID_Cliente</th>\n",
              "      <th>Abertura</th>\n",
              "      <th>Final</th>\n",
              "      <th>Janela</th>\n",
              "    </tr>\n",
              "  </thead>\n",
              "  <tbody>\n",
              "    <tr>\n",
              "      <th>0</th>\n",
              "      <td>5001711</td>\n",
              "      <td>-3</td>\n",
              "      <td>0</td>\n",
              "      <td>3</td>\n",
              "    </tr>\n",
              "    <tr>\n",
              "      <th>1</th>\n",
              "      <td>5001712</td>\n",
              "      <td>-18</td>\n",
              "      <td>0</td>\n",
              "      <td>18</td>\n",
              "    </tr>\n",
              "    <tr>\n",
              "      <th>2</th>\n",
              "      <td>5001713</td>\n",
              "      <td>-21</td>\n",
              "      <td>0</td>\n",
              "      <td>21</td>\n",
              "    </tr>\n",
              "    <tr>\n",
              "      <th>3</th>\n",
              "      <td>5001714</td>\n",
              "      <td>-14</td>\n",
              "      <td>0</td>\n",
              "      <td>14</td>\n",
              "    </tr>\n",
              "    <tr>\n",
              "      <th>4</th>\n",
              "      <td>5001715</td>\n",
              "      <td>-59</td>\n",
              "      <td>0</td>\n",
              "      <td>59</td>\n",
              "    </tr>\n",
              "    <tr>\n",
              "      <th>...</th>\n",
              "      <td>...</td>\n",
              "      <td>...</td>\n",
              "      <td>...</td>\n",
              "      <td>...</td>\n",
              "    </tr>\n",
              "    <tr>\n",
              "      <th>45980</th>\n",
              "      <td>5150482</td>\n",
              "      <td>-28</td>\n",
              "      <td>-11</td>\n",
              "      <td>17</td>\n",
              "    </tr>\n",
              "    <tr>\n",
              "      <th>45981</th>\n",
              "      <td>5150483</td>\n",
              "      <td>-17</td>\n",
              "      <td>0</td>\n",
              "      <td>17</td>\n",
              "    </tr>\n",
              "    <tr>\n",
              "      <th>45982</th>\n",
              "      <td>5150484</td>\n",
              "      <td>-12</td>\n",
              "      <td>0</td>\n",
              "      <td>12</td>\n",
              "    </tr>\n",
              "    <tr>\n",
              "      <th>45983</th>\n",
              "      <td>5150485</td>\n",
              "      <td>-1</td>\n",
              "      <td>0</td>\n",
              "      <td>1</td>\n",
              "    </tr>\n",
              "    <tr>\n",
              "      <th>45984</th>\n",
              "      <td>5150487</td>\n",
              "      <td>-29</td>\n",
              "      <td>0</td>\n",
              "      <td>29</td>\n",
              "    </tr>\n",
              "  </tbody>\n",
              "</table>\n",
              "<p>45985 rows × 4 columns</p>\n",
              "</div>"
            ],
            "text/plain": [
              "       ID_Cliente  Abertura  Final  Janela\n",
              "0         5001711        -3      0       3\n",
              "1         5001712       -18      0      18\n",
              "2         5001713       -21      0      21\n",
              "3         5001714       -14      0      14\n",
              "4         5001715       -59      0      59\n",
              "...           ...       ...    ...     ...\n",
              "45980     5150482       -28    -11      17\n",
              "45981     5150483       -17      0      17\n",
              "45982     5150484       -12      0      12\n",
              "45983     5150485        -1      0       1\n",
              "45984     5150487       -29      0      29\n",
              "\n",
              "[45985 rows x 4 columns]"
            ]
          },
          "execution_count": 62,
          "metadata": {},
          "output_type": "execute_result"
        }
      ],
      "source": [
        "# Para visualizar apenas o Cliente, sua abertura, seu último pagamento e a janela. \n",
        "df_registros_creditos_ID = df_clientes_aprovados[['ID_Cliente', 'Abertura', 'Final', 'Janela']].groupby('ID_Cliente').apply(lambda x: x.iloc[0]).reset_index(drop=True)\n",
        "df_registros_creditos_ID"
      ]
    },
    {
      "cell_type": "code",
      "execution_count": 114,
      "metadata": {},
      "outputs": [
        {
          "data": {
            "text/html": [
              "<div>\n",
              "<style scoped>\n",
              "    .dataframe tbody tr th:only-of-type {\n",
              "        vertical-align: middle;\n",
              "    }\n",
              "\n",
              "    .dataframe tbody tr th {\n",
              "        vertical-align: top;\n",
              "    }\n",
              "\n",
              "    .dataframe thead th {\n",
              "        text-align: right;\n",
              "    }\n",
              "</style>\n",
              "<table border=\"1\" class=\"dataframe\">\n",
              "  <thead>\n",
              "    <tr style=\"text-align: right;\">\n",
              "      <th></th>\n",
              "      <th>Abertura</th>\n",
              "      <th>Qtd_Clientes</th>\n",
              "    </tr>\n",
              "  </thead>\n",
              "  <tbody>\n",
              "    <tr>\n",
              "      <th>53</th>\n",
              "      <td>-7</td>\n",
              "      <td>1121</td>\n",
              "    </tr>\n",
              "    <tr>\n",
              "      <th>49</th>\n",
              "      <td>-11</td>\n",
              "      <td>1038</td>\n",
              "    </tr>\n",
              "    <tr>\n",
              "      <th>52</th>\n",
              "      <td>-8</td>\n",
              "      <td>1028</td>\n",
              "    </tr>\n",
              "    <tr>\n",
              "      <th>50</th>\n",
              "      <td>-10</td>\n",
              "      <td>1027</td>\n",
              "    </tr>\n",
              "    <tr>\n",
              "      <th>54</th>\n",
              "      <td>-6</td>\n",
              "      <td>1025</td>\n",
              "    </tr>\n",
              "    <tr>\n",
              "      <th>...</th>\n",
              "      <td>...</td>\n",
              "      <td>...</td>\n",
              "    </tr>\n",
              "    <tr>\n",
              "      <th>2</th>\n",
              "      <td>-58</td>\n",
              "      <td>440</td>\n",
              "    </tr>\n",
              "    <tr>\n",
              "      <th>0</th>\n",
              "      <td>-60</td>\n",
              "      <td>415</td>\n",
              "    </tr>\n",
              "    <tr>\n",
              "      <th>1</th>\n",
              "      <td>-59</td>\n",
              "      <td>406</td>\n",
              "    </tr>\n",
              "    <tr>\n",
              "      <th>3</th>\n",
              "      <td>-57</td>\n",
              "      <td>400</td>\n",
              "    </tr>\n",
              "    <tr>\n",
              "      <th>60</th>\n",
              "      <td>0</td>\n",
              "      <td>370</td>\n",
              "    </tr>\n",
              "  </tbody>\n",
              "</table>\n",
              "<p>61 rows × 2 columns</p>\n",
              "</div>"
            ],
            "text/plain": [
              "    Abertura  Qtd_Clientes\n",
              "53        -7          1121\n",
              "49       -11          1038\n",
              "52        -8          1028\n",
              "50       -10          1027\n",
              "54        -6          1025\n",
              "..       ...           ...\n",
              "2        -58           440\n",
              "0        -60           415\n",
              "1        -59           406\n",
              "3        -57           400\n",
              "60         0           370\n",
              "\n",
              "[61 rows x 2 columns]"
            ]
          },
          "execution_count": 114,
          "metadata": {},
          "output_type": "execute_result"
        }
      ],
      "source": [
        "# Para agrupar os clientes pelas aberturas.\n",
        "df_denominador = df_registros_creditos_ID.groupby('Abertura').apply(lambda x: x['ID_Cliente'].count()).reset_index()\n",
        "df_denominador.columns = ['Abertura', 'Qtd_Clientes']\n",
        "df_denominador.sort_values(by=['Qtd_Clientes'], ascending=False)"
      ]
    },
    {
      "cell_type": "markdown",
      "metadata": {},
      "source": [
        "Os dias mais recentes têm uma maior quantidade de abertura de clientes, o que pode ser explicado com o crescimento do banco, sendo assim ele comporta mais risco de crédito."
      ]
    },
    {
      "cell_type": "markdown",
      "metadata": {},
      "source": [
        "## Análise Vintage"
      ]
    },
    {
      "cell_type": "code",
      "execution_count": 64,
      "metadata": {},
      "outputs": [
        {
          "data": {
            "text/html": [
              "<div>\n",
              "<style scoped>\n",
              "    .dataframe tbody tr th:only-of-type {\n",
              "        vertical-align: middle;\n",
              "    }\n",
              "\n",
              "    .dataframe tbody tr th {\n",
              "        vertical-align: top;\n",
              "    }\n",
              "\n",
              "    .dataframe thead th {\n",
              "        text-align: right;\n",
              "    }\n",
              "</style>\n",
              "<table border=\"1\" class=\"dataframe\">\n",
              "  <thead>\n",
              "    <tr style=\"text-align: right;\">\n",
              "      <th></th>\n",
              "      <th>Abertura</th>\n",
              "      <th>MOB</th>\n",
              "      <th>Qtd_Clientes</th>\n",
              "    </tr>\n",
              "  </thead>\n",
              "  <tbody>\n",
              "    <tr>\n",
              "      <th>0</th>\n",
              "      <td>-60</td>\n",
              "      <td>0</td>\n",
              "      <td>415</td>\n",
              "    </tr>\n",
              "    <tr>\n",
              "      <th>1</th>\n",
              "      <td>-60</td>\n",
              "      <td>1</td>\n",
              "      <td>414</td>\n",
              "    </tr>\n",
              "    <tr>\n",
              "      <th>2</th>\n",
              "      <td>-60</td>\n",
              "      <td>2</td>\n",
              "      <td>410</td>\n",
              "    </tr>\n",
              "    <tr>\n",
              "      <th>3</th>\n",
              "      <td>-60</td>\n",
              "      <td>3</td>\n",
              "      <td>408</td>\n",
              "    </tr>\n",
              "    <tr>\n",
              "      <th>4</th>\n",
              "      <td>-60</td>\n",
              "      <td>4</td>\n",
              "      <td>403</td>\n",
              "    </tr>\n",
              "    <tr>\n",
              "      <th>...</th>\n",
              "      <td>...</td>\n",
              "      <td>...</td>\n",
              "      <td>...</td>\n",
              "    </tr>\n",
              "    <tr>\n",
              "      <th>1886</th>\n",
              "      <td>-2</td>\n",
              "      <td>1</td>\n",
              "      <td>770</td>\n",
              "    </tr>\n",
              "    <tr>\n",
              "      <th>1887</th>\n",
              "      <td>-2</td>\n",
              "      <td>2</td>\n",
              "      <td>750</td>\n",
              "    </tr>\n",
              "    <tr>\n",
              "      <th>1888</th>\n",
              "      <td>-1</td>\n",
              "      <td>0</td>\n",
              "      <td>686</td>\n",
              "    </tr>\n",
              "    <tr>\n",
              "      <th>1889</th>\n",
              "      <td>-1</td>\n",
              "      <td>1</td>\n",
              "      <td>682</td>\n",
              "    </tr>\n",
              "    <tr>\n",
              "      <th>1890</th>\n",
              "      <td>0</td>\n",
              "      <td>0</td>\n",
              "      <td>370</td>\n",
              "    </tr>\n",
              "  </tbody>\n",
              "</table>\n",
              "<p>1891 rows × 3 columns</p>\n",
              "</div>"
            ],
            "text/plain": [
              "      Abertura  MOB  Qtd_Clientes\n",
              "0          -60    0           415\n",
              "1          -60    1           414\n",
              "2          -60    2           410\n",
              "3          -60    3           408\n",
              "4          -60    4           403\n",
              "...        ...  ...           ...\n",
              "1886        -2    1           770\n",
              "1887        -2    2           750\n",
              "1888        -1    0           686\n",
              "1889        -1    1           682\n",
              "1890         0    0           370\n",
              "\n",
              "[1891 rows x 3 columns]"
            ]
          },
          "execution_count": 64,
          "metadata": {},
          "output_type": "execute_result"
        }
      ],
      "source": [
        "# Para ter uma ideia da quantidade de cliente com cada qual tempo de Abertura e também divido pelo MOB\n",
        "df_vintage = df_clientes_aprovados.groupby(['Abertura', 'MOB']).apply(lambda x: x['ID_Cliente'].count()).reset_index()\n",
        "df_vintage.columns = ['Abertura','MOB', 'Qtd_Clientes']\n",
        "df_vintage"
      ]
    },
    {
      "cell_type": "code",
      "execution_count": 65,
      "metadata": {},
      "outputs": [
        {
          "data": {
            "text/html": [
              "<div>\n",
              "<style scoped>\n",
              "    .dataframe tbody tr th:only-of-type {\n",
              "        vertical-align: middle;\n",
              "    }\n",
              "\n",
              "    .dataframe tbody tr th {\n",
              "        vertical-align: top;\n",
              "    }\n",
              "\n",
              "    .dataframe thead th {\n",
              "        text-align: right;\n",
              "    }\n",
              "</style>\n",
              "<table border=\"1\" class=\"dataframe\">\n",
              "  <thead>\n",
              "    <tr style=\"text-align: right;\">\n",
              "      <th></th>\n",
              "      <th>Abertura</th>\n",
              "      <th>MOB</th>\n",
              "      <th>Qtd_Clientes</th>\n",
              "    </tr>\n",
              "  </thead>\n",
              "  <tbody>\n",
              "    <tr>\n",
              "      <th>0</th>\n",
              "      <td>-60</td>\n",
              "      <td>0</td>\n",
              "      <td>415</td>\n",
              "    </tr>\n",
              "    <tr>\n",
              "      <th>1</th>\n",
              "      <td>-60</td>\n",
              "      <td>1</td>\n",
              "      <td>415</td>\n",
              "    </tr>\n",
              "    <tr>\n",
              "      <th>2</th>\n",
              "      <td>-60</td>\n",
              "      <td>2</td>\n",
              "      <td>415</td>\n",
              "    </tr>\n",
              "    <tr>\n",
              "      <th>3</th>\n",
              "      <td>-60</td>\n",
              "      <td>3</td>\n",
              "      <td>415</td>\n",
              "    </tr>\n",
              "    <tr>\n",
              "      <th>4</th>\n",
              "      <td>-60</td>\n",
              "      <td>4</td>\n",
              "      <td>415</td>\n",
              "    </tr>\n",
              "    <tr>\n",
              "      <th>...</th>\n",
              "      <td>...</td>\n",
              "      <td>...</td>\n",
              "      <td>...</td>\n",
              "    </tr>\n",
              "    <tr>\n",
              "      <th>1886</th>\n",
              "      <td>-2</td>\n",
              "      <td>1</td>\n",
              "      <td>771</td>\n",
              "    </tr>\n",
              "    <tr>\n",
              "      <th>1887</th>\n",
              "      <td>-2</td>\n",
              "      <td>2</td>\n",
              "      <td>771</td>\n",
              "    </tr>\n",
              "    <tr>\n",
              "      <th>1888</th>\n",
              "      <td>-1</td>\n",
              "      <td>0</td>\n",
              "      <td>686</td>\n",
              "    </tr>\n",
              "    <tr>\n",
              "      <th>1889</th>\n",
              "      <td>-1</td>\n",
              "      <td>1</td>\n",
              "      <td>686</td>\n",
              "    </tr>\n",
              "    <tr>\n",
              "      <th>1890</th>\n",
              "      <td>0</td>\n",
              "      <td>0</td>\n",
              "      <td>370</td>\n",
              "    </tr>\n",
              "  </tbody>\n",
              "</table>\n",
              "<p>1891 rows × 3 columns</p>\n",
              "</div>"
            ],
            "text/plain": [
              "      Abertura  MOB  Qtd_Clientes\n",
              "0          -60    0           415\n",
              "1          -60    1           415\n",
              "2          -60    2           415\n",
              "3          -60    3           415\n",
              "4          -60    4           415\n",
              "...        ...  ...           ...\n",
              "1886        -2    1           771\n",
              "1887        -2    2           771\n",
              "1888        -1    0           686\n",
              "1889        -1    1           686\n",
              "1890         0    0           370\n",
              "\n",
              "[1891 rows x 3 columns]"
            ]
          },
          "execution_count": 65,
          "metadata": {},
          "output_type": "execute_result"
        }
      ],
      "source": [
        "#Substituindo a quantidade de cliente em cada MOB pelo balanço final de clientes em cada abertura.\n",
        "df_vintage = pd.merge(df_vintage[['Abertura', 'MOB']], df_denominador, on=['Abertura'], how='left')\n",
        "df_vintage"
      ]
    },
    {
      "cell_type": "markdown",
      "metadata": {},
      "source": [
        "\n",
        "Por janela, qual a taxa de clintes considerados 'Mau's ? E quantos são?"
      ]
    },
    {
      "cell_type": "code",
      "execution_count": 67,
      "metadata": {},
      "outputs": [
        {
          "data": {
            "text/html": [
              "<div>\n",
              "<style scoped>\n",
              "    .dataframe tbody tr th:only-of-type {\n",
              "        vertical-align: middle;\n",
              "    }\n",
              "\n",
              "    .dataframe tbody tr th {\n",
              "        vertical-align: top;\n",
              "    }\n",
              "\n",
              "    .dataframe thead th {\n",
              "        text-align: right;\n",
              "    }\n",
              "</style>\n",
              "<table border=\"1\" class=\"dataframe\">\n",
              "  <thead>\n",
              "    <tr style=\"text-align: right;\">\n",
              "      <th></th>\n",
              "      <th>Abertura</th>\n",
              "      <th>MOB</th>\n",
              "      <th>Qtd_Clientes</th>\n",
              "      <th>Qtd_Mau</th>\n",
              "      <th>Taxa_de_Mau</th>\n",
              "    </tr>\n",
              "  </thead>\n",
              "  <tbody>\n",
              "    <tr>\n",
              "      <th>0</th>\n",
              "      <td>-60</td>\n",
              "      <td>0</td>\n",
              "      <td>415</td>\n",
              "      <td>0.0</td>\n",
              "      <td>0.000000</td>\n",
              "    </tr>\n",
              "    <tr>\n",
              "      <th>1</th>\n",
              "      <td>-60</td>\n",
              "      <td>1</td>\n",
              "      <td>415</td>\n",
              "      <td>0.0</td>\n",
              "      <td>0.000000</td>\n",
              "    </tr>\n",
              "    <tr>\n",
              "      <th>2</th>\n",
              "      <td>-60</td>\n",
              "      <td>2</td>\n",
              "      <td>415</td>\n",
              "      <td>0.0</td>\n",
              "      <td>0.000000</td>\n",
              "    </tr>\n",
              "    <tr>\n",
              "      <th>3</th>\n",
              "      <td>-60</td>\n",
              "      <td>3</td>\n",
              "      <td>415</td>\n",
              "      <td>0.0</td>\n",
              "      <td>0.000000</td>\n",
              "    </tr>\n",
              "    <tr>\n",
              "      <th>4</th>\n",
              "      <td>-60</td>\n",
              "      <td>4</td>\n",
              "      <td>415</td>\n",
              "      <td>0.0</td>\n",
              "      <td>0.000000</td>\n",
              "    </tr>\n",
              "    <tr>\n",
              "      <th>...</th>\n",
              "      <td>...</td>\n",
              "      <td>...</td>\n",
              "      <td>...</td>\n",
              "      <td>...</td>\n",
              "      <td>...</td>\n",
              "    </tr>\n",
              "    <tr>\n",
              "      <th>1886</th>\n",
              "      <td>-2</td>\n",
              "      <td>1</td>\n",
              "      <td>771</td>\n",
              "      <td>0.0</td>\n",
              "      <td>0.000000</td>\n",
              "    </tr>\n",
              "    <tr>\n",
              "      <th>1887</th>\n",
              "      <td>-2</td>\n",
              "      <td>2</td>\n",
              "      <td>771</td>\n",
              "      <td>1.0</td>\n",
              "      <td>0.001297</td>\n",
              "    </tr>\n",
              "    <tr>\n",
              "      <th>1888</th>\n",
              "      <td>-1</td>\n",
              "      <td>0</td>\n",
              "      <td>686</td>\n",
              "      <td>0.0</td>\n",
              "      <td>0.000000</td>\n",
              "    </tr>\n",
              "    <tr>\n",
              "      <th>1889</th>\n",
              "      <td>-1</td>\n",
              "      <td>1</td>\n",
              "      <td>686</td>\n",
              "      <td>0.0</td>\n",
              "      <td>0.000000</td>\n",
              "    </tr>\n",
              "    <tr>\n",
              "      <th>1890</th>\n",
              "      <td>0</td>\n",
              "      <td>0</td>\n",
              "      <td>370</td>\n",
              "      <td>0.0</td>\n",
              "      <td>0.000000</td>\n",
              "    </tr>\n",
              "  </tbody>\n",
              "</table>\n",
              "<p>1891 rows × 5 columns</p>\n",
              "</div>"
            ],
            "text/plain": [
              "      Abertura  MOB  Qtd_Clientes  Qtd_Mau  Taxa_de_Mau\n",
              "0          -60    0           415      0.0     0.000000\n",
              "1          -60    1           415      0.0     0.000000\n",
              "2          -60    2           415      0.0     0.000000\n",
              "3          -60    3           415      0.0     0.000000\n",
              "4          -60    4           415      0.0     0.000000\n",
              "...        ...  ...           ...      ...          ...\n",
              "1886        -2    1           771      0.0     0.000000\n",
              "1887        -2    2           771      1.0     0.001297\n",
              "1888        -1    0           686      0.0     0.000000\n",
              "1889        -1    1           686      0.0     0.000000\n",
              "1890         0    0           370      0.0     0.000000\n",
              "\n",
              "[1891 rows x 5 columns]"
            ]
          },
          "execution_count": 67,
          "metadata": {},
          "output_type": "execute_result"
        }
      ],
      "source": [
        "# Criando uma coluna 'Qtd_Mau' para armazenar a quantida de clientes considerados 'Mau'\n",
        "# Armazenado em uma lista cada vez que um cliente entra nos requisitos, e depois contando a uantidade por Abertura. \n",
        "df_vintage['Qtd_Mau'] = np.nan\n",
        "for j in range (-60,1):\n",
        "    ls = []\n",
        "    for i in range (0, 61):\n",
        "        due = list(df_clientes_aprovados.query('Mau == 1 and MOB == @i and Abertura == @j')['ID_Cliente'])\n",
        "        ls.extend(due)\n",
        "        df_vintage.loc[(df_vintage['MOB'] == i) & (df_vintage['Abertura'] == j), 'Qtd_Mau'] = len(set(ls))\n",
        "# Criando a Taxa de clientes 'Mau' com uma simples operação de dividr a quantidade de 'Mau' pelo total de clientes.\n",
        "df_vintage['Taxa_de_Mau'] = df_vintage['Qtd_Mau'] / df_vintage['Qtd_Clientes']\n",
        "df_vintage\n"
      ]
    },
    {
      "cell_type": "markdown",
      "metadata": {},
      "source": [
        "Para cada cliente foi gerado uma taxa de quanto mau pagador ele é."
      ]
    },
    {
      "cell_type": "code",
      "execution_count": 116,
      "metadata": {},
      "outputs": [
        {
          "data": {
            "text/html": [
              "<div>\n",
              "<style scoped>\n",
              "    .dataframe tbody tr th:only-of-type {\n",
              "        vertical-align: middle;\n",
              "    }\n",
              "\n",
              "    .dataframe tbody tr th {\n",
              "        vertical-align: top;\n",
              "    }\n",
              "\n",
              "    .dataframe thead th {\n",
              "        text-align: right;\n",
              "    }\n",
              "</style>\n",
              "<table border=\"1\" class=\"dataframe\">\n",
              "  <thead>\n",
              "    <tr style=\"text-align: right;\">\n",
              "      <th>MOB</th>\n",
              "      <th>0</th>\n",
              "      <th>1</th>\n",
              "      <th>2</th>\n",
              "      <th>3</th>\n",
              "      <th>4</th>\n",
              "      <th>5</th>\n",
              "      <th>6</th>\n",
              "      <th>7</th>\n",
              "      <th>8</th>\n",
              "      <th>9</th>\n",
              "      <th>...</th>\n",
              "      <th>51</th>\n",
              "      <th>52</th>\n",
              "      <th>53</th>\n",
              "      <th>54</th>\n",
              "      <th>55</th>\n",
              "      <th>56</th>\n",
              "      <th>57</th>\n",
              "      <th>58</th>\n",
              "      <th>59</th>\n",
              "      <th>60</th>\n",
              "    </tr>\n",
              "    <tr>\n",
              "      <th>Abertura</th>\n",
              "      <th></th>\n",
              "      <th></th>\n",
              "      <th></th>\n",
              "      <th></th>\n",
              "      <th></th>\n",
              "      <th></th>\n",
              "      <th></th>\n",
              "      <th></th>\n",
              "      <th></th>\n",
              "      <th></th>\n",
              "      <th></th>\n",
              "      <th></th>\n",
              "      <th></th>\n",
              "      <th></th>\n",
              "      <th></th>\n",
              "      <th></th>\n",
              "      <th></th>\n",
              "      <th></th>\n",
              "      <th></th>\n",
              "      <th></th>\n",
              "      <th></th>\n",
              "    </tr>\n",
              "  </thead>\n",
              "  <tbody>\n",
              "    <tr>\n",
              "      <th>-60</th>\n",
              "      <td>0.0</td>\n",
              "      <td>0.0</td>\n",
              "      <td>0.000000</td>\n",
              "      <td>0.000000</td>\n",
              "      <td>0.000000</td>\n",
              "      <td>0.002410</td>\n",
              "      <td>0.002410</td>\n",
              "      <td>0.007229</td>\n",
              "      <td>0.007229</td>\n",
              "      <td>0.009639</td>\n",
              "      <td>...</td>\n",
              "      <td>0.028916</td>\n",
              "      <td>0.028916</td>\n",
              "      <td>0.028916</td>\n",
              "      <td>0.028916</td>\n",
              "      <td>0.028916</td>\n",
              "      <td>0.028916</td>\n",
              "      <td>0.028916</td>\n",
              "      <td>0.031325</td>\n",
              "      <td>0.031325</td>\n",
              "      <td>0.031325</td>\n",
              "    </tr>\n",
              "    <tr>\n",
              "      <th>-59</th>\n",
              "      <td>0.0</td>\n",
              "      <td>0.0</td>\n",
              "      <td>0.000000</td>\n",
              "      <td>0.004926</td>\n",
              "      <td>0.004926</td>\n",
              "      <td>0.004926</td>\n",
              "      <td>0.007389</td>\n",
              "      <td>0.007389</td>\n",
              "      <td>0.007389</td>\n",
              "      <td>0.012315</td>\n",
              "      <td>...</td>\n",
              "      <td>0.029557</td>\n",
              "      <td>0.029557</td>\n",
              "      <td>0.029557</td>\n",
              "      <td>0.032020</td>\n",
              "      <td>0.032020</td>\n",
              "      <td>0.032020</td>\n",
              "      <td>0.032020</td>\n",
              "      <td>0.032020</td>\n",
              "      <td>0.032020</td>\n",
              "      <td>NaN</td>\n",
              "    </tr>\n",
              "    <tr>\n",
              "      <th>-58</th>\n",
              "      <td>0.0</td>\n",
              "      <td>0.0</td>\n",
              "      <td>0.000000</td>\n",
              "      <td>0.000000</td>\n",
              "      <td>0.000000</td>\n",
              "      <td>0.000000</td>\n",
              "      <td>0.000000</td>\n",
              "      <td>0.004545</td>\n",
              "      <td>0.006818</td>\n",
              "      <td>0.006818</td>\n",
              "      <td>...</td>\n",
              "      <td>0.025000</td>\n",
              "      <td>0.025000</td>\n",
              "      <td>0.025000</td>\n",
              "      <td>0.025000</td>\n",
              "      <td>0.025000</td>\n",
              "      <td>0.025000</td>\n",
              "      <td>0.025000</td>\n",
              "      <td>0.025000</td>\n",
              "      <td>NaN</td>\n",
              "      <td>NaN</td>\n",
              "    </tr>\n",
              "    <tr>\n",
              "      <th>-57</th>\n",
              "      <td>0.0</td>\n",
              "      <td>0.0</td>\n",
              "      <td>0.000000</td>\n",
              "      <td>0.000000</td>\n",
              "      <td>0.002500</td>\n",
              "      <td>0.002500</td>\n",
              "      <td>0.002500</td>\n",
              "      <td>0.007500</td>\n",
              "      <td>0.007500</td>\n",
              "      <td>0.007500</td>\n",
              "      <td>...</td>\n",
              "      <td>0.025000</td>\n",
              "      <td>0.025000</td>\n",
              "      <td>0.025000</td>\n",
              "      <td>0.025000</td>\n",
              "      <td>0.025000</td>\n",
              "      <td>0.025000</td>\n",
              "      <td>0.025000</td>\n",
              "      <td>NaN</td>\n",
              "      <td>NaN</td>\n",
              "      <td>NaN</td>\n",
              "    </tr>\n",
              "    <tr>\n",
              "      <th>-56</th>\n",
              "      <td>0.0</td>\n",
              "      <td>0.0</td>\n",
              "      <td>0.004255</td>\n",
              "      <td>0.004255</td>\n",
              "      <td>0.008511</td>\n",
              "      <td>0.010638</td>\n",
              "      <td>0.010638</td>\n",
              "      <td>0.017021</td>\n",
              "      <td>0.017021</td>\n",
              "      <td>0.021277</td>\n",
              "      <td>...</td>\n",
              "      <td>0.036170</td>\n",
              "      <td>0.036170</td>\n",
              "      <td>0.036170</td>\n",
              "      <td>0.036170</td>\n",
              "      <td>0.038298</td>\n",
              "      <td>0.038298</td>\n",
              "      <td>NaN</td>\n",
              "      <td>NaN</td>\n",
              "      <td>NaN</td>\n",
              "      <td>NaN</td>\n",
              "    </tr>\n",
              "    <tr>\n",
              "      <th>...</th>\n",
              "      <td>...</td>\n",
              "      <td>...</td>\n",
              "      <td>...</td>\n",
              "      <td>...</td>\n",
              "      <td>...</td>\n",
              "      <td>...</td>\n",
              "      <td>...</td>\n",
              "      <td>...</td>\n",
              "      <td>...</td>\n",
              "      <td>...</td>\n",
              "      <td>...</td>\n",
              "      <td>...</td>\n",
              "      <td>...</td>\n",
              "      <td>...</td>\n",
              "      <td>...</td>\n",
              "      <td>...</td>\n",
              "      <td>...</td>\n",
              "      <td>...</td>\n",
              "      <td>...</td>\n",
              "      <td>...</td>\n",
              "      <td>...</td>\n",
              "    </tr>\n",
              "    <tr>\n",
              "      <th>-4</th>\n",
              "      <td>0.0</td>\n",
              "      <td>0.0</td>\n",
              "      <td>0.000000</td>\n",
              "      <td>0.003432</td>\n",
              "      <td>0.003432</td>\n",
              "      <td>NaN</td>\n",
              "      <td>NaN</td>\n",
              "      <td>NaN</td>\n",
              "      <td>NaN</td>\n",
              "      <td>NaN</td>\n",
              "      <td>...</td>\n",
              "      <td>NaN</td>\n",
              "      <td>NaN</td>\n",
              "      <td>NaN</td>\n",
              "      <td>NaN</td>\n",
              "      <td>NaN</td>\n",
              "      <td>NaN</td>\n",
              "      <td>NaN</td>\n",
              "      <td>NaN</td>\n",
              "      <td>NaN</td>\n",
              "      <td>NaN</td>\n",
              "    </tr>\n",
              "    <tr>\n",
              "      <th>-3</th>\n",
              "      <td>0.0</td>\n",
              "      <td>0.0</td>\n",
              "      <td>0.001088</td>\n",
              "      <td>0.001088</td>\n",
              "      <td>NaN</td>\n",
              "      <td>NaN</td>\n",
              "      <td>NaN</td>\n",
              "      <td>NaN</td>\n",
              "      <td>NaN</td>\n",
              "      <td>NaN</td>\n",
              "      <td>...</td>\n",
              "      <td>NaN</td>\n",
              "      <td>NaN</td>\n",
              "      <td>NaN</td>\n",
              "      <td>NaN</td>\n",
              "      <td>NaN</td>\n",
              "      <td>NaN</td>\n",
              "      <td>NaN</td>\n",
              "      <td>NaN</td>\n",
              "      <td>NaN</td>\n",
              "      <td>NaN</td>\n",
              "    </tr>\n",
              "    <tr>\n",
              "      <th>-2</th>\n",
              "      <td>0.0</td>\n",
              "      <td>0.0</td>\n",
              "      <td>0.001297</td>\n",
              "      <td>NaN</td>\n",
              "      <td>NaN</td>\n",
              "      <td>NaN</td>\n",
              "      <td>NaN</td>\n",
              "      <td>NaN</td>\n",
              "      <td>NaN</td>\n",
              "      <td>NaN</td>\n",
              "      <td>...</td>\n",
              "      <td>NaN</td>\n",
              "      <td>NaN</td>\n",
              "      <td>NaN</td>\n",
              "      <td>NaN</td>\n",
              "      <td>NaN</td>\n",
              "      <td>NaN</td>\n",
              "      <td>NaN</td>\n",
              "      <td>NaN</td>\n",
              "      <td>NaN</td>\n",
              "      <td>NaN</td>\n",
              "    </tr>\n",
              "    <tr>\n",
              "      <th>-1</th>\n",
              "      <td>0.0</td>\n",
              "      <td>0.0</td>\n",
              "      <td>NaN</td>\n",
              "      <td>NaN</td>\n",
              "      <td>NaN</td>\n",
              "      <td>NaN</td>\n",
              "      <td>NaN</td>\n",
              "      <td>NaN</td>\n",
              "      <td>NaN</td>\n",
              "      <td>NaN</td>\n",
              "      <td>...</td>\n",
              "      <td>NaN</td>\n",
              "      <td>NaN</td>\n",
              "      <td>NaN</td>\n",
              "      <td>NaN</td>\n",
              "      <td>NaN</td>\n",
              "      <td>NaN</td>\n",
              "      <td>NaN</td>\n",
              "      <td>NaN</td>\n",
              "      <td>NaN</td>\n",
              "      <td>NaN</td>\n",
              "    </tr>\n",
              "    <tr>\n",
              "      <th>0</th>\n",
              "      <td>0.0</td>\n",
              "      <td>NaN</td>\n",
              "      <td>NaN</td>\n",
              "      <td>NaN</td>\n",
              "      <td>NaN</td>\n",
              "      <td>NaN</td>\n",
              "      <td>NaN</td>\n",
              "      <td>NaN</td>\n",
              "      <td>NaN</td>\n",
              "      <td>NaN</td>\n",
              "      <td>...</td>\n",
              "      <td>NaN</td>\n",
              "      <td>NaN</td>\n",
              "      <td>NaN</td>\n",
              "      <td>NaN</td>\n",
              "      <td>NaN</td>\n",
              "      <td>NaN</td>\n",
              "      <td>NaN</td>\n",
              "      <td>NaN</td>\n",
              "      <td>NaN</td>\n",
              "      <td>NaN</td>\n",
              "    </tr>\n",
              "  </tbody>\n",
              "</table>\n",
              "<p>61 rows × 61 columns</p>\n",
              "</div>"
            ],
            "text/plain": [
              "MOB        0    1         2         3         4         5         6   \\\n",
              "Abertura                                                               \n",
              "-60       0.0  0.0  0.000000  0.000000  0.000000  0.002410  0.002410   \n",
              "-59       0.0  0.0  0.000000  0.004926  0.004926  0.004926  0.007389   \n",
              "-58       0.0  0.0  0.000000  0.000000  0.000000  0.000000  0.000000   \n",
              "-57       0.0  0.0  0.000000  0.000000  0.002500  0.002500  0.002500   \n",
              "-56       0.0  0.0  0.004255  0.004255  0.008511  0.010638  0.010638   \n",
              "...       ...  ...       ...       ...       ...       ...       ...   \n",
              "-4        0.0  0.0  0.000000  0.003432  0.003432       NaN       NaN   \n",
              "-3        0.0  0.0  0.001088  0.001088       NaN       NaN       NaN   \n",
              "-2        0.0  0.0  0.001297       NaN       NaN       NaN       NaN   \n",
              "-1        0.0  0.0       NaN       NaN       NaN       NaN       NaN   \n",
              " 0        0.0  NaN       NaN       NaN       NaN       NaN       NaN   \n",
              "\n",
              "MOB             7         8         9   ...        51        52        53  \\\n",
              "Abertura                                ...                                 \n",
              "-60       0.007229  0.007229  0.009639  ...  0.028916  0.028916  0.028916   \n",
              "-59       0.007389  0.007389  0.012315  ...  0.029557  0.029557  0.029557   \n",
              "-58       0.004545  0.006818  0.006818  ...  0.025000  0.025000  0.025000   \n",
              "-57       0.007500  0.007500  0.007500  ...  0.025000  0.025000  0.025000   \n",
              "-56       0.017021  0.017021  0.021277  ...  0.036170  0.036170  0.036170   \n",
              "...            ...       ...       ...  ...       ...       ...       ...   \n",
              "-4             NaN       NaN       NaN  ...       NaN       NaN       NaN   \n",
              "-3             NaN       NaN       NaN  ...       NaN       NaN       NaN   \n",
              "-2             NaN       NaN       NaN  ...       NaN       NaN       NaN   \n",
              "-1             NaN       NaN       NaN  ...       NaN       NaN       NaN   \n",
              " 0             NaN       NaN       NaN  ...       NaN       NaN       NaN   \n",
              "\n",
              "MOB             54        55        56        57        58        59        60  \n",
              "Abertura                                                                        \n",
              "-60       0.028916  0.028916  0.028916  0.028916  0.031325  0.031325  0.031325  \n",
              "-59       0.032020  0.032020  0.032020  0.032020  0.032020  0.032020       NaN  \n",
              "-58       0.025000  0.025000  0.025000  0.025000  0.025000       NaN       NaN  \n",
              "-57       0.025000  0.025000  0.025000  0.025000       NaN       NaN       NaN  \n",
              "-56       0.036170  0.038298  0.038298       NaN       NaN       NaN       NaN  \n",
              "...            ...       ...       ...       ...       ...       ...       ...  \n",
              "-4             NaN       NaN       NaN       NaN       NaN       NaN       NaN  \n",
              "-3             NaN       NaN       NaN       NaN       NaN       NaN       NaN  \n",
              "-2             NaN       NaN       NaN       NaN       NaN       NaN       NaN  \n",
              "-1             NaN       NaN       NaN       NaN       NaN       NaN       NaN  \n",
              " 0             NaN       NaN       NaN       NaN       NaN       NaN       NaN  \n",
              "\n",
              "[61 rows x 61 columns]"
            ]
          },
          "execution_count": 116,
          "metadata": {},
          "output_type": "execute_result"
        }
      ],
      "source": [
        "#Criação de um data frame pivot\n",
        "df_vintage_pivot = df_vintage.pivot(index= 'Abertura',\n",
        "                            columns= 'MOB',\n",
        "                            values = 'Taxa_de_Mau')\n",
        "df_vintage_pivot"
      ]
    },
    {
      "cell_type": "code",
      "execution_count": 1,
      "metadata": {},
      "outputs": [
        {
          "ename": "NameError",
          "evalue": "name 'df_vintage_pivot' is not defined",
          "output_type": "error",
          "traceback": [
            "\u001b[1;31m---------------------------------------------------------------------------\u001b[0m",
            "\u001b[1;31mNameError\u001b[0m                                 Traceback (most recent call last)",
            "\u001b[1;32m~\\AppData\\Local\\Temp/ipykernel_10192/1331166843.py\u001b[0m in \u001b[0;36m<module>\u001b[1;34m\u001b[0m\n\u001b[0;32m      1\u001b[0m \u001b[1;31m# Para descobrir a tendência dos dados utilizando o dataframe pivot.\u001b[0m\u001b[1;33m\u001b[0m\u001b[1;33m\u001b[0m\u001b[0m\n\u001b[0;32m      2\u001b[0m \u001b[0mlst\u001b[0m \u001b[1;33m=\u001b[0m \u001b[1;33m[\u001b[0m\u001b[0mi\u001b[0m \u001b[1;32mfor\u001b[0m \u001b[0mi\u001b[0m \u001b[1;32min\u001b[0m \u001b[0mrange\u001b[0m\u001b[1;33m(\u001b[0m\u001b[1;36m0\u001b[0m\u001b[1;33m,\u001b[0m\u001b[1;36m61\u001b[0m\u001b[1;33m)\u001b[0m\u001b[1;33m]\u001b[0m\u001b[1;33m\u001b[0m\u001b[1;33m\u001b[0m\u001b[0m\n\u001b[1;32m----> 3\u001b[1;33m \u001b[0mdf_vintage_pivot\u001b[0m\u001b[1;33m[\u001b[0m\u001b[0mlst\u001b[0m\u001b[1;33m]\u001b[0m\u001b[1;33m.\u001b[0m\u001b[0mT\u001b[0m\u001b[1;33m.\u001b[0m\u001b[0miloc\u001b[0m\u001b[1;33m[\u001b[0m\u001b[1;33m:\u001b[0m\u001b[1;33m,\u001b[0m\u001b[1;33m:\u001b[0m\u001b[1;36m10\u001b[0m\u001b[1;33m]\u001b[0m\u001b[1;33m.\u001b[0m\u001b[0mplot\u001b[0m\u001b[1;33m(\u001b[0m\u001b[0mlegend\u001b[0m \u001b[1;33m=\u001b[0m \u001b[1;32mTrue\u001b[0m\u001b[1;33m,\u001b[0m \u001b[0mgrid\u001b[0m \u001b[1;33m=\u001b[0m \u001b[1;32mTrue\u001b[0m\u001b[1;33m,\u001b[0m \u001b[0mtitle\u001b[0m \u001b[1;33m=\u001b[0m \u001b[1;34m'% acumulado de maus clientes (Atraso > que 60 dias)'\u001b[0m\u001b[1;33m)\u001b[0m\u001b[1;33m\u001b[0m\u001b[1;33m\u001b[0m\u001b[0m\n\u001b[0m\u001b[0;32m      4\u001b[0m \u001b[1;33m\u001b[0m\u001b[0m\n\u001b[0;32m      5\u001b[0m \u001b[0mplt\u001b[0m\u001b[1;33m.\u001b[0m\u001b[0mxlabel\u001b[0m\u001b[1;33m(\u001b[0m\u001b[1;34m'MOB'\u001b[0m\u001b[1;33m)\u001b[0m\u001b[1;33m\u001b[0m\u001b[1;33m\u001b[0m\u001b[0m\n",
            "\u001b[1;31mNameError\u001b[0m: name 'df_vintage_pivot' is not defined"
          ]
        }
      ],
      "source": [
        "# Para descobrir a tendência dos dados utilizando o dataframe pivot.\n",
        "lst = [i for i in range(0,61)]\n",
        "df_vintage_pivot[lst].T.iloc[:,:10].plot(legend = True, grid = True, title = '% acumulado de maus clientes (Atraso > que 60 dias)')\n",
        "\n",
        "plt.xlabel('MOB')\n",
        "plt.ylabel('% acumulado de \"Mau\"s')\n",
        "plt.legend(bbox_to_anchor=(1.2, 1), title='Abertura')\n",
        "plt.show()"
      ]
    },
    {
      "cell_type": "markdown",
      "metadata": {},
      "source": [
        " \n",
        "Quanto maior crescer o MOB, mais se encontra 'Mau's pagadores.\n"
      ]
    },
    {
      "cell_type": "code",
      "execution_count": 70,
      "metadata": {},
      "outputs": [
        {
          "data": {
            "image/png": "[encoded data removed]",
            "text/plain": [
              "<Figure size 432x288 with 1 Axes>"
            ]
          },
          "metadata": {},
          "output_type": "display_data"
        }
      ],
      "source": [
        "sns.histplot(data=df_registros_creditos_ID, x='Janela', cumulative=True, stat='density', kde=True)\n",
        "plt.title('Distribuição de clientes por janela')\n",
        "plt.xlabel('Janela')\n",
        "plt.ylabel('Percentual de clientes')\n",
        "plt.show()"
      ]
    },
    {
      "cell_type": "markdown",
      "metadata": {},
      "source": [
        "O gráfico apresenta uma tendência de subida, a qual é esperada, com o passar das janelas"
      ]
    },
    {
      "cell_type": "code",
      "execution_count": 71,
      "metadata": {},
      "outputs": [],
      "source": [
        "# Cirnação de um dicionario para dar valor a os atrasos.\n",
        "dict_intervalo_atraso = {'maior_30_dias': 3, 'maior_60_dias': 4, 'maior_90_dias': 5,\n",
        "                        'maior_120_dias': 6, 'maior_150_dias': 7}"
      ]
    },
    {
      "cell_type": "markdown",
      "metadata": {},
      "source": [
        "Será utilizado para transformar cada intervalo de atraso em uma coluna."
      ]
    },
    {
      "cell_type": "code",
      "execution_count": 122,
      "metadata": {},
      "outputs": [],
      "source": [
        "# Criando uma coluna com para cada intervalo de atraso\n",
        "# Setando um até o maior maior_x_dias de cada cliente.\n",
        "for chave, valor in dict_intervalo_atraso.items():\n",
        "  df_clientes_aprovados[f'Mau_{chave}'] = df_clientes_aprovados.apply(lambda x: 1 if x['Ind_Faixa_atraso'] >= valor else 0, axis=1) # mais de 60\n",
        "df_clientes_aprovados.head()"
      ]
    },
    {
      "cell_type": "code",
      "execution_count": 73,
      "metadata": {},
      "outputs": [
        {
          "data": {
            "text/html": [
              "<div>\n",
              "<style scoped>\n",
              "    .dataframe tbody tr th:only-of-type {\n",
              "        vertical-align: middle;\n",
              "    }\n",
              "\n",
              "    .dataframe tbody tr th {\n",
              "        vertical-align: top;\n",
              "    }\n",
              "\n",
              "    .dataframe thead th {\n",
              "        text-align: right;\n",
              "    }\n",
              "</style>\n",
              "<table border=\"1\" class=\"dataframe\">\n",
              "  <thead>\n",
              "    <tr style=\"text-align: right;\">\n",
              "      <th></th>\n",
              "      <th>maior_30_dias</th>\n",
              "      <th>maior_60_dias</th>\n",
              "      <th>maior_90_dias</th>\n",
              "      <th>maior_120_dias</th>\n",
              "      <th>maior_150_dias</th>\n",
              "    </tr>\n",
              "  </thead>\n",
              "  <tbody>\n",
              "    <tr>\n",
              "      <th>0</th>\n",
              "      <td>0.000304</td>\n",
              "      <td>0.000022</td>\n",
              "      <td>0.000022</td>\n",
              "      <td>0.000022</td>\n",
              "      <td>0.000022</td>\n",
              "    </tr>\n",
              "    <tr>\n",
              "      <th>1</th>\n",
              "      <td>0.011612</td>\n",
              "      <td>0.000174</td>\n",
              "      <td>0.000087</td>\n",
              "      <td>0.000087</td>\n",
              "      <td>0.000087</td>\n",
              "    </tr>\n",
              "    <tr>\n",
              "      <th>2</th>\n",
              "      <td>0.025878</td>\n",
              "      <td>0.001153</td>\n",
              "      <td>0.000196</td>\n",
              "      <td>0.000174</td>\n",
              "      <td>0.000174</td>\n",
              "    </tr>\n",
              "    <tr>\n",
              "      <th>3</th>\n",
              "      <td>0.036860</td>\n",
              "      <td>0.002240</td>\n",
              "      <td>0.000696</td>\n",
              "      <td>0.000304</td>\n",
              "      <td>0.000304</td>\n",
              "    </tr>\n",
              "    <tr>\n",
              "      <th>4</th>\n",
              "      <td>0.047385</td>\n",
              "      <td>0.003392</td>\n",
              "      <td>0.001044</td>\n",
              "      <td>0.000696</td>\n",
              "      <td>0.000348</td>\n",
              "    </tr>\n",
              "    <tr>\n",
              "      <th>...</th>\n",
              "      <td>...</td>\n",
              "      <td>...</td>\n",
              "      <td>...</td>\n",
              "      <td>...</td>\n",
              "      <td>...</td>\n",
              "    </tr>\n",
              "    <tr>\n",
              "      <th>56</th>\n",
              "      <td>0.116321</td>\n",
              "      <td>0.014483</td>\n",
              "      <td>0.007176</td>\n",
              "      <td>0.005263</td>\n",
              "      <td>0.004219</td>\n",
              "    </tr>\n",
              "    <tr>\n",
              "      <th>57</th>\n",
              "      <td>0.116321</td>\n",
              "      <td>0.014483</td>\n",
              "      <td>0.007176</td>\n",
              "      <td>0.005263</td>\n",
              "      <td>0.004219</td>\n",
              "    </tr>\n",
              "    <tr>\n",
              "      <th>58</th>\n",
              "      <td>0.116321</td>\n",
              "      <td>0.014505</td>\n",
              "      <td>0.007198</td>\n",
              "      <td>0.005284</td>\n",
              "      <td>0.004241</td>\n",
              "    </tr>\n",
              "    <tr>\n",
              "      <th>59</th>\n",
              "      <td>0.116321</td>\n",
              "      <td>0.014505</td>\n",
              "      <td>0.007198</td>\n",
              "      <td>0.005284</td>\n",
              "      <td>0.004241</td>\n",
              "    </tr>\n",
              "    <tr>\n",
              "      <th>60</th>\n",
              "      <td>0.116342</td>\n",
              "      <td>0.014505</td>\n",
              "      <td>0.007198</td>\n",
              "      <td>0.005284</td>\n",
              "      <td>0.004241</td>\n",
              "    </tr>\n",
              "  </tbody>\n",
              "</table>\n",
              "<p>61 rows × 5 columns</p>\n",
              "</div>"
            ],
            "text/plain": [
              "    maior_30_dias  maior_60_dias  maior_90_dias  maior_120_dias  \\\n",
              "0        0.000304       0.000022       0.000022        0.000022   \n",
              "1        0.011612       0.000174       0.000087        0.000087   \n",
              "2        0.025878       0.001153       0.000196        0.000174   \n",
              "3        0.036860       0.002240       0.000696        0.000304   \n",
              "4        0.047385       0.003392       0.001044        0.000696   \n",
              "..            ...            ...            ...             ...   \n",
              "56       0.116321       0.014483       0.007176        0.005263   \n",
              "57       0.116321       0.014483       0.007176        0.005263   \n",
              "58       0.116321       0.014505       0.007198        0.005284   \n",
              "59       0.116321       0.014505       0.007198        0.005284   \n",
              "60       0.116342       0.014505       0.007198        0.005284   \n",
              "\n",
              "    maior_150_dias  \n",
              "0         0.000022  \n",
              "1         0.000087  \n",
              "2         0.000174  \n",
              "3         0.000304  \n",
              "4         0.000348  \n",
              "..             ...  \n",
              "56        0.004219  \n",
              "57        0.004219  \n",
              "58        0.004241  \n",
              "59        0.004241  \n",
              "60        0.004241  \n",
              "\n",
              "[61 rows x 5 columns]"
            ]
          },
          "execution_count": 73,
          "metadata": {},
          "output_type": "execute_result"
        }
      ],
      "source": [
        "# Criando Taxa de 'Mau' para cada um dos maior_x_dias\n",
        "# Quase da mesma forma que quando foi criado a Taxa_de_Mau\n",
        "dict_taxa_mau = {}\n",
        "id_sum = len(set(df_clientes_aprovados['ID_Cliente']))\n",
        "\n",
        "for chave in dict_intervalo_atraso.keys():\n",
        "  df_min_mau = df_clientes_aprovados.query(f'Mau_{chave} == 1').groupby('ID_Cliente')['MOB'].min().reset_index()\n",
        "  df_mob_taxa_mau = pd.DataFrame({'MOB':range(0,61), 'Taxa_Mau': np.nan})\n",
        "  lst = []\n",
        "  for i in range(0,61):\n",
        "      due = df_min_mau.query('MOB == @i')['ID_Cliente'].to_list()\n",
        "      lst.extend(due) #cumsum\n",
        "      df_mob_taxa_mau.loc[df_mob_taxa_mau['MOB'] == i, 'Taxa_Mau'] = len(set(lst)) / id_sum\n",
        "  dict_taxa_mau[chave] = df_mob_taxa_mau['Taxa_Mau']\n",
        "\n",
        "df_taxa_mau = pd.DataFrame(dict_taxa_mau)\n",
        "df_taxa_mau"
      ]
    },
    {
      "cell_type": "code",
      "execution_count": 74,
      "metadata": {},
      "outputs": [
        {
          "data": {
            "image/png": "[encoded data removed]",
            "text/plain": [
              "<Figure size 720x432 with 1 Axes>"
            ]
          },
          "metadata": {},
          "output_type": "display_data"
        }
      ],
      "source": [
        "# Para ver gráficamente como cada Taxa_X_dia se comporta.\n",
        "df_taxa_mau.plot(grid = True, title = '% acumulado de clientes \"Mau\"s para diversas faixas de atraso', figsize=(10, 6))\n",
        "plt.xlabel('MOB')\n",
        "plt.ylabel('% acumulado de clientes')\n",
        "plt.show()"
      ]
    },
    {
      "cell_type": "markdown",
      "metadata": {},
      "source": [
        "Como esperado, a maior_30_dias é a maior de todas, a fim todas as outras taxas tem q passar por ela, já que está feito de maneira acumulativa. Quanto maior os dias, menos tem gente consequentemente menos 'Mau' pagadores tem-se."
      ]
    },
    {
      "cell_type": "code",
      "execution_count": 75,
      "metadata": {},
      "outputs": [
        {
          "data": {
            "text/plain": [
              "30918"
            ]
          },
          "execution_count": 75,
          "metadata": {},
          "output_type": "execute_result"
        }
      ],
      "source": [
        "# contando os clientes com mais de 12meses (um ano).\n",
        "len(df_clientes_aprovados.query('Janela >= 12').groupby('ID_Cliente').count().index)"
      ]
    },
    {
      "cell_type": "code",
      "execution_count": 128,
      "metadata": {},
      "outputs": [
        {
          "data": {
            "text/plain": [
              "45985"
            ]
          },
          "execution_count": 128,
          "metadata": {},
          "output_type": "execute_result"
        }
      ],
      "source": [
        "len(df_clientes_aprovados.groupby('ID_Cliente').count().index)\n",
        "# Haverá um perda de 1/3 de clientes, porém como os mesmos tem pouco tempo de conta, não se perderá muits dados."
      ]
    },
    {
      "cell_type": "code",
      "execution_count": 76,
      "metadata": {},
      "outputs": [
        {
          "data": {
            "text/plain": [
              "(943061, 14)"
            ]
          },
          "execution_count": 76,
          "metadata": {},
          "output_type": "execute_result"
        }
      ],
      "source": [
        "# Apenas os clinetes com mais de 12meses (um ano) serão usados\n",
        "df_clientes_aprovados_tratamento1 = df_clientes_aprovados.query('Janela >= 12').copy()\n",
        "df_clientes_aprovados_tratamento1.shape"
      ]
    },
    {
      "cell_type": "code",
      "execution_count": 129,
      "metadata": {},
      "outputs": [
        {
          "data": {
            "text/plain": [
              "(1048575, 14)"
            ]
          },
          "execution_count": 129,
          "metadata": {},
          "output_type": "execute_result"
        }
      ],
      "source": [
        "# Para comparar com os dados de df_clientes_aprovados_tratamento1, para ter certeza de que nçao foi perdida muita coisa.\n",
        "df_clientes_aprovados.shape\n"
      ]
    },
    {
      "cell_type": "code",
      "execution_count": 77,
      "metadata": {},
      "outputs": [
        {
          "data": {
            "text/html": [
              "<div>\n",
              "<style scoped>\n",
              "    .dataframe tbody tr th:only-of-type {\n",
              "        vertical-align: middle;\n",
              "    }\n",
              "\n",
              "    .dataframe tbody tr th {\n",
              "        vertical-align: top;\n",
              "    }\n",
              "\n",
              "    .dataframe thead th {\n",
              "        text-align: right;\n",
              "    }\n",
              "</style>\n",
              "<table border=\"1\" class=\"dataframe\">\n",
              "  <thead>\n",
              "    <tr style=\"text-align: right;\">\n",
              "      <th></th>\n",
              "      <th>ID_Cliente</th>\n",
              "      <th>Mau</th>\n",
              "    </tr>\n",
              "  </thead>\n",
              "  <tbody>\n",
              "    <tr>\n",
              "      <th>0</th>\n",
              "      <td>5001712</td>\n",
              "      <td>0</td>\n",
              "    </tr>\n",
              "    <tr>\n",
              "      <th>1</th>\n",
              "      <td>5001713</td>\n",
              "      <td>0</td>\n",
              "    </tr>\n",
              "    <tr>\n",
              "      <th>2</th>\n",
              "      <td>5001714</td>\n",
              "      <td>0</td>\n",
              "    </tr>\n",
              "    <tr>\n",
              "      <th>3</th>\n",
              "      <td>5001715</td>\n",
              "      <td>0</td>\n",
              "    </tr>\n",
              "    <tr>\n",
              "      <th>4</th>\n",
              "      <td>5001717</td>\n",
              "      <td>0</td>\n",
              "    </tr>\n",
              "  </tbody>\n",
              "</table>\n",
              "</div>"
            ],
            "text/plain": [
              "   ID_Cliente  Mau\n",
              "0     5001712    0\n",
              "1     5001713    0\n",
              "2     5001714    0\n",
              "3     5001715    0\n",
              "4     5001717    0"
            ]
          },
          "execution_count": 77,
          "metadata": {},
          "output_type": "execute_result"
        }
      ],
      "source": [
        "# Definiindo como 'Mau' os clientes, por ID, que tenham mais de 60 dias de atraso.\n",
        "def verifica(registros):\n",
        "  lista_status = registros['Faixa_atraso'].to_list()\n",
        "  if '60-89 dias' in lista_status or '90-119 dias' in lista_status or '120-149 dias' in lista_status or '>150 dias' in lista_status:\n",
        "    return 1\n",
        "  else:\n",
        "    return 0\n",
        "  \n",
        "df_registros_creditos_id = pd.DataFrame(df_clientes_aprovados_tratamento1.groupby('ID_Cliente').apply(verifica)).reset_index()\n",
        "df_registros_creditos_id.columns = ['ID_Cliente', 'Mau']\n",
        "df_registros_creditos_id.head()"
      ]
    },
    {
      "cell_type": "markdown",
      "metadata": {},
      "source": [
        " \n",
        "Essa classificação é necessária para a criação de um alvo, para poder usar os dados em classificação rotulado, ou supervisionada.\n",
        "Que é o que estamos buscando com a análise de crédito. Saber se é possível aceitar o cliente ou não, com os dados passado por ele, depende de como ele será classificado.\n"
      ]
    },
    {
      "cell_type": "code",
      "execution_count": 78,
      "metadata": {},
      "outputs": [
        {
          "data": {
            "text/plain": [
              "(30918, 2)"
            ]
          },
          "execution_count": 78,
          "metadata": {},
          "output_type": "execute_result"
        }
      ],
      "source": [
        "# Apenas para saber a dimensão que o df_registros_creditos_id ficou no fim.\n",
        "df_registros_creditos_id.shape"
      ]
    },
    {
      "cell_type": "code",
      "execution_count": 79,
      "metadata": {},
      "outputs": [
        {
          "data": {
            "text/plain": [
              "(425822, 16)"
            ]
          },
          "execution_count": 79,
          "metadata": {},
          "output_type": "execute_result"
        }
      ],
      "source": [
        "# Apenas para saber a dimensão que o df_clientes_cadastrados_tratamento1 ficou no fim.\n",
        "df_clientes_cadastrados_tratamento1.shape"
      ]
    },
    {
      "cell_type": "markdown",
      "metadata": {},
      "source": [
        "## Preparação dos dados para Clientes Alvos"
      ]
    },
    {
      "cell_type": "code",
      "execution_count": 80,
      "metadata": {},
      "outputs": [
        {
          "data": {
            "text/html": [
              "<div>\n",
              "<style scoped>\n",
              "    .dataframe tbody tr th:only-of-type {\n",
              "        vertical-align: middle;\n",
              "    }\n",
              "\n",
              "    .dataframe tbody tr th {\n",
              "        vertical-align: top;\n",
              "    }\n",
              "\n",
              "    .dataframe thead th {\n",
              "        text-align: right;\n",
              "    }\n",
              "</style>\n",
              "<table border=\"1\" class=\"dataframe\">\n",
              "  <thead>\n",
              "    <tr style=\"text-align: right;\">\n",
              "      <th></th>\n",
              "      <th>ID_Cliente</th>\n",
              "      <th>Tem_Carro</th>\n",
              "      <th>Tem_Casa_Propria</th>\n",
              "      <th>Qtd_Filhos</th>\n",
              "      <th>Rendimento_Anual</th>\n",
              "      <th>Categoria_de_renda</th>\n",
              "      <th>Grau_Escolaridade</th>\n",
              "      <th>Estado_Civil</th>\n",
              "      <th>Moradia</th>\n",
              "      <th>Idade</th>\n",
              "      <th>Tem_telefone_trabalho</th>\n",
              "      <th>Tem_telefone_fixo</th>\n",
              "      <th>Tem_email</th>\n",
              "      <th>Ocupacao</th>\n",
              "      <th>Tamanho_Familia</th>\n",
              "      <th>Anos_empregado</th>\n",
              "      <th>Mau</th>\n",
              "    </tr>\n",
              "  </thead>\n",
              "  <tbody>\n",
              "    <tr>\n",
              "      <th>0</th>\n",
              "      <td>5008806</td>\n",
              "      <td>1</td>\n",
              "      <td>1</td>\n",
              "      <td>0</td>\n",
              "      <td>112500.0</td>\n",
              "      <td>Empregado</td>\n",
              "      <td>Ensino medio</td>\n",
              "      <td>Casado</td>\n",
              "      <td>Casa propria</td>\n",
              "      <td>59.0</td>\n",
              "      <td>0</td>\n",
              "      <td>0</td>\n",
              "      <td>0</td>\n",
              "      <td>Seguranca</td>\n",
              "      <td>2.0</td>\n",
              "      <td>3.1</td>\n",
              "      <td>0</td>\n",
              "    </tr>\n",
              "    <tr>\n",
              "      <th>1</th>\n",
              "      <td>5008810</td>\n",
              "      <td>0</td>\n",
              "      <td>1</td>\n",
              "      <td>0</td>\n",
              "      <td>270000.0</td>\n",
              "      <td>Associado comercial</td>\n",
              "      <td>Ensino medio</td>\n",
              "      <td>Solteiro</td>\n",
              "      <td>Casa propria</td>\n",
              "      <td>52.0</td>\n",
              "      <td>0</td>\n",
              "      <td>1</td>\n",
              "      <td>1</td>\n",
              "      <td>Venda</td>\n",
              "      <td>1.0</td>\n",
              "      <td>8.4</td>\n",
              "      <td>0</td>\n",
              "    </tr>\n",
              "    <tr>\n",
              "      <th>2</th>\n",
              "      <td>5008811</td>\n",
              "      <td>0</td>\n",
              "      <td>1</td>\n",
              "      <td>0</td>\n",
              "      <td>270000.0</td>\n",
              "      <td>Associado comercial</td>\n",
              "      <td>Ensino medio</td>\n",
              "      <td>Solteiro</td>\n",
              "      <td>Casa propria</td>\n",
              "      <td>52.0</td>\n",
              "      <td>0</td>\n",
              "      <td>1</td>\n",
              "      <td>1</td>\n",
              "      <td>Venda</td>\n",
              "      <td>1.0</td>\n",
              "      <td>8.4</td>\n",
              "      <td>0</td>\n",
              "    </tr>\n",
              "    <tr>\n",
              "      <th>3</th>\n",
              "      <td>5008812</td>\n",
              "      <td>0</td>\n",
              "      <td>1</td>\n",
              "      <td>0</td>\n",
              "      <td>283500.0</td>\n",
              "      <td>Pensionista</td>\n",
              "      <td>Ensino superior</td>\n",
              "      <td>Separado</td>\n",
              "      <td>Casa propria</td>\n",
              "      <td>62.0</td>\n",
              "      <td>0</td>\n",
              "      <td>0</td>\n",
              "      <td>0</td>\n",
              "      <td>Outros</td>\n",
              "      <td>1.0</td>\n",
              "      <td>-1.0</td>\n",
              "      <td>0</td>\n",
              "    </tr>\n",
              "    <tr>\n",
              "      <th>4</th>\n",
              "      <td>5008813</td>\n",
              "      <td>0</td>\n",
              "      <td>1</td>\n",
              "      <td>0</td>\n",
              "      <td>283500.0</td>\n",
              "      <td>Pensionista</td>\n",
              "      <td>Ensino superior</td>\n",
              "      <td>Separado</td>\n",
              "      <td>Casa propria</td>\n",
              "      <td>62.0</td>\n",
              "      <td>0</td>\n",
              "      <td>0</td>\n",
              "      <td>0</td>\n",
              "      <td>Outros</td>\n",
              "      <td>1.0</td>\n",
              "      <td>-1.0</td>\n",
              "      <td>0</td>\n",
              "    </tr>\n",
              "  </tbody>\n",
              "</table>\n",
              "</div>"
            ],
            "text/plain": [
              "   ID_Cliente  Tem_Carro  Tem_Casa_Propria  Qtd_Filhos  Rendimento_Anual  \\\n",
              "0     5008806          1                 1           0          112500.0   \n",
              "1     5008810          0                 1           0          270000.0   \n",
              "2     5008811          0                 1           0          270000.0   \n",
              "3     5008812          0                 1           0          283500.0   \n",
              "4     5008813          0                 1           0          283500.0   \n",
              "\n",
              "    Categoria_de_renda Grau_Escolaridade Estado_Civil       Moradia  Idade  \\\n",
              "0            Empregado      Ensino medio       Casado  Casa propria   59.0   \n",
              "1  Associado comercial      Ensino medio     Solteiro  Casa propria   52.0   \n",
              "2  Associado comercial      Ensino medio     Solteiro  Casa propria   52.0   \n",
              "3          Pensionista   Ensino superior     Separado  Casa propria   62.0   \n",
              "4          Pensionista   Ensino superior     Separado  Casa propria   62.0   \n",
              "\n",
              "   Tem_telefone_trabalho  Tem_telefone_fixo  Tem_email   Ocupacao  \\\n",
              "0                      0                  0          0  Seguranca   \n",
              "1                      0                  1          1      Venda   \n",
              "2                      0                  1          1      Venda   \n",
              "3                      0                  0          0     Outros   \n",
              "4                      0                  0          0     Outros   \n",
              "\n",
              "   Tamanho_Familia  Anos_empregado  Mau  \n",
              "0              2.0             3.1    0  \n",
              "1              1.0             8.4    0  \n",
              "2              1.0             8.4    0  \n",
              "3              1.0            -1.0    0  \n",
              "4              1.0            -1.0    0  "
            ]
          },
          "execution_count": 80,
          "metadata": {},
          "output_type": "execute_result"
        }
      ],
      "source": [
        "# Juntando tudo, o data frame que contém todas as informações de cada cliente com o seu veredito final, se é 'Mau' ou não.\n",
        "# Assim criando no target(Alvo)\n",
        "df_registro_clientes_targets = df_clientes_cadastrados_tratamento1.merge(df_registros_creditos_id, on='ID_Cliente')\n",
        "df_registro_clientes_targets.head()"
      ]
    },
    {
      "cell_type": "code",
      "execution_count": 81,
      "metadata": {},
      "outputs": [
        {
          "data": {
            "text/plain": [
              "0    97.726673\n",
              "1     2.273327\n",
              "Name: Mau, dtype: float64"
            ]
          },
          "execution_count": 81,
          "metadata": {},
          "output_type": "execute_result"
        }
      ],
      "source": [
        "# Para saber a porcentagem de cada caso, Mau ou 'bom' pagador\n",
        "df_registro_clientes_targets['Mau'].value_counts(normalize=True)*100\n",
        "# Talvez na modelagem seja necessário o uso de técnicas de balanceamento, senão um simples modelo Dummy chutando o mais frequente teria quase 98% de acerto.\n",
        "# E muito provavelmente isso se tornaria um prejuízo, afinal como todo novo cliente seria tido como 'bom', não seria possível medir nada.\n"
      ]
    },
    {
      "cell_type": "markdown",
      "metadata": {},
      "source": [
        "É possível notar uma esmagadora maioria como 'bom' pagador, o que é ótimo.\n",
        "Afinal de 'Mau's pagadores um banco não sobrevive.\n",
        "\n"
      ]
    },
    {
      "cell_type": "code",
      "execution_count": 82,
      "metadata": {},
      "outputs": [],
      "source": [
        "#Separando da lista de colunas categóricas, as que são binárias das que não são, com a finalidade de deixar os dados finais mais organizados.\n",
        "colunas_categoricas_binarias = ['Tem_Carro','Tem_Casa_Propria','Tem_telefone_trabalho','Tem_telefone_fixo','Tem_email']\n",
        "\n",
        "colunas_categoricas_nao_binarias = ['Categoria_de_renda','Grau_Escolaridade','Estado_Civil','Moradia','Ocupacao']\n"
      ]
    },
    {
      "cell_type": "code",
      "execution_count": 130,
      "metadata": {},
      "outputs": [
        {
          "data": {
            "text/html": [
              "<div>\n",
              "<style scoped>\n",
              "    .dataframe tbody tr th:only-of-type {\n",
              "        vertical-align: middle;\n",
              "    }\n",
              "\n",
              "    .dataframe tbody tr th {\n",
              "        vertical-align: top;\n",
              "    }\n",
              "\n",
              "    .dataframe thead th {\n",
              "        text-align: right;\n",
              "    }\n",
              "</style>\n",
              "<table border=\"1\" class=\"dataframe\">\n",
              "  <thead>\n",
              "    <tr style=\"text-align: right;\">\n",
              "      <th></th>\n",
              "      <th>ID_Cliente</th>\n",
              "      <th>Idade</th>\n",
              "      <th>Qtd_Filhos</th>\n",
              "      <th>Rendimento_Anual</th>\n",
              "      <th>Anos_empregado</th>\n",
              "      <th>Tamanho_Familia</th>\n",
              "      <th>Tem_Carro</th>\n",
              "      <th>Tem_Casa_Propria</th>\n",
              "      <th>Tem_telefone_trabalho</th>\n",
              "      <th>Tem_telefone_fixo</th>\n",
              "      <th>Tem_email</th>\n",
              "      <th>Categoria_de_renda</th>\n",
              "      <th>Grau_Escolaridade</th>\n",
              "      <th>Estado_Civil</th>\n",
              "      <th>Moradia</th>\n",
              "      <th>Ocupacao</th>\n",
              "      <th>Mau</th>\n",
              "    </tr>\n",
              "  </thead>\n",
              "  <tbody>\n",
              "    <tr>\n",
              "      <th>0</th>\n",
              "      <td>5008806</td>\n",
              "      <td>59.0</td>\n",
              "      <td>0</td>\n",
              "      <td>112500.0</td>\n",
              "      <td>3.1</td>\n",
              "      <td>2.0</td>\n",
              "      <td>1</td>\n",
              "      <td>1</td>\n",
              "      <td>0</td>\n",
              "      <td>0</td>\n",
              "      <td>0</td>\n",
              "      <td>Empregado</td>\n",
              "      <td>Ensino medio</td>\n",
              "      <td>Casado</td>\n",
              "      <td>Casa propria</td>\n",
              "      <td>Seguranca</td>\n",
              "      <td>0</td>\n",
              "    </tr>\n",
              "    <tr>\n",
              "      <th>1</th>\n",
              "      <td>5008810</td>\n",
              "      <td>52.0</td>\n",
              "      <td>0</td>\n",
              "      <td>270000.0</td>\n",
              "      <td>8.4</td>\n",
              "      <td>1.0</td>\n",
              "      <td>0</td>\n",
              "      <td>1</td>\n",
              "      <td>0</td>\n",
              "      <td>1</td>\n",
              "      <td>1</td>\n",
              "      <td>Associado comercial</td>\n",
              "      <td>Ensino medio</td>\n",
              "      <td>Solteiro</td>\n",
              "      <td>Casa propria</td>\n",
              "      <td>Venda</td>\n",
              "      <td>0</td>\n",
              "    </tr>\n",
              "    <tr>\n",
              "      <th>2</th>\n",
              "      <td>5008811</td>\n",
              "      <td>52.0</td>\n",
              "      <td>0</td>\n",
              "      <td>270000.0</td>\n",
              "      <td>8.4</td>\n",
              "      <td>1.0</td>\n",
              "      <td>0</td>\n",
              "      <td>1</td>\n",
              "      <td>0</td>\n",
              "      <td>1</td>\n",
              "      <td>1</td>\n",
              "      <td>Associado comercial</td>\n",
              "      <td>Ensino medio</td>\n",
              "      <td>Solteiro</td>\n",
              "      <td>Casa propria</td>\n",
              "      <td>Venda</td>\n",
              "      <td>0</td>\n",
              "    </tr>\n",
              "    <tr>\n",
              "      <th>3</th>\n",
              "      <td>5008812</td>\n",
              "      <td>62.0</td>\n",
              "      <td>0</td>\n",
              "      <td>283500.0</td>\n",
              "      <td>-1.0</td>\n",
              "      <td>1.0</td>\n",
              "      <td>0</td>\n",
              "      <td>1</td>\n",
              "      <td>0</td>\n",
              "      <td>0</td>\n",
              "      <td>0</td>\n",
              "      <td>Pensionista</td>\n",
              "      <td>Ensino superior</td>\n",
              "      <td>Separado</td>\n",
              "      <td>Casa propria</td>\n",
              "      <td>Outros</td>\n",
              "      <td>0</td>\n",
              "    </tr>\n",
              "    <tr>\n",
              "      <th>4</th>\n",
              "      <td>5008813</td>\n",
              "      <td>62.0</td>\n",
              "      <td>0</td>\n",
              "      <td>283500.0</td>\n",
              "      <td>-1.0</td>\n",
              "      <td>1.0</td>\n",
              "      <td>0</td>\n",
              "      <td>1</td>\n",
              "      <td>0</td>\n",
              "      <td>0</td>\n",
              "      <td>0</td>\n",
              "      <td>Pensionista</td>\n",
              "      <td>Ensino superior</td>\n",
              "      <td>Separado</td>\n",
              "      <td>Casa propria</td>\n",
              "      <td>Outros</td>\n",
              "      <td>0</td>\n",
              "    </tr>\n",
              "  </tbody>\n",
              "</table>\n",
              "</div>"
            ],
            "text/plain": [
              "   ID_Cliente  Idade  Qtd_Filhos  Rendimento_Anual  Anos_empregado  \\\n",
              "0     5008806   59.0           0          112500.0             3.1   \n",
              "1     5008810   52.0           0          270000.0             8.4   \n",
              "2     5008811   52.0           0          270000.0             8.4   \n",
              "3     5008812   62.0           0          283500.0            -1.0   \n",
              "4     5008813   62.0           0          283500.0            -1.0   \n",
              "\n",
              "   Tamanho_Familia  Tem_Carro  Tem_Casa_Propria  Tem_telefone_trabalho  \\\n",
              "0              2.0          1                 1                      0   \n",
              "1              1.0          0                 1                      0   \n",
              "2              1.0          0                 1                      0   \n",
              "3              1.0          0                 1                      0   \n",
              "4              1.0          0                 1                      0   \n",
              "\n",
              "   Tem_telefone_fixo  Tem_email   Categoria_de_renda Grau_Escolaridade  \\\n",
              "0                  0          0            Empregado      Ensino medio   \n",
              "1                  1          1  Associado comercial      Ensino medio   \n",
              "2                  1          1  Associado comercial      Ensino medio   \n",
              "3                  0          0          Pensionista   Ensino superior   \n",
              "4                  0          0          Pensionista   Ensino superior   \n",
              "\n",
              "  Estado_Civil       Moradia   Ocupacao  Mau  \n",
              "0       Casado  Casa propria  Seguranca    0  \n",
              "1     Solteiro  Casa propria      Venda    0  \n",
              "2     Solteiro  Casa propria      Venda    0  \n",
              "3     Separado  Casa propria     Outros    0  \n",
              "4     Separado  Casa propria     Outros    0  "
            ]
          },
          "execution_count": 130,
          "metadata": {},
          "output_type": "execute_result"
        }
      ],
      "source": [
        "# Juntando tudo de maneira organizada, assim serão utilizados nos modelos e predições. O que estará em outro notebook.\n",
        "df_registro_clientes_targets = df_registro_clientes_targets[['ID_Cliente'] + colunas_quantitativas + colunas_categoricas_binarias + colunas_categoricas_nao_binarias + ['Mau']]\n",
        "df_registro_clientes_targets.head()"
      ]
    }
  ],
  "metadata": {
    "colab": {
      "collapsed_sections": [],
      "name": "aula1.ipynb",
      "provenance": []
    },
    "interpreter": {
      "hash": "927276791a88d4724c6f5e1d6a7d7d9d027e3cbf1dc705b88c33b85f83d74329"
    },
    "kernelspec": {
      "display_name": "Python 3.10.1 64-bit",
      "language": "python",
      "name": "python3"
    },
    "language_info": {
      "codemirror_mode": {
        "name": "ipython",
        "version": 3
      },
      "file_extension": ".py",
      "mimetype": "text/x-python",
      "name": "python",
      "nbconvert_exporter": "python",
      "pygments_lexer": "ipython3",
      "version": "3.10.1"
    }
  },
  "nbformat": 4,
  "nbformat_minor": 0
}
